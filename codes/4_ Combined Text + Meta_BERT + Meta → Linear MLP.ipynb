{
 "cells": [
  {
   "cell_type": "code",
   "execution_count": 1,
   "id": "4c489e68-a0e6-4633-931d-da7d07ceeb21",
   "metadata": {},
   "outputs": [],
   "source": [
    "import numpy as np\n",
    "import seaborn as sns\n",
    "import pandas as pd\n",
    "import matplotlib.pyplot as plt\n",
    "import math\n",
    "from scipy import stats\n",
    "\n",
    "pd.set_option('display.max_columns', 300)\n",
    "pd.set_option('display.max_rows', 300)"
   ]
  },
  {
   "cell_type": "code",
   "execution_count": 2,
   "id": "709955a6-9d88-4c9f-a64a-475fd0ef8d6b",
   "metadata": {},
   "outputs": [],
   "source": [
    "train_df = pd.read_csv('clean_data.csv')\n",
    "val_df = pd.read_csv('clean_val.csv')\n",
    "test_df = pd.read_csv('clean_test.csv')"
   ]
  },
  {
   "cell_type": "code",
   "execution_count": 3,
   "id": "9b13cd49-daa5-4a15-a2c2-71519f3ff587",
   "metadata": {},
   "outputs": [],
   "source": [
    "train_df.dropna(inplace = True)"
   ]
  },
  {
   "cell_type": "code",
   "execution_count": 4,
   "id": "c68f1eb2-4242-47fc-9a2f-8ae1f39c9183",
   "metadata": {},
   "outputs": [
    {
     "data": {
      "text/plain": [
       "0"
      ]
     },
     "execution_count": 4,
     "metadata": {},
     "output_type": "execute_result"
    }
   ],
   "source": [
    "train_df.isnull().sum().sum()"
   ]
  },
  {
   "cell_type": "code",
   "execution_count": 5,
   "id": "0ee7f9e3-2478-4a11-b5ae-4604e17f0450",
   "metadata": {},
   "outputs": [],
   "source": [
    "with open(\"numerical.txt\", \"r\", encoding=\"utf-8\") as file:\n",
    "    numeric_features = [line.strip() for line in file.readlines()]\n",
    "    \n",
    "with open(\"cat.txt\", \"r\", encoding=\"utf-8\") as file:\n",
    "    cat_features = [line.strip() for line in file.readlines()]\n",
    "    \n",
    "with open(\"text.txt\", \"r\", encoding=\"utf-8\") as file:\n",
    "    text_features = [line.strip() for line in file.readlines()]"
   ]
  },
  {
   "cell_type": "code",
   "execution_count": 6,
   "id": "f549b29e-710d-4a27-96e5-3231539af9f8",
   "metadata": {},
   "outputs": [],
   "source": [
    "def combine_text(df):\n",
    "    df['combined_text'] = df['summary'] + \" [SEP] \"  + df['host_about'] + \" [SEP] \"\n",
    "    return "
   ]
  },
  {
   "cell_type": "code",
   "execution_count": 7,
   "id": "66d87822-dcfd-49b7-8255-6aa8ad571417",
   "metadata": {},
   "outputs": [],
   "source": [
    "combine_text(train_df)\n",
    "combine_text(val_df)\n",
    "combine_text(test_df)"
   ]
  },
  {
   "cell_type": "code",
   "execution_count": 8,
   "id": "dbd435e3-f99e-4561-8840-5700759c5fde",
   "metadata": {},
   "outputs": [],
   "source": [
    "from sklearn.base import BaseEstimator, TransformerMixin\n",
    "from sklearn.compose import ColumnTransformer\n",
    "from sklearn.pipeline import Pipeline\n",
    "from sklearn.preprocessing import StandardScaler, OneHotEncoder\n",
    "import torch\n",
    "import torch.nn as nn\n",
    "from torch.utils.data import Dataset, DataLoader\n",
    "from sklearn.metrics import mean_squared_error, mean_absolute_error\n",
    "from transformers import BertTokenizer, BertModel\n"
   ]
  },
  {
   "cell_type": "code",
   "execution_count": 9,
   "id": "a0c80dab-4277-4398-9635-3b99756be256",
   "metadata": {},
   "outputs": [],
   "source": [
    "class BoxCoxTransformer(BaseEstimator, TransformerMixin):\n",
    "    def __init__(self):\n",
    "        self.lambdas_ = {}\n",
    "\n",
    "    def fit(self, X, y=None):\n",
    "        X = X.copy()\n",
    "        for column in X.columns:\n",
    "            if any(X[column] <= 0):\n",
    "                X[column] = X[column] + abs(X[column].min()) + 1\n",
    "            _, lambda_optimal = stats.boxcox(X[column])\n",
    "            self.lambdas_[column] = lambda_optimal\n",
    "        return self\n",
    "\n",
    "    def transform(self, X):\n",
    "        X = X.copy()\n",
    "        for column, lambda_optimal in self.lambdas_.items():\n",
    "            if any(X[column] <= 0):\n",
    "                X[column] = X[column] + abs(X[column].min()) + 1\n",
    "            X[column] = stats.boxcox(X[column], lmbda=lambda_optimal)\n",
    "        return X"
   ]
  },
  {
   "cell_type": "code",
   "execution_count": 10,
   "id": "5e6ee057-7703-4044-b650-8224a1d0e675",
   "metadata": {},
   "outputs": [
    {
     "data": {
      "text/plain": [
       "ColumnTransformer(transformers=[('num',\n",
       "                                 Pipeline(steps=[('boxcox',\n",
       "                                                  BoxCoxTransformer()),\n",
       "                                                 ('scaler', StandardScaler())]),\n",
       "                                 ['accommodates', 'bathrooms', 'bedrooms',\n",
       "                                  'beds', 'cleaning_fee', 'guests_included',\n",
       "                                  'availability_30', 'availability_365',\n",
       "                                  'number_of_reviews']),\n",
       "                                ('cat', OneHotEncoder(handle_unknown='ignore'),\n",
       "                                 ['suburb', 'property_type', 'city',\n",
       "                                  'room_type', 'doub...\n",
       "                                  'tennis_court', 'elevator',\n",
       "                                  'family/kid_friendly', 'tv',\n",
       "                                  'air_conditioning', 'high_chair',\n",
       "                                  'dishwasher', 'brick_oven',\n",
       "                                  'long_term_stays_allowed',\n",
       "                                  'pack_’n_play/travel_crib', 'dryer', 'iron',\n",
       "                                  'hair_dryer', 'crib', 'indoor_fireplace',\n",
       "                                  'en_suite_bathroom', 'shampoo',\n",
       "                                  'carbon_monoxide_detector', 'baby_bath',\n",
       "                                  'self_check_in', 'mobile_hoist', 'pool',\n",
       "                                  'central_air_conditioning', ...])])"
      ]
     },
     "execution_count": 10,
     "metadata": {},
     "output_type": "execute_result"
    }
   ],
   "source": [
    "numeric_transformer = Pipeline([\n",
    "    ('boxcox', BoxCoxTransformer()),\n",
    "    ('scaler', StandardScaler())\n",
    "])\n",
    "\n",
    "preprocessor = ColumnTransformer(\n",
    "    transformers=[\n",
    "        ('num', numeric_transformer, numeric_features),\n",
    "        ('cat', OneHotEncoder(handle_unknown='ignore'), cat_features)\n",
    "    ]\n",
    ")\n",
    "\n",
    "preprocessor.fit(train_df)\n"
   ]
  },
  {
   "cell_type": "code",
   "execution_count": 11,
   "id": "338996d8-3db7-4948-834e-a61e5f784584",
   "metadata": {},
   "outputs": [],
   "source": [
    "class MyDataset(Dataset):\n",
    "    def __init__(self, data, text, normalized_label, target, tokenizer, max_len, preprocessor):\n",
    "        self.text = text.reset_index(drop=True)\n",
    "        self.normalized_label = normalized_label.reset_index(drop=True)\n",
    "        self.data = preprocessor.transform(data)\n",
    "        self.target = target.reset_index(drop=True)\n",
    "        self.tokenizer = tokenizer\n",
    "        self.max_len = max_len\n",
    "        \n",
    "    def __len__(self):\n",
    "        return len(self.target)\n",
    "\n",
    "    def __getitem__(self, index):\n",
    "        text = self.text.iloc[index]\n",
    "        normalized_label = self.normalized_label[index]\n",
    "        data = torch.tensor(self.data[index].toarray(), dtype=torch.float32) \n",
    "        encoding = self.tokenizer.encode_plus(\n",
    "                    text = text,\n",
    "                    padding = 'max_length',\n",
    "                    truncation = True,\n",
    "                    max_length=self.max_len,\n",
    "                    return_tensors = 'pt',\n",
    "                    return_token_type_ids = False,\n",
    "                    return_attention_mask = True )\n",
    "        target = self.target[index] \n",
    "        \n",
    "        return {'input_ids': encoding['input_ids'].flatten(),\n",
    "                'attention_mask': encoding['attention_mask'].flatten(),\n",
    "                'data': data,\n",
    "                'normalized_label':torch.tensor(normalized_label),\n",
    "                'target':torch.tensor(target)\n",
    "        }\n"
   ]
  },
  {
   "cell_type": "code",
   "execution_count": 12,
   "id": "d27364c9-99e0-4989-9c7b-3dd25c9bb811",
   "metadata": {},
   "outputs": [],
   "source": [
    "def normalize(x):\n",
    "    return (x - train_df['price'].min()) / (train_df['price'].max() - train_df['price'].min())\n",
    "\n",
    "def denormalize(x):\n",
    "    return x * (train_df['price'].max() - train_df['price'].min()) + train_df['price'].min()"
   ]
  },
  {
   "cell_type": "code",
   "execution_count": 13,
   "id": "ff03fd8c-7ab7-413a-ac59-5537014e4941",
   "metadata": {},
   "outputs": [],
   "source": [
    "train_df['normalized_price'] = train_df['price'].apply(normalize)\n",
    "val_df['normalized_price'] = val_df['price'].apply(normalize)\n",
    "test_df['normalized_price'] = test_df['price'].apply(normalize)"
   ]
  },
  {
   "cell_type": "code",
   "execution_count": 14,
   "id": "2f733ac8-f0b0-420d-b04b-dd236d229b86",
   "metadata": {},
   "outputs": [],
   "source": [
    "tokenizer = BertTokenizer.from_pretrained(\"bert-base-multilingual-cased\")\n",
    "max_len = 128"
   ]
  },
  {
   "cell_type": "code",
   "execution_count": 15,
   "id": "330da5b4-f51a-4502-aeaf-5e8a37dfd458",
   "metadata": {},
   "outputs": [],
   "source": [
    "batch_size = 32\n",
    "\n",
    "train_data_X = train_df[numeric_features + cat_features]\n",
    "train_text_X = train_df['combined_text']\n",
    "train_norm_y = train_df['normalized_price']\n",
    "train_y = train_df['price']\n",
    "\n",
    "val_data_X = val_df[numeric_features + cat_features]\n",
    "val_text_X = train_df['combined_text']\n",
    "val_norm_y = val_df['normalized_price']\n",
    "val_y = val_df['price']\n",
    "\n",
    "test_data_X = test_df[numeric_features + cat_features]\n",
    "test_text_X = train_df['combined_text']\n",
    "test_norm_y = test_df['normalized_price']\n",
    "test_y = test_df['price']\n",
    "\n",
    "train_dataset = MyDataset(train_data_X, train_text_X, train_norm_y, train_y, tokenizer, max_len, preprocessor=preprocessor)\n",
    "val_dataset = MyDataset(val_data_X, val_text_X, val_norm_y, val_y, tokenizer, max_len, preprocessor=preprocessor)\n",
    "test_dataset = MyDataset(test_data_X, test_text_X, test_norm_y, test_y, tokenizer, max_len, preprocessor=preprocessor)\n",
    "\n",
    "train_loader = DataLoader(train_dataset, batch_size = batch_size, shuffle = True)\n",
    "val_loader = DataLoader(val_dataset, batch_size = batch_size, shuffle = True)\n",
    "test_loader = DataLoader(test_dataset, batch_size = batch_size, shuffle = True)\n"
   ]
  },
  {
   "cell_type": "code",
   "execution_count": 16,
   "id": "744962c4-2b95-417d-b7e8-97a6d538d785",
   "metadata": {},
   "outputs": [],
   "source": [
    "class MultiModal_RegressionModel(nn.Module):\n",
    "    def __init__(self, num_numerical_features):\n",
    "        super(MultiModal_RegressionModel, self).__init__()\n",
    "        \n",
    "        self.bert_model = BertModel.from_pretrained('bert-base-multilingual-cased')\n",
    "        bert_output_dim = self.bert_model.config.hidden_size # 768\n",
    "        \n",
    "        for layer in self.bert_model.encoder.layer[:6]:\n",
    "            for param in layer.parameters():\n",
    "                param.requires_grad = False\n",
    "        \n",
    "        for layer in self.bert_model.encoder.layer[6:]:\n",
    "            for param in layer.parameters():\n",
    "                param.requires_grad = True  \n",
    "                \n",
    "        self.mlp = nn.Sequential(\n",
    "            nn.Linear(num_numerical_features, 64),\n",
    "            nn.BatchNorm1d(64),\n",
    "            nn.ReLU(),\n",
    "            nn.Dropout(0.2),\n",
    "            \n",
    "            nn.Linear(64, 32),\n",
    "            nn.BatchNorm1d(32),\n",
    "            nn.ReLU(),\n",
    "            nn.Dropout(0.2),\n",
    "            \n",
    "        )\n",
    "        \n",
    "        self.fc = nn.Sequential(\n",
    "            nn.Linear(bert_output_dim + 32, 32),\n",
    "            nn.ReLU(),\n",
    "            nn.Linear(32, 1)\n",
    "        )\n",
    "        \n",
    "    def forward(self, input_ids, attention_mask, numerical_features):\n",
    "        \n",
    "        bert_outputs = self.bert_model(input_ids=input_ids, attention_mask=attention_mask)\n",
    "        text_features = bert_outputs.pooler_output  \n",
    "\n",
    "        num_features_output = self.mlp(numerical_features)  \n",
    "\n",
    "     \n",
    "        combined_features = torch.cat((text_features, num_features_output), dim=1) \n",
    "\n",
    "        output = self.fc(combined_features) \n",
    "        return output"
   ]
  },
  {
   "cell_type": "code",
   "execution_count": 17,
   "id": "911e9a1c-e5dd-4227-99a2-e025cfb2a01b",
   "metadata": {},
   "outputs": [
    {
     "data": {
      "text/plain": [
       "device(type='cuda')"
      ]
     },
     "execution_count": 17,
     "metadata": {},
     "output_type": "execute_result"
    }
   ],
   "source": [
    "device = torch.device('cuda') if torch.cuda.is_available() else torch.device('cpu')\n",
    "device"
   ]
  },
  {
   "cell_type": "code",
   "execution_count": 18,
   "id": "089c99ca-6e3e-41fb-9159-425b9462c11e",
   "metadata": {},
   "outputs": [
    {
     "data": {
      "text/plain": [
       "723"
      ]
     },
     "execution_count": 18,
     "metadata": {},
     "output_type": "execute_result"
    }
   ],
   "source": [
    "preprocessor.transform(train_data_X).shape[1]"
   ]
  },
  {
   "cell_type": "code",
   "execution_count": 19,
   "id": "dc3c183b-d51d-4504-b79c-0696085a08b6",
   "metadata": {},
   "outputs": [
    {
     "name": "stderr",
     "output_type": "stream",
     "text": [
      "Some weights of the model checkpoint at bert-base-multilingual-cased were not used when initializing BertModel: ['cls.predictions.transform.LayerNorm.weight', 'cls.predictions.transform.dense.weight', 'cls.predictions.transform.dense.bias', 'cls.seq_relationship.weight', 'cls.predictions.transform.LayerNorm.bias', 'cls.seq_relationship.bias', 'cls.predictions.bias']\n",
      "- This IS expected if you are initializing BertModel from the checkpoint of a model trained on another task or with another architecture (e.g. initializing a BertForSequenceClassification model from a BertForPreTraining model).\n",
      "- This IS NOT expected if you are initializing BertModel from the checkpoint of a model that you expect to be exactly identical (initializing a BertForSequenceClassification model from a BertForSequenceClassification model).\n"
     ]
    }
   ],
   "source": [
    "input_dim = preprocessor.transform(train_data_X).shape[1]\n",
    "model = MultiModal_RegressionModel(input_dim)\n",
    "model = model.to(device)"
   ]
  },
  {
   "cell_type": "code",
   "execution_count": 20,
   "id": "61ad7dfd-cd2c-4a01-82ca-aad797db3ba5",
   "metadata": {},
   "outputs": [],
   "source": [
    "optimizer = torch.optim.Adam(model.parameters(), lr=0.001)\n",
    "criterion = nn.MSELoss()"
   ]
  },
  {
   "cell_type": "code",
   "execution_count": 21,
   "id": "320fae5d-6f06-4ae3-8ccf-a93adbdfcf42",
   "metadata": {},
   "outputs": [],
   "source": [
    "import time\n",
    "import math\n",
    "from tqdm import tqdm\n",
    "\n",
    "def rmse(y, y_predict):\n",
    "    mse = mean_squared_error(y, y_predict)\n",
    "    return math.sqrt(mse)\n",
    "\n",
    "def train(model, data_loader, optimizer, criterion, device):\n",
    "    model.train()\n",
    "    total_loss = 0\n",
    "    all_preds = []\n",
    "    all_labels = []\n",
    "    \n",
    "    start_time = time.time()\n",
    "    \n",
    "    for batch in tqdm(data_loader, desc=\"Training\", unit=\"batch\"):\n",
    "        input_ids = batch['input_ids'].to(device)\n",
    "        attention_mask = batch['attention_mask'].to(device)\n",
    "        data = batch['data'].view(batch['data'].size(0), -1).to(device)\n",
    "        normalized_label = batch['normalized_label'].float().unsqueeze(1).to(device)\n",
    "        targets = batch['target'].float().unsqueeze(1).to(device)\n",
    "        \n",
    "        optimizer.zero_grad()\n",
    "        \n",
    "        outputs = model(input_ids, attention_mask, data)\n",
    "       \n",
    "        loss = criterion(outputs, normalized_label)\n",
    "        total_loss += loss.item()\n",
    "        \n",
    "        loss.backward()\n",
    "        optimizer.step()\n",
    "        \n",
    "        outputs = denormalize(outputs)\n",
    "        \n",
    "        all_preds.extend(outputs.cpu().tolist())\n",
    "        all_labels.extend(targets.cpu().tolist())\n",
    "        \n",
    "    avg_loss = total_loss/len(data_loader)\n",
    "    train_mae = mean_absolute_error(all_labels, all_preds)\n",
    "    train_rmse = rmse(all_labels, all_preds)\n",
    "\n",
    "    end_time = time.time()  \n",
    "    epoch_duration = end_time - start_time  \n",
    "    \n",
    "    print(f'Training Loss: {avg_loss:.4f}, Train MAE: {train_mae:.4f}, Train RMSE: {train_rmse:.4f}, Time: {epoch_duration:.2f} seconds')\n",
    "    return avg_loss, train_mae\n",
    "\n",
    "def evaluate(model, data_loader, criterion, device):\n",
    "    \n",
    "    model.eval()\n",
    "    total_loss = 0\n",
    "    all_preds = []\n",
    "    all_labels = []\n",
    "    \n",
    "    start_time = time.time()\n",
    "    \n",
    "    with torch.no_grad():\n",
    "        for batch in tqdm(data_loader, desc=\"Validation\", unit=\"batch\"):\n",
    "            \n",
    "            input_ids = batch['input_ids'].to(device)\n",
    "            attention_mask = batch['attention_mask'].to(device)\n",
    "            data = batch['data'].view(batch['data'].size(0), -1).to(device)\n",
    "            normalized_label = batch['normalized_label'].float().unsqueeze(1).to(device)\n",
    "            targets = batch['target'].float().unsqueeze(1).to(device)\n",
    "            \n",
    "            outputs = model(input_ids, attention_mask, data)\n",
    "            \n",
    "            loss = criterion(outputs, normalized_label)\n",
    "            total_loss += loss.item()\n",
    "            \n",
    "            outputs = denormalize(outputs)\n",
    "            \n",
    "            all_preds.extend(outputs.cpu().tolist())\n",
    "            all_labels.extend(targets.cpu().tolist())\n",
    "    \n",
    "\n",
    "    avg_loss = total_loss/len(data_loader)\n",
    "    val_mae = mean_absolute_error(all_labels, all_preds)\n",
    "    val_rmse = rmse(all_labels, all_preds)\n",
    "\n",
    "    end_time = time.time()  \n",
    "    epoch_duration = end_time - start_time  \n",
    "    \n",
    "    print(f'Validation Loss: {avg_loss:.4f}, Validation MAE: {val_mae:.4f}, Validation RMSE: {val_rmse:.4f}, Time: {epoch_duration:.2f} seconds')\n",
    "    \n",
    "    return avg_loss, val_mae"
   ]
  },
  {
   "cell_type": "code",
   "execution_count": 22,
   "id": "9d9049c1-af24-4249-be2f-05b89c350466",
   "metadata": {
    "scrolled": true,
    "tags": []
   },
   "outputs": [
    {
     "name": "stdout",
     "output_type": "stream",
     "text": [
      "Epoch 1/10\n"
     ]
    },
    {
     "name": "stderr",
     "output_type": "stream",
     "text": [
      "Training: 100%|███████████████████████████████████████████████████████████████████| 561/561 [05:18<00:00,  1.76batch/s]\n"
     ]
    },
    {
     "name": "stdout",
     "output_type": "stream",
     "text": [
      "Training Loss: 0.0165, Train MAE: 60.7080, Train RMSE: 103.1897, Time: 318.32 seconds\n"
     ]
    },
    {
     "name": "stderr",
     "output_type": "stream",
     "text": [
      "Validation: 100%|███████████████████████████████████████████████████████████████████| 72/72 [00:18<00:00,  3.82batch/s]\n"
     ]
    },
    {
     "name": "stdout",
     "output_type": "stream",
     "text": [
      "Validation Loss: 0.1211, Validation MAE: 55.2290, Validation RMSE: 280.3137, Time: 18.87 seconds\n",
      "Best model saved with validation MAE: 55.2290\n",
      "----------------------------------------------------------------------------------------------------\n",
      "Epoch 2/10\n"
     ]
    },
    {
     "name": "stderr",
     "output_type": "stream",
     "text": [
      "Training: 100%|███████████████████████████████████████████████████████████████████| 561/561 [05:40<00:00,  1.65batch/s]\n"
     ]
    },
    {
     "name": "stdout",
     "output_type": "stream",
     "text": [
      "Training Loss: 0.0082, Train MAE: 44.2974, Train RMSE: 72.7588, Time: 340.17 seconds\n"
     ]
    },
    {
     "name": "stderr",
     "output_type": "stream",
     "text": [
      "Validation: 100%|███████████████████████████████████████████████████████████████████| 72/72 [00:19<00:00,  3.72batch/s]\n"
     ]
    },
    {
     "name": "stdout",
     "output_type": "stream",
     "text": [
      "Validation Loss: 0.1242, Validation MAE: 67.2481, Validation RMSE: 284.0526, Time: 19.34 seconds\n",
      "----------------------------------------------------------------------------------------------------\n",
      "Epoch 3/10\n"
     ]
    },
    {
     "name": "stderr",
     "output_type": "stream",
     "text": [
      "Training: 100%|███████████████████████████████████████████████████████████████████| 561/561 [05:41<00:00,  1.64batch/s]\n"
     ]
    },
    {
     "name": "stdout",
     "output_type": "stream",
     "text": [
      "Training Loss: 0.0077, Train MAE: 42.4591, Train RMSE: 70.4942, Time: 341.20 seconds\n"
     ]
    },
    {
     "name": "stderr",
     "output_type": "stream",
     "text": [
      "Validation: 100%|███████████████████████████████████████████████████████████████████| 72/72 [00:19<00:00,  3.77batch/s]\n"
     ]
    },
    {
     "name": "stdout",
     "output_type": "stream",
     "text": [
      "Validation Loss: 0.1191, Validation MAE: 53.9015, Validation RMSE: 278.1566, Time: 19.11 seconds\n",
      "Best model saved with validation MAE: 53.9015\n",
      "----------------------------------------------------------------------------------------------------\n",
      "Epoch 4/10\n"
     ]
    },
    {
     "name": "stderr",
     "output_type": "stream",
     "text": [
      "Training: 100%|███████████████████████████████████████████████████████████████████| 561/561 [05:45<00:00,  1.62batch/s]\n"
     ]
    },
    {
     "name": "stdout",
     "output_type": "stream",
     "text": [
      "Training Loss: 0.0075, Train MAE: 42.0722, Train RMSE: 69.3298, Time: 345.53 seconds\n"
     ]
    },
    {
     "name": "stderr",
     "output_type": "stream",
     "text": [
      "Validation: 100%|███████████████████████████████████████████████████████████████████| 72/72 [00:19<00:00,  3.72batch/s]\n"
     ]
    },
    {
     "name": "stdout",
     "output_type": "stream",
     "text": [
      "Validation Loss: 0.1191, Validation MAE: 52.1209, Validation RMSE: 278.1376, Time: 19.38 seconds\n",
      "Best model saved with validation MAE: 52.1209\n",
      "----------------------------------------------------------------------------------------------------\n",
      "Epoch 5/10\n"
     ]
    },
    {
     "name": "stderr",
     "output_type": "stream",
     "text": [
      "Training: 100%|███████████████████████████████████████████████████████████████████| 561/561 [05:45<00:00,  1.62batch/s]\n"
     ]
    },
    {
     "name": "stdout",
     "output_type": "stream",
     "text": [
      "Training Loss: 0.0071, Train MAE: 41.2544, Train RMSE: 67.7611, Time: 345.50 seconds\n"
     ]
    },
    {
     "name": "stderr",
     "output_type": "stream",
     "text": [
      "Validation: 100%|███████████████████████████████████████████████████████████████████| 72/72 [00:19<00:00,  3.61batch/s]\n"
     ]
    },
    {
     "name": "stdout",
     "output_type": "stream",
     "text": [
      "Validation Loss: 0.1188, Validation MAE: 55.3955, Validation RMSE: 277.7161, Time: 19.96 seconds\n",
      "----------------------------------------------------------------------------------------------------\n",
      "Epoch 6/10\n"
     ]
    },
    {
     "name": "stderr",
     "output_type": "stream",
     "text": [
      "Training: 100%|███████████████████████████████████████████████████████████████████| 561/561 [05:45<00:00,  1.63batch/s]\n"
     ]
    },
    {
     "name": "stdout",
     "output_type": "stream",
     "text": [
      "Training Loss: 0.0068, Train MAE: 40.4724, Train RMSE: 66.2298, Time: 345.14 seconds\n"
     ]
    },
    {
     "name": "stderr",
     "output_type": "stream",
     "text": [
      "Validation: 100%|███████████████████████████████████████████████████████████████████| 72/72 [00:19<00:00,  3.70batch/s]\n"
     ]
    },
    {
     "name": "stdout",
     "output_type": "stream",
     "text": [
      "Validation Loss: 0.1212, Validation MAE: 56.3580, Validation RMSE: 280.5236, Time: 19.48 seconds\n",
      "----------------------------------------------------------------------------------------------------\n",
      "Epoch 7/10\n"
     ]
    },
    {
     "name": "stderr",
     "output_type": "stream",
     "text": [
      "Training: 100%|███████████████████████████████████████████████████████████████████| 561/561 [05:45<00:00,  1.63batch/s]\n"
     ]
    },
    {
     "name": "stdout",
     "output_type": "stream",
     "text": [
      "Training Loss: 0.0066, Train MAE: 39.7789, Train RMSE: 65.3970, Time: 345.21 seconds\n"
     ]
    },
    {
     "name": "stderr",
     "output_type": "stream",
     "text": [
      "Validation: 100%|███████████████████████████████████████████████████████████████████| 72/72 [00:19<00:00,  3.73batch/s]\n"
     ]
    },
    {
     "name": "stdout",
     "output_type": "stream",
     "text": [
      "Validation Loss: 0.1188, Validation MAE: 58.1653, Validation RMSE: 277.6084, Time: 19.31 seconds\n",
      "----------------------------------------------------------------------------------------------------\n",
      "Epoch 8/10\n"
     ]
    },
    {
     "name": "stderr",
     "output_type": "stream",
     "text": [
      "Training: 100%|███████████████████████████████████████████████████████████████████| 561/561 [05:45<00:00,  1.62batch/s]\n"
     ]
    },
    {
     "name": "stdout",
     "output_type": "stream",
     "text": [
      "Training Loss: 0.0064, Train MAE: 39.6837, Train RMSE: 64.4249, Time: 345.80 seconds\n"
     ]
    },
    {
     "name": "stderr",
     "output_type": "stream",
     "text": [
      "Validation: 100%|███████████████████████████████████████████████████████████████████| 72/72 [00:19<00:00,  3.72batch/s]\n"
     ]
    },
    {
     "name": "stdout",
     "output_type": "stream",
     "text": [
      "Validation Loss: 0.1190, Validation MAE: 54.0286, Validation RMSE: 277.9683, Time: 19.38 seconds\n",
      "----------------------------------------------------------------------------------------------------\n",
      "Epoch 9/10\n"
     ]
    },
    {
     "name": "stderr",
     "output_type": "stream",
     "text": [
      "Training: 100%|███████████████████████████████████████████████████████████████████| 561/561 [05:46<00:00,  1.62batch/s]\n"
     ]
    },
    {
     "name": "stdout",
     "output_type": "stream",
     "text": [
      "Training Loss: 0.0064, Train MAE: 39.0541, Train RMSE: 63.9878, Time: 346.64 seconds\n"
     ]
    },
    {
     "name": "stderr",
     "output_type": "stream",
     "text": [
      "Validation: 100%|███████████████████████████████████████████████████████████████████| 72/72 [00:19<00:00,  3.71batch/s]\n"
     ]
    },
    {
     "name": "stdout",
     "output_type": "stream",
     "text": [
      "Validation Loss: 0.1183, Validation MAE: 53.2976, Validation RMSE: 277.1546, Time: 19.44 seconds\n",
      "----------------------------------------------------------------------------------------------------\n",
      "Epoch 10/10\n"
     ]
    },
    {
     "name": "stderr",
     "output_type": "stream",
     "text": [
      "Training: 100%|███████████████████████████████████████████████████████████████████| 561/561 [05:45<00:00,  1.62batch/s]\n"
     ]
    },
    {
     "name": "stdout",
     "output_type": "stream",
     "text": [
      "Training Loss: 0.0060, Train MAE: 38.2230, Train RMSE: 62.4193, Time: 345.77 seconds\n"
     ]
    },
    {
     "name": "stderr",
     "output_type": "stream",
     "text": [
      "Validation: 100%|███████████████████████████████████████████████████████████████████| 72/72 [00:19<00:00,  3.73batch/s]"
     ]
    },
    {
     "name": "stdout",
     "output_type": "stream",
     "text": [
      "Validation Loss: 0.1181, Validation MAE: 52.2401, Validation RMSE: 277.0105, Time: 19.30 seconds\n",
      "----------------------------------------------------------------------------------------------------\n"
     ]
    },
    {
     "name": "stderr",
     "output_type": "stream",
     "text": [
      "\n"
     ]
    }
   ],
   "source": [
    "best_val_loss = float('inf')  \n",
    "best_val_mae = float('inf')              \n",
    "model_save_path = \"4.pth\"\n",
    "\n",
    "num_epochs = 10\n",
    "\n",
    "train_losses = []\n",
    "val_losses = []\n",
    "train_mae_scores = []\n",
    "val_mae_scores = []\n",
    "\n",
    "for epoch in range(num_epochs):\n",
    "    print(f\"Epoch {epoch + 1}/{num_epochs}\")\n",
    "    \n",
    "    train_loss, train_mae = train(model, train_loader, optimizer, criterion, device)\n",
    "    val_loss, val_mae = evaluate(model, val_loader, criterion, device)\n",
    "    \n",
    "    train_losses.append(train_loss)  \n",
    "    train_mae_scores.append(train_mae)  \n",
    "    val_losses.append(val_loss)  \n",
    "    val_mae_scores.append(val_mae)  \n",
    "    \n",
    "    if val_mae < best_val_mae:\n",
    "        best_val_mae = val_mae\n",
    "        torch.save(model.state_dict(), model_save_path)   \n",
    "        print(f\"Best model saved with validation MAE: {best_val_mae:.4f}\")\n",
    "\n",
    "    print('-' * 100)"
   ]
  },
  {
   "cell_type": "code",
   "execution_count": 23,
   "id": "8b6aac96-8f27-4ce6-9b7e-fa46ace27db2",
   "metadata": {},
   "outputs": [
    {
     "name": "stderr",
     "output_type": "stream",
     "text": [
      "Some weights of the model checkpoint at bert-base-multilingual-cased were not used when initializing BertModel: ['cls.predictions.transform.LayerNorm.weight', 'cls.predictions.transform.dense.weight', 'cls.predictions.transform.dense.bias', 'cls.seq_relationship.weight', 'cls.predictions.transform.LayerNorm.bias', 'cls.seq_relationship.bias', 'cls.predictions.bias']\n",
      "- This IS expected if you are initializing BertModel from the checkpoint of a model trained on another task or with another architecture (e.g. initializing a BertForSequenceClassification model from a BertForPreTraining model).\n",
      "- This IS NOT expected if you are initializing BertModel from the checkpoint of a model that you expect to be exactly identical (initializing a BertForSequenceClassification model from a BertForSequenceClassification model).\n",
      "Testing: 100%|██████████████████████████████████████████████████████████████████████| 72/72 [00:19<00:00,  3.76batch/s]"
     ]
    },
    {
     "name": "stdout",
     "output_type": "stream",
     "text": [
      "Testing MAE: 47.2100, Testing RMSE: 137.6067, Time: 19.17 seconds\n"
     ]
    },
    {
     "name": "stderr",
     "output_type": "stream",
     "text": [
      "\n"
     ]
    }
   ],
   "source": [
    "model1 = MultiModal_RegressionModel(input_dim)\n",
    "model1.to(device)\n",
    "\n",
    "model1.load_state_dict(torch.load(model_save_path))\n",
    "model1.to(device)\n",
    "all_labels = []\n",
    "all_preds = []\n",
    "\n",
    "start_time = time.time()\n",
    "\n",
    "with torch.no_grad():\n",
    "    for batch in tqdm(test_loader, desc=\"Testing\", unit=\"batch\"):\n",
    "\n",
    "        input_ids = batch['input_ids'].to(device)\n",
    "        attention_mask = batch['attention_mask'].to(device)\n",
    "        data = batch['data'].view(batch['data'].size(0), -1).to(device)\n",
    "        normalized_label = batch['normalized_label'].float().unsqueeze(1).to(device)\n",
    "        targets = batch['target'].float().unsqueeze(1).to(device)\n",
    "            \n",
    "        outputs = model(input_ids, attention_mask, data)\n",
    "        outputs = denormalize(outputs)\n",
    "        \n",
    "        all_preds.extend(outputs.cpu().tolist())\n",
    "        all_labels.extend(targets.cpu().tolist())\n",
    "        \n",
    "all_labels = np.array(all_labels).flatten()\n",
    "all_preds = np.array(all_preds).flatten()\n",
    "        \n",
    "test_mae = mean_absolute_error(all_labels, all_preds)\n",
    "test_rmse = rmse(all_labels, all_preds)\n",
    "\n",
    "end_time = time.time()  \n",
    "epoch_duration = end_time - start_time\n",
    "\n",
    "print(f'Testing MAE: {test_mae:.4f}, Testing RMSE: {test_rmse:.4f}, Time: {epoch_duration:.2f} seconds')"
   ]
  },
  {
   "cell_type": "code",
   "execution_count": null,
   "id": "26a894fe-a7a1-4386-99bf-12776714f6e4",
   "metadata": {},
   "outputs": [],
   "source": []
  }
 ],
 "metadata": {
  "kernelspec": {
   "display_name": "gputest",
   "language": "python",
   "name": "gputest"
  },
  "language_info": {
   "codemirror_mode": {
    "name": "ipython",
    "version": 3
   },
   "file_extension": ".py",
   "mimetype": "text/x-python",
   "name": "python",
   "nbconvert_exporter": "python",
   "pygments_lexer": "ipython3",
   "version": "3.7.16"
  }
 },
 "nbformat": 4,
 "nbformat_minor": 5
}
