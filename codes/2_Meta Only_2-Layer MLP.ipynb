{
 "cells": [
  {
   "cell_type": "code",
   "execution_count": 1,
   "id": "4c489e68-a0e6-4633-931d-da7d07ceeb21",
   "metadata": {},
   "outputs": [],
   "source": [
    "import numpy as np\n",
    "import seaborn as sns\n",
    "import pandas as pd\n",
    "import matplotlib.pyplot as plt\n",
    "import math\n",
    "from scipy import stats\n",
    "\n",
    "pd.set_option('display.max_columns', 300)\n",
    "pd.set_option('display.max_rows', 300)"
   ]
  },
  {
   "cell_type": "code",
   "execution_count": 2,
   "id": "709955a6-9d88-4c9f-a64a-475fd0ef8d6b",
   "metadata": {},
   "outputs": [],
   "source": [
    "train_df = pd.read_csv('clean_data.csv')\n",
    "val_df = pd.read_csv('clean_val.csv')\n",
    "test_df = pd.read_csv('clean_test.csv')"
   ]
  },
  {
   "cell_type": "code",
   "execution_count": 3,
   "id": "9b13cd49-daa5-4a15-a2c2-71519f3ff587",
   "metadata": {},
   "outputs": [],
   "source": [
    "train_df.dropna(inplace = True)"
   ]
  },
  {
   "cell_type": "code",
   "execution_count": 4,
   "id": "c68f1eb2-4242-47fc-9a2f-8ae1f39c9183",
   "metadata": {},
   "outputs": [
    {
     "data": {
      "text/plain": [
       "0"
      ]
     },
     "execution_count": 4,
     "metadata": {},
     "output_type": "execute_result"
    }
   ],
   "source": [
    "train_df.isnull().sum().sum()"
   ]
  },
  {
   "cell_type": "code",
   "execution_count": 5,
   "id": "0ee7f9e3-2478-4a11-b5ae-4604e17f0450",
   "metadata": {},
   "outputs": [],
   "source": [
    "with open(\"numerical.txt\", \"r\", encoding=\"utf-8\") as file:\n",
    "    numeric_features = [line.strip() for line in file.readlines()]\n",
    "    \n",
    "with open(\"cat.txt\", \"r\", encoding=\"utf-8\") as file:\n",
    "    cat_features = [line.strip() for line in file.readlines()]"
   ]
  },
  {
   "cell_type": "code",
   "execution_count": 6,
   "id": "4d6a8878-d866-481b-8644-cf2afeba76b5",
   "metadata": {},
   "outputs": [
    {
     "name": "stdout",
     "output_type": "stream",
     "text": [
      "['Entire home/apt' 'Private room' 'Shared room']\n"
     ]
    }
   ],
   "source": [
    "print(train_df[cat_features[3]].unique())"
   ]
  },
  {
   "cell_type": "code",
   "execution_count": 7,
   "id": "dbd435e3-f99e-4561-8840-5700759c5fde",
   "metadata": {},
   "outputs": [],
   "source": [
    "from sklearn.base import BaseEstimator, TransformerMixin\n",
    "from sklearn.compose import ColumnTransformer\n",
    "from sklearn.pipeline import Pipeline\n",
    "from sklearn.preprocessing import StandardScaler, OneHotEncoder\n",
    "import torch\n",
    "import torch.nn as nn\n",
    "from torch.utils.data import Dataset, DataLoader\n",
    "from sklearn.metrics import mean_squared_error, mean_absolute_error"
   ]
  },
  {
   "cell_type": "code",
   "execution_count": 8,
   "id": "a0c80dab-4277-4398-9635-3b99756be256",
   "metadata": {},
   "outputs": [],
   "source": [
    "class BoxCoxTransformer(BaseEstimator, TransformerMixin):\n",
    "    def __init__(self):\n",
    "        self.lambdas_ = {}\n",
    "\n",
    "    def fit(self, X, y=None):\n",
    "        X = X.copy()\n",
    "        for column in X.columns:\n",
    "            if any(X[column] <= 0):\n",
    "                X[column] = X[column] + abs(X[column].min()) + 1\n",
    "            _, lambda_optimal = stats.boxcox(X[column])\n",
    "            self.lambdas_[column] = lambda_optimal\n",
    "        return self\n",
    "\n",
    "    def transform(self, X):\n",
    "        X = X.copy()\n",
    "        for column, lambda_optimal in self.lambdas_.items():\n",
    "            if any(X[column] <= 0):\n",
    "                X[column] = X[column] + abs(X[column].min()) + 1\n",
    "            X[column] = stats.boxcox(X[column], lmbda=lambda_optimal)\n",
    "        return X"
   ]
  },
  {
   "cell_type": "code",
   "execution_count": 9,
   "id": "5e6ee057-7703-4044-b650-8224a1d0e675",
   "metadata": {},
   "outputs": [
    {
     "data": {
      "text/plain": [
       "ColumnTransformer(transformers=[('num',\n",
       "                                 Pipeline(steps=[('boxcox',\n",
       "                                                  BoxCoxTransformer()),\n",
       "                                                 ('scaler', StandardScaler())]),\n",
       "                                 ['accommodates', 'bathrooms', 'bedrooms',\n",
       "                                  'beds', 'cleaning_fee', 'guests_included',\n",
       "                                  'availability_30', 'availability_365',\n",
       "                                  'number_of_reviews']),\n",
       "                                ('cat', OneHotEncoder(handle_unknown='ignore'),\n",
       "                                 ['suburb', 'property_type', 'city',\n",
       "                                  'room_type', 'doub...\n",
       "                                  'tennis_court', 'elevator',\n",
       "                                  'family/kid_friendly', 'tv',\n",
       "                                  'air_conditioning', 'high_chair',\n",
       "                                  'dishwasher', 'brick_oven',\n",
       "                                  'long_term_stays_allowed',\n",
       "                                  'pack_’n_play/travel_crib', 'dryer', 'iron',\n",
       "                                  'hair_dryer', 'crib', 'indoor_fireplace',\n",
       "                                  'en_suite_bathroom', 'shampoo',\n",
       "                                  'carbon_monoxide_detector', 'baby_bath',\n",
       "                                  'self_check_in', 'mobile_hoist', 'pool',\n",
       "                                  'central_air_conditioning', ...])])"
      ]
     },
     "execution_count": 9,
     "metadata": {},
     "output_type": "execute_result"
    }
   ],
   "source": [
    "numeric_transformer = Pipeline([\n",
    "    ('boxcox', BoxCoxTransformer()),\n",
    "    ('scaler', StandardScaler())\n",
    "])\n",
    "\n",
    "preprocessor = ColumnTransformer(\n",
    "    transformers=[\n",
    "        ('num', numeric_transformer, numeric_features),\n",
    "        ('cat', OneHotEncoder(handle_unknown='ignore'), cat_features)\n",
    "    ]\n",
    ")\n",
    "\n",
    "preprocessor.fit(train_df)\n"
   ]
  },
  {
   "cell_type": "code",
   "execution_count": 10,
   "id": "338996d8-3db7-4948-834e-a61e5f784584",
   "metadata": {},
   "outputs": [],
   "source": [
    "class MyDataset(Dataset):\n",
    "    def __init__(self, data, norm_target, target, preprocessor):\n",
    "        self.features = preprocessor.transform(data)\n",
    "        self.norm_target = torch.tensor(norm_target.values, dtype=torch.float32)\n",
    "        self.target = torch.tensor(target.values, dtype=torch.float32)\n",
    "\n",
    "    def __len__(self):\n",
    "        return self.features.shape[0]\n",
    "\n",
    "    def __getitem__(self, index):\n",
    "        feature = torch.tensor(self.features[index].toarray(), dtype=torch.float32) \n",
    "        norm_target = self.norm_target[index]\n",
    "        target = self.target[index] \n",
    "        return feature, norm_target, target"
   ]
  },
  {
   "cell_type": "code",
   "execution_count": 11,
   "id": "8a69f0e5-103e-42dd-ade3-f7ac90b35263",
   "metadata": {},
   "outputs": [],
   "source": [
    "def normalize(x):\n",
    "    return (x - train_df['price'].min()) / (train_df['price'].max() - train_df['price'].min())\n",
    "\n",
    "def denormalize(x):\n",
    "    return x * (train_df['price'].max() - train_df['price'].min()) + train_df['price'].min()\n"
   ]
  },
  {
   "cell_type": "code",
   "execution_count": 12,
   "id": "89cea1e3-2988-42d9-a446-9e2d8edf49f2",
   "metadata": {},
   "outputs": [],
   "source": [
    "train_df['normalized_price'] = train_df['price'].apply(normalize)\n",
    "val_df['normalized_price'] = val_df['price'].apply(normalize)\n",
    "test_df['normalized_price'] = test_df['price'].apply(normalize)"
   ]
  },
  {
   "cell_type": "code",
   "execution_count": 13,
   "id": "330da5b4-f51a-4502-aeaf-5e8a37dfd458",
   "metadata": {},
   "outputs": [],
   "source": [
    "batch_size = 32\n",
    "\n",
    "train_X = train_df[numeric_features + cat_features]\n",
    "train_norm_y = train_df['normalized_price']\n",
    "train_y = train_df['price']\n",
    "\n",
    "val_X = val_df[numeric_features + cat_features]\n",
    "val_norm_y = val_df['normalized_price']\n",
    "val_y = val_df['price']\n",
    "\n",
    "test_X = test_df[numeric_features + cat_features]\n",
    "test_norm_y = test_df['normalized_price']\n",
    "test_y = test_df['price']\n",
    "\n",
    "train_dataset = MyDataset(train_df, train_norm_y, train_y, preprocessor=preprocessor)\n",
    "val_dataset = MyDataset(val_df, val_norm_y, val_y, preprocessor=preprocessor)\n",
    "test_dataset = MyDataset(test_df, test_norm_y, test_y, preprocessor=preprocessor)\n",
    "\n",
    "train_loader = DataLoader(train_dataset, batch_size = batch_size, shuffle = True)\n",
    "val_loader = DataLoader(val_dataset, batch_size = batch_size, shuffle = True)\n",
    "test_loader = DataLoader(test_dataset, batch_size = batch_size, shuffle = True)\n"
   ]
  },
  {
   "cell_type": "code",
   "execution_count": 1,
   "id": "744962c4-2b95-417d-b7e8-97a6d538d785",
   "metadata": {},
   "outputs": [
    {
     "ename": "NameError",
     "evalue": "name 'nn' is not defined",
     "output_type": "error",
     "traceback": [
      "\u001b[1;31m---------------------------------------------------------------------------\u001b[0m",
      "\u001b[1;31mNameError\u001b[0m                                 Traceback (most recent call last)",
      "\u001b[1;32m~\\AppData\\Local\\Temp\\ipykernel_11504\\2859777497.py\u001b[0m in \u001b[0;36m<module>\u001b[1;34m\u001b[0m\n\u001b[1;32m----> 1\u001b[1;33m \u001b[1;32mclass\u001b[0m \u001b[0mMLPRegressionModel\u001b[0m\u001b[1;33m(\u001b[0m\u001b[0mnn\u001b[0m\u001b[1;33m.\u001b[0m\u001b[0mModule\u001b[0m\u001b[1;33m)\u001b[0m\u001b[1;33m:\u001b[0m\u001b[1;33m\u001b[0m\u001b[1;33m\u001b[0m\u001b[0m\n\u001b[0m\u001b[0;32m      2\u001b[0m     \u001b[1;32mdef\u001b[0m \u001b[0m__init__\u001b[0m\u001b[1;33m(\u001b[0m\u001b[0mself\u001b[0m\u001b[1;33m,\u001b[0m \u001b[0minput_dim\u001b[0m\u001b[1;33m,\u001b[0m \u001b[0mhidden_dim\u001b[0m\u001b[1;33m=\u001b[0m\u001b[1;36m64\u001b[0m\u001b[1;33m)\u001b[0m\u001b[1;33m:\u001b[0m\u001b[1;33m\u001b[0m\u001b[1;33m\u001b[0m\u001b[0m\n\u001b[0;32m      3\u001b[0m         \u001b[0msuper\u001b[0m\u001b[1;33m(\u001b[0m\u001b[0mMLPRegressionModel\u001b[0m\u001b[1;33m,\u001b[0m \u001b[0mself\u001b[0m\u001b[1;33m)\u001b[0m\u001b[1;33m.\u001b[0m\u001b[0m__init__\u001b[0m\u001b[1;33m(\u001b[0m\u001b[1;33m)\u001b[0m\u001b[1;33m\u001b[0m\u001b[1;33m\u001b[0m\u001b[0m\n\u001b[0;32m      4\u001b[0m \u001b[1;33m\u001b[0m\u001b[0m\n\u001b[0;32m      5\u001b[0m         \u001b[0mself\u001b[0m\u001b[1;33m.\u001b[0m\u001b[0mfc1\u001b[0m \u001b[1;33m=\u001b[0m \u001b[0mnn\u001b[0m\u001b[1;33m.\u001b[0m\u001b[0mLinear\u001b[0m\u001b[1;33m(\u001b[0m\u001b[0minput_dim\u001b[0m\u001b[1;33m,\u001b[0m \u001b[1;36m64\u001b[0m\u001b[1;33m)\u001b[0m\u001b[1;33m\u001b[0m\u001b[1;33m\u001b[0m\u001b[0m\n",
      "\u001b[1;31mNameError\u001b[0m: name 'nn' is not defined"
     ]
    }
   ],
   "source": [
    "class MLPRegressionModel(nn.Module):\n",
    "    def __init__(self, input_dim, hidden_dim=64):\n",
    "        super(MLPRegressionModel, self).__init__()\n",
    "        \n",
    "        self.fc1 = nn.Linear(input_dim, 64)\n",
    "        self.bn1 = nn.BatchNorm1d(64)\n",
    "        \n",
    "        self.fc2 = nn.Linear(64, 32)\n",
    "        self.bn2 = nn.BatchNorm1d(32)\n",
    "        \n",
    "        self.fc3 = nn.Linear(32, 1)\n",
    "        \n",
    "        self.relu = nn.ReLU()\n",
    "        self.dropout = nn.Dropout(0.2)\n",
    "        \n",
    "    def forward(self, x):\n",
    "        \n",
    "        x = self.fc1(x)\n",
    "        x = self.bn1(x)        \n",
    "        x = self.relu(x)\n",
    "        x = self.dropout(x)\n",
    "        \n",
    "        x = self.fc2(x)\n",
    "        x = self.bn2(x)        \n",
    "        x = self.relu(x)\n",
    "        x = self.dropout(x)\n",
    "        \n",
    "        x = self.fc3(x)\n",
    "        return x"
   ]
  },
  {
   "cell_type": "code",
   "execution_count": 15,
   "id": "911e9a1c-e5dd-4227-99a2-e025cfb2a01b",
   "metadata": {},
   "outputs": [
    {
     "data": {
      "text/plain": [
       "device(type='cuda')"
      ]
     },
     "execution_count": 15,
     "metadata": {},
     "output_type": "execute_result"
    }
   ],
   "source": [
    "device = torch.device('cuda') if torch.cuda.is_available() else torch.device('cpu')\n",
    "device"
   ]
  },
  {
   "cell_type": "code",
   "execution_count": 16,
   "id": "089c99ca-6e3e-41fb-9159-425b9462c11e",
   "metadata": {},
   "outputs": [
    {
     "data": {
      "text/plain": [
       "723"
      ]
     },
     "execution_count": 16,
     "metadata": {},
     "output_type": "execute_result"
    }
   ],
   "source": [
    "preprocessor.transform(train_X).shape[1]"
   ]
  },
  {
   "cell_type": "code",
   "execution_count": 17,
   "id": "dc3c183b-d51d-4504-b79c-0696085a08b6",
   "metadata": {},
   "outputs": [],
   "source": [
    "input_dim = preprocessor.transform(train_X).shape[1]\n",
    "model = MLPRegressionModel(input_dim=input_dim)\n",
    "model = model.to(device)"
   ]
  },
  {
   "cell_type": "code",
   "execution_count": 18,
   "id": "61ad7dfd-cd2c-4a01-82ca-aad797db3ba5",
   "metadata": {},
   "outputs": [],
   "source": [
    "optimizer = torch.optim.Adam(model.parameters(), lr=0.001)\n",
    "criterion = nn.MSELoss()"
   ]
  },
  {
   "cell_type": "code",
   "execution_count": 19,
   "id": "320fae5d-6f06-4ae3-8ccf-a93adbdfcf42",
   "metadata": {},
   "outputs": [],
   "source": [
    "import time\n",
    "import math\n",
    "from tqdm import tqdm\n",
    "\n",
    "def rmse(y, y_predict):\n",
    "    mse = mean_squared_error(y, y_predict)\n",
    "    return math.sqrt(mse)\n",
    "\n",
    "def train(model, data_loader, optimizer, criterion, device):\n",
    "    model.train()\n",
    "    total_loss = 0\n",
    "    all_preds = []\n",
    "    all_labels = []\n",
    "    \n",
    "    start_time = time.time()\n",
    "    \n",
    "    for batch in tqdm(data_loader, desc=\"Training\", unit=\"batch\"):\n",
    "        inputs, norm_targets, targets = batch\n",
    "        inputs = inputs.view(inputs.size(0), -1).to(device)\n",
    "        norm_targets = norm_targets.to(device)\n",
    "        targets = targets.to(device)\n",
    "\n",
    "        optimizer.zero_grad()\n",
    "        outputs = model(inputs)\n",
    "        \n",
    "        loss = criterion(outputs, norm_targets.unsqueeze(1))\n",
    "        total_loss += loss.item()\n",
    "        \n",
    "        loss.backward()\n",
    "        optimizer.step()\n",
    "        \n",
    "        outputs = denormalize(outputs)\n",
    "        \n",
    "        all_preds.extend(outputs.cpu().tolist())\n",
    "        all_labels.extend(targets.cpu().tolist())\n",
    "        \n",
    "    avg_loss = total_loss/len(data_loader)\n",
    "    train_mae = mean_absolute_error(all_labels, all_preds)\n",
    "    train_rmse = rmse(all_labels, all_preds)\n",
    "\n",
    "    end_time = time.time()  \n",
    "    epoch_duration = end_time - start_time  \n",
    "    \n",
    "    print(f'Training Loss: {avg_loss:.4f}, Train MAE: {train_mae:.4f}, Train RMSE: {train_rmse:.4f}, Time: {epoch_duration:.2f} seconds')\n",
    "    return avg_loss, train_mae\n",
    "\n",
    "def evaluate(model, data_loader, criterion, device):\n",
    "    \n",
    "    model.eval()\n",
    "    total_loss = 0\n",
    "    all_preds = []\n",
    "    all_labels = []\n",
    "    \n",
    "    start_time = time.time()\n",
    "    \n",
    "    with torch.no_grad():\n",
    "        for batch in tqdm(data_loader, desc=\"Validation\", unit=\"batch\"):\n",
    "            \n",
    "            inputs, norm_targets, targets = batch\n",
    "            inputs = inputs.view(inputs.size(0), -1).to(device)\n",
    "            norm_targets = norm_targets.to(device)\n",
    "            targets = targets.to(device)\n",
    "            \n",
    "            outputs = model(inputs)\n",
    "            \n",
    "            loss = criterion(outputs, norm_targets.unsqueeze(1))\n",
    "            total_loss += loss.item()\n",
    "            \n",
    "            outputs = denormalize(outputs)\n",
    "            all_preds.extend(outputs.cpu().tolist())\n",
    "            all_labels.extend(targets.cpu().tolist())\n",
    "    \n",
    "\n",
    "    avg_loss = total_loss/len(data_loader)\n",
    "    val_mae = mean_absolute_error(all_labels, all_preds)\n",
    "    val_rmse = rmse(all_labels, all_preds)\n",
    "\n",
    "    end_time = time.time()  \n",
    "    epoch_duration = end_time - start_time  \n",
    "    \n",
    "    print(f'Validation Loss: {avg_loss:.4f}, Validation MAE: {val_mae:.4f}, Validation RMSE: {val_rmse:.4f}, Time: {epoch_duration:.2f} seconds')\n",
    "    \n",
    "    return avg_loss, val_mae"
   ]
  },
  {
   "cell_type": "code",
   "execution_count": 20,
   "id": "9d9049c1-af24-4249-be2f-05b89c350466",
   "metadata": {
    "scrolled": true,
    "tags": []
   },
   "outputs": [
    {
     "name": "stdout",
     "output_type": "stream",
     "text": [
      "Epoch 1/50\n"
     ]
    },
    {
     "name": "stderr",
     "output_type": "stream",
     "text": [
      "Training: 100%|███████████████████████████████████████████████████████████████████| 561/561 [00:06<00:00, 89.29batch/s]\n"
     ]
    },
    {
     "name": "stdout",
     "output_type": "stream",
     "text": [
      "Training Loss: 0.0261, Train MAE: 87.1300, Train RMSE: 129.6724, Time: 6.32 seconds\n"
     ]
    },
    {
     "name": "stderr",
     "output_type": "stream",
     "text": [
      "Validation: 100%|██████████████████████████████████████████████████████████████████| 72/72 [00:00<00:00, 241.97batch/s]\n"
     ]
    },
    {
     "name": "stdout",
     "output_type": "stream",
     "text": [
      "Validation Loss: 0.1213, Validation MAE: 59.1230, Validation RMSE: 280.3374, Time: 0.30 seconds\n",
      "Best model saved with validation MAE: 59.1230\n",
      "----------------------------------------------------------------------------------------------------\n",
      "Epoch 2/50\n"
     ]
    },
    {
     "name": "stderr",
     "output_type": "stream",
     "text": [
      "Training: 100%|██████████████████████████████████████████████████████████████████| 561/561 [00:04<00:00, 118.43batch/s]\n"
     ]
    },
    {
     "name": "stdout",
     "output_type": "stream",
     "text": [
      "Training Loss: 0.0090, Train MAE: 47.6484, Train RMSE: 76.3168, Time: 4.77 seconds\n"
     ]
    },
    {
     "name": "stderr",
     "output_type": "stream",
     "text": [
      "Validation: 100%|██████████████████████████████████████████████████████████████████| 72/72 [00:00<00:00, 195.66batch/s]\n"
     ]
    },
    {
     "name": "stdout",
     "output_type": "stream",
     "text": [
      "Validation Loss: 0.1193, Validation MAE: 58.4873, Validation RMSE: 278.3601, Time: 0.37 seconds\n",
      "Best model saved with validation MAE: 58.4873\n",
      "----------------------------------------------------------------------------------------------------\n",
      "Epoch 3/50\n"
     ]
    },
    {
     "name": "stderr",
     "output_type": "stream",
     "text": [
      "Training: 100%|██████████████████████████████████████████████████████████████████| 561/561 [00:04<00:00, 125.01batch/s]\n"
     ]
    },
    {
     "name": "stdout",
     "output_type": "stream",
     "text": [
      "Training Loss: 0.0082, Train MAE: 44.8310, Train RMSE: 72.7196, Time: 4.52 seconds\n"
     ]
    },
    {
     "name": "stderr",
     "output_type": "stream",
     "text": [
      "Validation: 100%|██████████████████████████████████████████████████████████████████| 72/72 [00:00<00:00, 209.26batch/s]\n"
     ]
    },
    {
     "name": "stdout",
     "output_type": "stream",
     "text": [
      "Validation Loss: 0.1189, Validation MAE: 55.4038, Validation RMSE: 277.8949, Time: 0.35 seconds\n",
      "Best model saved with validation MAE: 55.4038\n",
      "----------------------------------------------------------------------------------------------------\n",
      "Epoch 4/50\n"
     ]
    },
    {
     "name": "stderr",
     "output_type": "stream",
     "text": [
      "Training: 100%|██████████████████████████████████████████████████████████████████| 561/561 [00:04<00:00, 118.56batch/s]\n"
     ]
    },
    {
     "name": "stdout",
     "output_type": "stream",
     "text": [
      "Training Loss: 0.0079, Train MAE: 43.9840, Train RMSE: 71.4634, Time: 4.77 seconds\n"
     ]
    },
    {
     "name": "stderr",
     "output_type": "stream",
     "text": [
      "Validation: 100%|██████████████████████████████████████████████████████████████████| 72/72 [00:00<00:00, 207.56batch/s]\n"
     ]
    },
    {
     "name": "stdout",
     "output_type": "stream",
     "text": [
      "Validation Loss: 0.1192, Validation MAE: 53.4759, Validation RMSE: 278.2725, Time: 0.35 seconds\n",
      "Best model saved with validation MAE: 53.4759\n",
      "----------------------------------------------------------------------------------------------------\n",
      "Epoch 5/50\n"
     ]
    },
    {
     "name": "stderr",
     "output_type": "stream",
     "text": [
      "Training: 100%|██████████████████████████████████████████████████████████████████| 561/561 [00:04<00:00, 124.55batch/s]\n"
     ]
    },
    {
     "name": "stdout",
     "output_type": "stream",
     "text": [
      "Training Loss: 0.0077, Train MAE: 42.9695, Train RMSE: 70.3963, Time: 4.54 seconds\n"
     ]
    },
    {
     "name": "stderr",
     "output_type": "stream",
     "text": [
      "Validation: 100%|██████████████████████████████████████████████████████████████████| 72/72 [00:00<00:00, 208.04batch/s]\n"
     ]
    },
    {
     "name": "stdout",
     "output_type": "stream",
     "text": [
      "Validation Loss: 0.1195, Validation MAE: 53.3266, Validation RMSE: 277.2590, Time: 0.35 seconds\n",
      "Best model saved with validation MAE: 53.3266\n",
      "----------------------------------------------------------------------------------------------------\n",
      "Epoch 6/50\n"
     ]
    },
    {
     "name": "stderr",
     "output_type": "stream",
     "text": [
      "Training: 100%|██████████████████████████████████████████████████████████████████| 561/561 [00:04<00:00, 119.92batch/s]\n"
     ]
    },
    {
     "name": "stdout",
     "output_type": "stream",
     "text": [
      "Training Loss: 0.0074, Train MAE: 42.4649, Train RMSE: 69.1363, Time: 4.71 seconds\n"
     ]
    },
    {
     "name": "stderr",
     "output_type": "stream",
     "text": [
      "Validation: 100%|██████████████████████████████████████████████████████████████████| 72/72 [00:00<00:00, 206.43batch/s]\n"
     ]
    },
    {
     "name": "stdout",
     "output_type": "stream",
     "text": [
      "Validation Loss: 0.1199, Validation MAE: 52.2468, Validation RMSE: 279.0029, Time: 0.36 seconds\n",
      "Best model saved with validation MAE: 52.2468\n",
      "----------------------------------------------------------------------------------------------------\n",
      "Epoch 7/50\n"
     ]
    },
    {
     "name": "stderr",
     "output_type": "stream",
     "text": [
      "Training: 100%|██████████████████████████████████████████████████████████████████| 561/561 [00:04<00:00, 123.45batch/s]\n"
     ]
    },
    {
     "name": "stdout",
     "output_type": "stream",
     "text": [
      "Training Loss: 0.0073, Train MAE: 42.4496, Train RMSE: 68.6770, Time: 4.58 seconds\n"
     ]
    },
    {
     "name": "stderr",
     "output_type": "stream",
     "text": [
      "Validation: 100%|██████████████████████████████████████████████████████████████████| 72/72 [00:00<00:00, 209.44batch/s]\n"
     ]
    },
    {
     "name": "stdout",
     "output_type": "stream",
     "text": [
      "Validation Loss: 0.1197, Validation MAE: 53.3521, Validation RMSE: 278.6098, Time: 0.35 seconds\n",
      "----------------------------------------------------------------------------------------------------\n",
      "Epoch 8/50\n"
     ]
    },
    {
     "name": "stderr",
     "output_type": "stream",
     "text": [
      "Training: 100%|██████████████████████████████████████████████████████████████████| 561/561 [00:04<00:00, 121.41batch/s]\n"
     ]
    },
    {
     "name": "stdout",
     "output_type": "stream",
     "text": [
      "Training Loss: 0.0073, Train MAE: 42.0983, Train RMSE: 68.4743, Time: 4.65 seconds\n"
     ]
    },
    {
     "name": "stderr",
     "output_type": "stream",
     "text": [
      "Validation: 100%|██████████████████████████████████████████████████████████████████| 72/72 [00:00<00:00, 206.85batch/s]\n"
     ]
    },
    {
     "name": "stdout",
     "output_type": "stream",
     "text": [
      "Validation Loss: 0.1190, Validation MAE: 52.0405, Validation RMSE: 277.9881, Time: 0.36 seconds\n",
      "Best model saved with validation MAE: 52.0405\n",
      "----------------------------------------------------------------------------------------------------\n",
      "Epoch 9/50\n"
     ]
    },
    {
     "name": "stderr",
     "output_type": "stream",
     "text": [
      "Training: 100%|██████████████████████████████████████████████████████████████████| 561/561 [00:04<00:00, 121.61batch/s]\n"
     ]
    },
    {
     "name": "stdout",
     "output_type": "stream",
     "text": [
      "Training Loss: 0.0069, Train MAE: 41.4201, Train RMSE: 66.7254, Time: 4.65 seconds\n"
     ]
    },
    {
     "name": "stderr",
     "output_type": "stream",
     "text": [
      "Validation: 100%|██████████████████████████████████████████████████████████████████| 72/72 [00:00<00:00, 210.12batch/s]\n"
     ]
    },
    {
     "name": "stdout",
     "output_type": "stream",
     "text": [
      "Validation Loss: 0.1183, Validation MAE: 58.2865, Validation RMSE: 277.1063, Time: 0.35 seconds\n",
      "----------------------------------------------------------------------------------------------------\n",
      "Epoch 10/50\n"
     ]
    },
    {
     "name": "stderr",
     "output_type": "stream",
     "text": [
      "Training: 100%|██████████████████████████████████████████████████████████████████| 561/561 [00:04<00:00, 122.45batch/s]\n"
     ]
    },
    {
     "name": "stdout",
     "output_type": "stream",
     "text": [
      "Training Loss: 0.0069, Train MAE: 41.2375, Train RMSE: 66.7939, Time: 4.62 seconds\n"
     ]
    },
    {
     "name": "stderr",
     "output_type": "stream",
     "text": [
      "Validation: 100%|██████████████████████████████████████████████████████████████████| 72/72 [00:00<00:00, 200.74batch/s]\n"
     ]
    },
    {
     "name": "stdout",
     "output_type": "stream",
     "text": [
      "Validation Loss: 0.1197, Validation MAE: 51.8175, Validation RMSE: 278.7950, Time: 0.37 seconds\n",
      "Best model saved with validation MAE: 51.8175\n",
      "----------------------------------------------------------------------------------------------------\n",
      "Epoch 11/50\n"
     ]
    },
    {
     "name": "stderr",
     "output_type": "stream",
     "text": [
      "Training: 100%|██████████████████████████████████████████████████████████████████| 561/561 [00:04<00:00, 119.93batch/s]\n"
     ]
    },
    {
     "name": "stdout",
     "output_type": "stream",
     "text": [
      "Training Loss: 0.0067, Train MAE: 40.8187, Train RMSE: 65.9480, Time: 4.71 seconds\n"
     ]
    },
    {
     "name": "stderr",
     "output_type": "stream",
     "text": [
      "Validation: 100%|██████████████████████████████████████████████████████████████████| 72/72 [00:00<00:00, 208.81batch/s]\n"
     ]
    },
    {
     "name": "stdout",
     "output_type": "stream",
     "text": [
      "Validation Loss: 0.1190, Validation MAE: 53.1964, Validation RMSE: 277.9703, Time: 0.35 seconds\n",
      "----------------------------------------------------------------------------------------------------\n",
      "Epoch 12/50\n"
     ]
    },
    {
     "name": "stderr",
     "output_type": "stream",
     "text": [
      "Training: 100%|██████████████████████████████████████████████████████████████████| 561/561 [00:04<00:00, 115.49batch/s]\n"
     ]
    },
    {
     "name": "stdout",
     "output_type": "stream",
     "text": [
      "Training Loss: 0.0067, Train MAE: 40.7995, Train RMSE: 65.7490, Time: 4.89 seconds\n"
     ]
    },
    {
     "name": "stderr",
     "output_type": "stream",
     "text": [
      "Validation: 100%|██████████████████████████████████████████████████████████████████| 72/72 [00:00<00:00, 204.78batch/s]\n"
     ]
    },
    {
     "name": "stdout",
     "output_type": "stream",
     "text": [
      "Validation Loss: 0.1179, Validation MAE: 51.8998, Validation RMSE: 276.7247, Time: 0.36 seconds\n",
      "----------------------------------------------------------------------------------------------------\n",
      "Epoch 13/50\n"
     ]
    },
    {
     "name": "stderr",
     "output_type": "stream",
     "text": [
      "Training: 100%|██████████████████████████████████████████████████████████████████| 561/561 [00:05<00:00, 112.02batch/s]\n"
     ]
    },
    {
     "name": "stdout",
     "output_type": "stream",
     "text": [
      "Training Loss: 0.0066, Train MAE: 40.5416, Train RMSE: 65.0293, Time: 5.04 seconds\n"
     ]
    },
    {
     "name": "stderr",
     "output_type": "stream",
     "text": [
      "Validation: 100%|██████████████████████████████████████████████████████████████████| 72/72 [00:00<00:00, 208.57batch/s]\n"
     ]
    },
    {
     "name": "stdout",
     "output_type": "stream",
     "text": [
      "Validation Loss: 0.1175, Validation MAE: 51.7919, Validation RMSE: 276.2234, Time: 0.35 seconds\n",
      "Best model saved with validation MAE: 51.7919\n",
      "----------------------------------------------------------------------------------------------------\n",
      "Epoch 14/50\n"
     ]
    },
    {
     "name": "stderr",
     "output_type": "stream",
     "text": [
      "Training: 100%|██████████████████████████████████████████████████████████████████| 561/561 [00:04<00:00, 114.28batch/s]\n"
     ]
    },
    {
     "name": "stdout",
     "output_type": "stream",
     "text": [
      "Training Loss: 0.0065, Train MAE: 40.1967, Train RMSE: 64.6994, Time: 4.94 seconds\n"
     ]
    },
    {
     "name": "stderr",
     "output_type": "stream",
     "text": [
      "Validation: 100%|██████████████████████████████████████████████████████████████████| 72/72 [00:00<00:00, 206.85batch/s]\n"
     ]
    },
    {
     "name": "stdout",
     "output_type": "stream",
     "text": [
      "Validation Loss: 0.1193, Validation MAE: 54.3476, Validation RMSE: 278.2896, Time: 0.35 seconds\n",
      "----------------------------------------------------------------------------------------------------\n",
      "Epoch 15/50\n"
     ]
    },
    {
     "name": "stderr",
     "output_type": "stream",
     "text": [
      "Training: 100%|██████████████████████████████████████████████████████████████████| 561/561 [00:05<00:00, 111.40batch/s]\n"
     ]
    },
    {
     "name": "stdout",
     "output_type": "stream",
     "text": [
      "Training Loss: 0.0063, Train MAE: 39.3515, Train RMSE: 63.6197, Time: 5.07 seconds\n"
     ]
    },
    {
     "name": "stderr",
     "output_type": "stream",
     "text": [
      "Validation: 100%|██████████████████████████████████████████████████████████████████| 72/72 [00:00<00:00, 204.75batch/s]\n"
     ]
    },
    {
     "name": "stdout",
     "output_type": "stream",
     "text": [
      "Validation Loss: 0.1196, Validation MAE: 55.0183, Validation RMSE: 277.6854, Time: 0.36 seconds\n",
      "----------------------------------------------------------------------------------------------------\n",
      "Epoch 16/50\n"
     ]
    },
    {
     "name": "stderr",
     "output_type": "stream",
     "text": [
      "Training: 100%|██████████████████████████████████████████████████████████████████| 561/561 [00:04<00:00, 114.61batch/s]\n"
     ]
    },
    {
     "name": "stdout",
     "output_type": "stream",
     "text": [
      "Training Loss: 0.0063, Train MAE: 39.6023, Train RMSE: 63.5059, Time: 4.93 seconds\n"
     ]
    },
    {
     "name": "stderr",
     "output_type": "stream",
     "text": [
      "Validation: 100%|██████████████████████████████████████████████████████████████████| 72/72 [00:00<00:00, 207.23batch/s]\n"
     ]
    },
    {
     "name": "stdout",
     "output_type": "stream",
     "text": [
      "Validation Loss: 0.1184, Validation MAE: 51.8111, Validation RMSE: 277.2847, Time: 0.35 seconds\n",
      "----------------------------------------------------------------------------------------------------\n",
      "Epoch 17/50\n"
     ]
    },
    {
     "name": "stderr",
     "output_type": "stream",
     "text": [
      "Training: 100%|██████████████████████████████████████████████████████████████████| 561/561 [00:05<00:00, 112.07batch/s]\n"
     ]
    },
    {
     "name": "stdout",
     "output_type": "stream",
     "text": [
      "Training Loss: 0.0062, Train MAE: 39.5650, Train RMSE: 63.2688, Time: 5.04 seconds\n"
     ]
    },
    {
     "name": "stderr",
     "output_type": "stream",
     "text": [
      "Validation: 100%|██████████████████████████████████████████████████████████████████| 72/72 [00:00<00:00, 206.82batch/s]\n"
     ]
    },
    {
     "name": "stdout",
     "output_type": "stream",
     "text": [
      "Validation Loss: 0.1175, Validation MAE: 52.1292, Validation RMSE: 276.2534, Time: 0.36 seconds\n",
      "----------------------------------------------------------------------------------------------------\n",
      "Epoch 18/50\n"
     ]
    },
    {
     "name": "stderr",
     "output_type": "stream",
     "text": [
      "Training: 100%|██████████████████████████████████████████████████████████████████| 561/561 [00:04<00:00, 114.51batch/s]\n"
     ]
    },
    {
     "name": "stdout",
     "output_type": "stream",
     "text": [
      "Training Loss: 0.0060, Train MAE: 38.6423, Train RMSE: 62.1258, Time: 4.93 seconds\n"
     ]
    },
    {
     "name": "stderr",
     "output_type": "stream",
     "text": [
      "Validation: 100%|██████████████████████████████████████████████████████████████████| 72/72 [00:00<00:00, 200.52batch/s]\n"
     ]
    },
    {
     "name": "stdout",
     "output_type": "stream",
     "text": [
      "Validation Loss: 0.1178, Validation MAE: 52.9469, Validation RMSE: 276.6303, Time: 0.37 seconds\n",
      "----------------------------------------------------------------------------------------------------\n",
      "Epoch 19/50\n"
     ]
    },
    {
     "name": "stderr",
     "output_type": "stream",
     "text": [
      "Training: 100%|██████████████████████████████████████████████████████████████████| 561/561 [00:04<00:00, 112.38batch/s]\n"
     ]
    },
    {
     "name": "stdout",
     "output_type": "stream",
     "text": [
      "Training Loss: 0.0060, Train MAE: 39.0634, Train RMSE: 62.1450, Time: 5.03 seconds\n"
     ]
    },
    {
     "name": "stderr",
     "output_type": "stream",
     "text": [
      "Validation: 100%|██████████████████████████████████████████████████████████████████| 72/72 [00:00<00:00, 197.06batch/s]\n"
     ]
    },
    {
     "name": "stdout",
     "output_type": "stream",
     "text": [
      "Validation Loss: 0.1180, Validation MAE: 51.0238, Validation RMSE: 276.8495, Time: 0.37 seconds\n",
      "Best model saved with validation MAE: 51.0238\n",
      "----------------------------------------------------------------------------------------------------\n",
      "Epoch 20/50\n"
     ]
    },
    {
     "name": "stderr",
     "output_type": "stream",
     "text": [
      "Training: 100%|██████████████████████████████████████████████████████████████████| 561/561 [00:04<00:00, 114.10batch/s]\n"
     ]
    },
    {
     "name": "stdout",
     "output_type": "stream",
     "text": [
      "Training Loss: 0.0059, Train MAE: 39.1053, Train RMSE: 61.6425, Time: 4.95 seconds\n"
     ]
    },
    {
     "name": "stderr",
     "output_type": "stream",
     "text": [
      "Validation: 100%|██████████████████████████████████████████████████████████████████| 72/72 [00:00<00:00, 208.31batch/s]\n"
     ]
    },
    {
     "name": "stdout",
     "output_type": "stream",
     "text": [
      "Validation Loss: 0.1181, Validation MAE: 51.2729, Validation RMSE: 276.9073, Time: 0.35 seconds\n",
      "----------------------------------------------------------------------------------------------------\n",
      "Epoch 21/50\n"
     ]
    },
    {
     "name": "stderr",
     "output_type": "stream",
     "text": [
      "Training: 100%|██████████████████████████████████████████████████████████████████| 561/561 [00:04<00:00, 115.27batch/s]\n"
     ]
    },
    {
     "name": "stdout",
     "output_type": "stream",
     "text": [
      "Training Loss: 0.0058, Train MAE: 38.5407, Train RMSE: 61.3548, Time: 4.90 seconds\n"
     ]
    },
    {
     "name": "stderr",
     "output_type": "stream",
     "text": [
      "Validation: 100%|██████████████████████████████████████████████████████████████████| 72/72 [00:00<00:00, 205.39batch/s]\n"
     ]
    },
    {
     "name": "stdout",
     "output_type": "stream",
     "text": [
      "Validation Loss: 0.1181, Validation MAE: 51.2816, Validation RMSE: 276.9745, Time: 0.36 seconds\n",
      "----------------------------------------------------------------------------------------------------\n",
      "Epoch 22/50\n"
     ]
    },
    {
     "name": "stderr",
     "output_type": "stream",
     "text": [
      "Training: 100%|██████████████████████████████████████████████████████████████████| 561/561 [00:04<00:00, 120.61batch/s]\n"
     ]
    },
    {
     "name": "stdout",
     "output_type": "stream",
     "text": [
      "Training Loss: 0.0056, Train MAE: 38.2976, Train RMSE: 60.3436, Time: 4.69 seconds\n"
     ]
    },
    {
     "name": "stderr",
     "output_type": "stream",
     "text": [
      "Validation: 100%|██████████████████████████████████████████████████████████████████| 72/72 [00:00<00:00, 203.34batch/s]\n"
     ]
    },
    {
     "name": "stdout",
     "output_type": "stream",
     "text": [
      "Validation Loss: 0.1183, Validation MAE: 51.1688, Validation RMSE: 277.0202, Time: 0.36 seconds\n",
      "----------------------------------------------------------------------------------------------------\n",
      "Epoch 23/50\n"
     ]
    },
    {
     "name": "stderr",
     "output_type": "stream",
     "text": [
      "Training: 100%|██████████████████████████████████████████████████████████████████| 561/561 [00:04<00:00, 121.98batch/s]\n"
     ]
    },
    {
     "name": "stdout",
     "output_type": "stream",
     "text": [
      "Training Loss: 0.0057, Train MAE: 38.3633, Train RMSE: 60.6907, Time: 4.63 seconds\n"
     ]
    },
    {
     "name": "stderr",
     "output_type": "stream",
     "text": [
      "Validation: 100%|██████████████████████████████████████████████████████████████████| 72/72 [00:00<00:00, 175.58batch/s]\n"
     ]
    },
    {
     "name": "stdout",
     "output_type": "stream",
     "text": [
      "Validation Loss: 0.1182, Validation MAE: 52.6502, Validation RMSE: 277.0466, Time: 0.42 seconds\n",
      "----------------------------------------------------------------------------------------------------\n",
      "Epoch 24/50\n"
     ]
    },
    {
     "name": "stderr",
     "output_type": "stream",
     "text": [
      "Training: 100%|██████████████████████████████████████████████████████████████████| 561/561 [00:04<00:00, 120.80batch/s]\n"
     ]
    },
    {
     "name": "stdout",
     "output_type": "stream",
     "text": [
      "Training Loss: 0.0056, Train MAE: 38.0061, Train RMSE: 60.3100, Time: 4.68 seconds\n"
     ]
    },
    {
     "name": "stderr",
     "output_type": "stream",
     "text": [
      "Validation: 100%|██████████████████████████████████████████████████████████████████| 72/72 [00:00<00:00, 206.52batch/s]\n"
     ]
    },
    {
     "name": "stdout",
     "output_type": "stream",
     "text": [
      "Validation Loss: 0.1182, Validation MAE: 51.5460, Validation RMSE: 277.0850, Time: 0.36 seconds\n",
      "----------------------------------------------------------------------------------------------------\n",
      "Epoch 25/50\n"
     ]
    },
    {
     "name": "stderr",
     "output_type": "stream",
     "text": [
      "Training: 100%|██████████████████████████████████████████████████████████████████| 561/561 [00:04<00:00, 121.55batch/s]\n"
     ]
    },
    {
     "name": "stdout",
     "output_type": "stream",
     "text": [
      "Training Loss: 0.0056, Train MAE: 38.0593, Train RMSE: 60.0533, Time: 4.65 seconds\n"
     ]
    },
    {
     "name": "stderr",
     "output_type": "stream",
     "text": [
      "Validation: 100%|██████████████████████████████████████████████████████████████████| 72/72 [00:00<00:00, 203.35batch/s]\n"
     ]
    },
    {
     "name": "stdout",
     "output_type": "stream",
     "text": [
      "Validation Loss: 0.1177, Validation MAE: 51.5834, Validation RMSE: 276.5185, Time: 0.36 seconds\n",
      "----------------------------------------------------------------------------------------------------\n",
      "Epoch 26/50\n"
     ]
    },
    {
     "name": "stderr",
     "output_type": "stream",
     "text": [
      "Training: 100%|██████████████████████████████████████████████████████████████████| 561/561 [00:04<00:00, 119.16batch/s]\n"
     ]
    },
    {
     "name": "stdout",
     "output_type": "stream",
     "text": [
      "Training Loss: 0.0054, Train MAE: 37.6525, Train RMSE: 59.1725, Time: 4.74 seconds\n"
     ]
    },
    {
     "name": "stderr",
     "output_type": "stream",
     "text": [
      "Validation: 100%|██████████████████████████████████████████████████████████████████| 72/72 [00:00<00:00, 206.81batch/s]\n"
     ]
    },
    {
     "name": "stdout",
     "output_type": "stream",
     "text": [
      "Validation Loss: 0.1184, Validation MAE: 51.6478, Validation RMSE: 277.1791, Time: 0.35 seconds\n",
      "----------------------------------------------------------------------------------------------------\n",
      "Epoch 27/50\n"
     ]
    },
    {
     "name": "stderr",
     "output_type": "stream",
     "text": [
      "Training: 100%|██████████████████████████████████████████████████████████████████| 561/561 [00:04<00:00, 121.72batch/s]\n"
     ]
    },
    {
     "name": "stdout",
     "output_type": "stream",
     "text": [
      "Training Loss: 0.0054, Train MAE: 37.6357, Train RMSE: 59.2514, Time: 4.64 seconds\n"
     ]
    },
    {
     "name": "stderr",
     "output_type": "stream",
     "text": [
      "Validation: 100%|██████████████████████████████████████████████████████████████████| 72/72 [00:00<00:00, 209.25batch/s]\n"
     ]
    },
    {
     "name": "stdout",
     "output_type": "stream",
     "text": [
      "Validation Loss: 0.1175, Validation MAE: 51.0893, Validation RMSE: 276.2151, Time: 0.35 seconds\n",
      "----------------------------------------------------------------------------------------------------\n",
      "Epoch 28/50\n"
     ]
    },
    {
     "name": "stderr",
     "output_type": "stream",
     "text": [
      "Training: 100%|██████████████████████████████████████████████████████████████████| 561/561 [00:04<00:00, 117.58batch/s]\n"
     ]
    },
    {
     "name": "stdout",
     "output_type": "stream",
     "text": [
      "Training Loss: 0.0055, Train MAE: 37.7254, Train RMSE: 59.4402, Time: 4.80 seconds\n"
     ]
    },
    {
     "name": "stderr",
     "output_type": "stream",
     "text": [
      "Validation: 100%|██████████████████████████████████████████████████████████████████| 72/72 [00:00<00:00, 207.28batch/s]\n"
     ]
    },
    {
     "name": "stdout",
     "output_type": "stream",
     "text": [
      "Validation Loss: 0.1176, Validation MAE: 51.9672, Validation RMSE: 276.4233, Time: 0.36 seconds\n",
      "----------------------------------------------------------------------------------------------------\n",
      "Epoch 29/50\n"
     ]
    },
    {
     "name": "stderr",
     "output_type": "stream",
     "text": [
      "Training: 100%|██████████████████████████████████████████████████████████████████| 561/561 [00:04<00:00, 122.12batch/s]\n"
     ]
    },
    {
     "name": "stdout",
     "output_type": "stream",
     "text": [
      "Training Loss: 0.0055, Train MAE: 37.8842, Train RMSE: 59.4784, Time: 4.63 seconds\n"
     ]
    },
    {
     "name": "stderr",
     "output_type": "stream",
     "text": [
      "Validation: 100%|██████████████████████████████████████████████████████████████████| 72/72 [00:00<00:00, 207.96batch/s]\n"
     ]
    },
    {
     "name": "stdout",
     "output_type": "stream",
     "text": [
      "Validation Loss: 0.1180, Validation MAE: 51.5307, Validation RMSE: 276.7745, Time: 0.35 seconds\n",
      "----------------------------------------------------------------------------------------------------\n",
      "Epoch 30/50\n"
     ]
    },
    {
     "name": "stderr",
     "output_type": "stream",
     "text": [
      "Training: 100%|██████████████████████████████████████████████████████████████████| 561/561 [00:04<00:00, 119.72batch/s]\n"
     ]
    },
    {
     "name": "stdout",
     "output_type": "stream",
     "text": [
      "Training Loss: 0.0053, Train MAE: 37.4183, Train RMSE: 58.7300, Time: 4.72 seconds\n"
     ]
    },
    {
     "name": "stderr",
     "output_type": "stream",
     "text": [
      "Validation: 100%|██████████████████████████████████████████████████████████████████| 72/72 [00:00<00:00, 204.73batch/s]\n"
     ]
    },
    {
     "name": "stdout",
     "output_type": "stream",
     "text": [
      "Validation Loss: 0.1175, Validation MAE: 52.0832, Validation RMSE: 276.2187, Time: 0.36 seconds\n",
      "----------------------------------------------------------------------------------------------------\n",
      "Epoch 31/50\n"
     ]
    },
    {
     "name": "stderr",
     "output_type": "stream",
     "text": [
      "Training: 100%|██████████████████████████████████████████████████████████████████| 561/561 [00:04<00:00, 122.87batch/s]\n"
     ]
    },
    {
     "name": "stdout",
     "output_type": "stream",
     "text": [
      "Training Loss: 0.0052, Train MAE: 37.0668, Train RMSE: 57.6913, Time: 4.60 seconds\n"
     ]
    },
    {
     "name": "stderr",
     "output_type": "stream",
     "text": [
      "Validation: 100%|██████████████████████████████████████████████████████████████████| 72/72 [00:00<00:00, 177.46batch/s]\n"
     ]
    },
    {
     "name": "stdout",
     "output_type": "stream",
     "text": [
      "Validation Loss: 0.1177, Validation MAE: 51.5205, Validation RMSE: 276.4306, Time: 0.41 seconds\n",
      "----------------------------------------------------------------------------------------------------\n",
      "Epoch 32/50\n"
     ]
    },
    {
     "name": "stderr",
     "output_type": "stream",
     "text": [
      "Training: 100%|██████████████████████████████████████████████████████████████████| 561/561 [00:04<00:00, 119.14batch/s]\n"
     ]
    },
    {
     "name": "stdout",
     "output_type": "stream",
     "text": [
      "Training Loss: 0.0053, Train MAE: 37.3343, Train RMSE: 58.3827, Time: 4.74 seconds\n"
     ]
    },
    {
     "name": "stderr",
     "output_type": "stream",
     "text": [
      "Validation: 100%|██████████████████████████████████████████████████████████████████| 72/72 [00:00<00:00, 184.58batch/s]\n"
     ]
    },
    {
     "name": "stdout",
     "output_type": "stream",
     "text": [
      "Validation Loss: 0.1180, Validation MAE: 52.7916, Validation RMSE: 276.9080, Time: 0.40 seconds\n",
      "----------------------------------------------------------------------------------------------------\n",
      "Epoch 33/50\n"
     ]
    },
    {
     "name": "stderr",
     "output_type": "stream",
     "text": [
      "Training: 100%|██████████████████████████████████████████████████████████████████| 561/561 [00:04<00:00, 117.14batch/s]\n"
     ]
    },
    {
     "name": "stdout",
     "output_type": "stream",
     "text": [
      "Training Loss: 0.0053, Train MAE: 37.2394, Train RMSE: 58.2844, Time: 4.82 seconds\n"
     ]
    },
    {
     "name": "stderr",
     "output_type": "stream",
     "text": [
      "Validation: 100%|██████████████████████████████████████████████████████████████████| 72/72 [00:00<00:00, 177.87batch/s]\n"
     ]
    },
    {
     "name": "stdout",
     "output_type": "stream",
     "text": [
      "Validation Loss: 0.1185, Validation MAE: 53.8314, Validation RMSE: 277.3259, Time: 0.41 seconds\n",
      "----------------------------------------------------------------------------------------------------\n",
      "Epoch 34/50\n"
     ]
    },
    {
     "name": "stderr",
     "output_type": "stream",
     "text": [
      "Training: 100%|██████████████████████████████████████████████████████████████████| 561/561 [00:04<00:00, 119.68batch/s]\n"
     ]
    },
    {
     "name": "stdout",
     "output_type": "stream",
     "text": [
      "Training Loss: 0.0051, Train MAE: 36.8862, Train RMSE: 57.2653, Time: 4.72 seconds\n"
     ]
    },
    {
     "name": "stderr",
     "output_type": "stream",
     "text": [
      "Validation: 100%|██████████████████████████████████████████████████████████████████| 72/72 [00:00<00:00, 206.86batch/s]\n"
     ]
    },
    {
     "name": "stdout",
     "output_type": "stream",
     "text": [
      "Validation Loss: 0.1182, Validation MAE: 52.2774, Validation RMSE: 277.0591, Time: 0.36 seconds\n",
      "----------------------------------------------------------------------------------------------------\n",
      "Epoch 35/50\n"
     ]
    },
    {
     "name": "stderr",
     "output_type": "stream",
     "text": [
      "Training: 100%|██████████████████████████████████████████████████████████████████| 561/561 [00:04<00:00, 121.89batch/s]\n"
     ]
    },
    {
     "name": "stdout",
     "output_type": "stream",
     "text": [
      "Training Loss: 0.0052, Train MAE: 36.9297, Train RMSE: 57.6764, Time: 4.64 seconds\n"
     ]
    },
    {
     "name": "stderr",
     "output_type": "stream",
     "text": [
      "Validation: 100%|██████████████████████████████████████████████████████████████████| 72/72 [00:00<00:00, 207.76batch/s]\n"
     ]
    },
    {
     "name": "stdout",
     "output_type": "stream",
     "text": [
      "Validation Loss: 0.1188, Validation MAE: 52.0782, Validation RMSE: 277.4711, Time: 0.35 seconds\n",
      "----------------------------------------------------------------------------------------------------\n",
      "Epoch 36/50\n"
     ]
    },
    {
     "name": "stderr",
     "output_type": "stream",
     "text": [
      "Training: 100%|██████████████████████████████████████████████████████████████████| 561/561 [00:04<00:00, 119.50batch/s]\n"
     ]
    },
    {
     "name": "stdout",
     "output_type": "stream",
     "text": [
      "Training Loss: 0.0052, Train MAE: 37.1743, Train RMSE: 58.0211, Time: 4.73 seconds\n"
     ]
    },
    {
     "name": "stderr",
     "output_type": "stream",
     "text": [
      "Validation: 100%|██████████████████████████████████████████████████████████████████| 72/72 [00:00<00:00, 206.24batch/s]\n"
     ]
    },
    {
     "name": "stdout",
     "output_type": "stream",
     "text": [
      "Validation Loss: 0.1179, Validation MAE: 52.9024, Validation RMSE: 276.7312, Time: 0.36 seconds\n",
      "----------------------------------------------------------------------------------------------------\n",
      "Epoch 37/50\n"
     ]
    },
    {
     "name": "stderr",
     "output_type": "stream",
     "text": [
      "Training: 100%|██████████████████████████████████████████████████████████████████| 561/561 [00:04<00:00, 120.95batch/s]\n"
     ]
    },
    {
     "name": "stdout",
     "output_type": "stream",
     "text": [
      "Training Loss: 0.0050, Train MAE: 36.3502, Train RMSE: 56.6436, Time: 4.67 seconds\n"
     ]
    },
    {
     "name": "stderr",
     "output_type": "stream",
     "text": [
      "Validation: 100%|██████████████████████████████████████████████████████████████████| 72/72 [00:00<00:00, 203.57batch/s]\n"
     ]
    },
    {
     "name": "stdout",
     "output_type": "stream",
     "text": [
      "Validation Loss: 0.1186, Validation MAE: 52.8673, Validation RMSE: 277.5091, Time: 0.36 seconds\n",
      "----------------------------------------------------------------------------------------------------\n",
      "Epoch 38/50\n"
     ]
    },
    {
     "name": "stderr",
     "output_type": "stream",
     "text": [
      "Training: 100%|██████████████████████████████████████████████████████████████████| 561/561 [00:04<00:00, 119.41batch/s]\n"
     ]
    },
    {
     "name": "stdout",
     "output_type": "stream",
     "text": [
      "Training Loss: 0.0052, Train MAE: 37.0321, Train RMSE: 57.9905, Time: 4.73 seconds\n"
     ]
    },
    {
     "name": "stderr",
     "output_type": "stream",
     "text": [
      "Validation: 100%|██████████████████████████████████████████████████████████████████| 72/72 [00:00<00:00, 203.35batch/s]\n"
     ]
    },
    {
     "name": "stdout",
     "output_type": "stream",
     "text": [
      "Validation Loss: 0.1179, Validation MAE: 52.0949, Validation RMSE: 276.4396, Time: 0.36 seconds\n",
      "----------------------------------------------------------------------------------------------------\n",
      "Epoch 39/50\n"
     ]
    },
    {
     "name": "stderr",
     "output_type": "stream",
     "text": [
      "Training: 100%|██████████████████████████████████████████████████████████████████| 561/561 [00:04<00:00, 116.50batch/s]\n"
     ]
    },
    {
     "name": "stdout",
     "output_type": "stream",
     "text": [
      "Training Loss: 0.0050, Train MAE: 36.5277, Train RMSE: 56.7506, Time: 4.85 seconds\n"
     ]
    },
    {
     "name": "stderr",
     "output_type": "stream",
     "text": [
      "Validation: 100%|██████████████████████████████████████████████████████████████████| 72/72 [00:00<00:00, 173.05batch/s]\n"
     ]
    },
    {
     "name": "stdout",
     "output_type": "stream",
     "text": [
      "Validation Loss: 0.1179, Validation MAE: 51.7612, Validation RMSE: 276.7276, Time: 0.42 seconds\n",
      "----------------------------------------------------------------------------------------------------\n",
      "Epoch 40/50\n"
     ]
    },
    {
     "name": "stderr",
     "output_type": "stream",
     "text": [
      "Training: 100%|██████████████████████████████████████████████████████████████████| 561/561 [00:04<00:00, 122.24batch/s]\n"
     ]
    },
    {
     "name": "stdout",
     "output_type": "stream",
     "text": [
      "Training Loss: 0.0050, Train MAE: 36.4917, Train RMSE: 56.7105, Time: 4.62 seconds\n"
     ]
    },
    {
     "name": "stderr",
     "output_type": "stream",
     "text": [
      "Validation: 100%|██████████████████████████████████████████████████████████████████| 72/72 [00:00<00:00, 207.16batch/s]\n"
     ]
    },
    {
     "name": "stdout",
     "output_type": "stream",
     "text": [
      "Validation Loss: 0.1183, Validation MAE: 52.1428, Validation RMSE: 276.3893, Time: 0.35 seconds\n",
      "----------------------------------------------------------------------------------------------------\n",
      "Epoch 41/50\n"
     ]
    },
    {
     "name": "stderr",
     "output_type": "stream",
     "text": [
      "Training: 100%|██████████████████████████████████████████████████████████████████| 561/561 [00:04<00:00, 120.81batch/s]\n"
     ]
    },
    {
     "name": "stdout",
     "output_type": "stream",
     "text": [
      "Training Loss: 0.0049, Train MAE: 36.0900, Train RMSE: 56.0033, Time: 4.68 seconds\n"
     ]
    },
    {
     "name": "stderr",
     "output_type": "stream",
     "text": [
      "Validation: 100%|██████████████████████████████████████████████████████████████████| 72/72 [00:00<00:00, 205.39batch/s]\n"
     ]
    },
    {
     "name": "stdout",
     "output_type": "stream",
     "text": [
      "Validation Loss: 0.1177, Validation MAE: 52.6237, Validation RMSE: 276.5335, Time: 0.36 seconds\n",
      "----------------------------------------------------------------------------------------------------\n",
      "Epoch 42/50\n"
     ]
    },
    {
     "name": "stderr",
     "output_type": "stream",
     "text": [
      "Training: 100%|██████████████████████████████████████████████████████████████████| 561/561 [00:04<00:00, 125.24batch/s]\n"
     ]
    },
    {
     "name": "stdout",
     "output_type": "stream",
     "text": [
      "Training Loss: 0.0048, Train MAE: 36.0681, Train RMSE: 55.9059, Time: 4.51 seconds\n"
     ]
    },
    {
     "name": "stderr",
     "output_type": "stream",
     "text": [
      "Validation: 100%|██████████████████████████████████████████████████████████████████| 72/72 [00:00<00:00, 201.93batch/s]\n"
     ]
    },
    {
     "name": "stdout",
     "output_type": "stream",
     "text": [
      "Validation Loss: 0.1177, Validation MAE: 53.1483, Validation RMSE: 276.5201, Time: 0.36 seconds\n",
      "----------------------------------------------------------------------------------------------------\n",
      "Epoch 43/50\n"
     ]
    },
    {
     "name": "stderr",
     "output_type": "stream",
     "text": [
      "Training: 100%|██████████████████████████████████████████████████████████████████| 561/561 [00:04<00:00, 119.14batch/s]\n"
     ]
    },
    {
     "name": "stdout",
     "output_type": "stream",
     "text": [
      "Training Loss: 0.0049, Train MAE: 36.2540, Train RMSE: 56.1341, Time: 4.74 seconds\n"
     ]
    },
    {
     "name": "stderr",
     "output_type": "stream",
     "text": [
      "Validation: 100%|██████████████████████████████████████████████████████████████████| 72/72 [00:00<00:00, 203.07batch/s]\n"
     ]
    },
    {
     "name": "stdout",
     "output_type": "stream",
     "text": [
      "Validation Loss: 0.1175, Validation MAE: 51.5074, Validation RMSE: 276.3047, Time: 0.36 seconds\n",
      "----------------------------------------------------------------------------------------------------\n",
      "Epoch 44/50\n"
     ]
    },
    {
     "name": "stderr",
     "output_type": "stream",
     "text": [
      "Training: 100%|██████████████████████████████████████████████████████████████████| 561/561 [00:04<00:00, 122.65batch/s]\n"
     ]
    },
    {
     "name": "stdout",
     "output_type": "stream",
     "text": [
      "Training Loss: 0.0048, Train MAE: 35.9631, Train RMSE: 55.3525, Time: 4.61 seconds\n"
     ]
    },
    {
     "name": "stderr",
     "output_type": "stream",
     "text": [
      "Validation: 100%|██████████████████████████████████████████████████████████████████| 72/72 [00:00<00:00, 205.22batch/s]\n"
     ]
    },
    {
     "name": "stdout",
     "output_type": "stream",
     "text": [
      "Validation Loss: 0.1174, Validation MAE: 51.0837, Validation RMSE: 276.1582, Time: 0.36 seconds\n",
      "----------------------------------------------------------------------------------------------------\n",
      "Epoch 45/50\n"
     ]
    },
    {
     "name": "stderr",
     "output_type": "stream",
     "text": [
      "Training: 100%|██████████████████████████████████████████████████████████████████| 561/561 [00:04<00:00, 116.82batch/s]\n"
     ]
    },
    {
     "name": "stdout",
     "output_type": "stream",
     "text": [
      "Training Loss: 0.0048, Train MAE: 35.9084, Train RMSE: 55.6416, Time: 4.84 seconds\n"
     ]
    },
    {
     "name": "stderr",
     "output_type": "stream",
     "text": [
      "Validation: 100%|██████████████████████████████████████████████████████████████████| 72/72 [00:00<00:00, 211.72batch/s]\n"
     ]
    },
    {
     "name": "stdout",
     "output_type": "stream",
     "text": [
      "Validation Loss: 0.1173, Validation MAE: 52.6182, Validation RMSE: 276.0160, Time: 0.35 seconds\n",
      "----------------------------------------------------------------------------------------------------\n",
      "Epoch 46/50\n"
     ]
    },
    {
     "name": "stderr",
     "output_type": "stream",
     "text": [
      "Training: 100%|██████████████████████████████████████████████████████████████████| 561/561 [00:04<00:00, 122.28batch/s]\n"
     ]
    },
    {
     "name": "stdout",
     "output_type": "stream",
     "text": [
      "Training Loss: 0.0046, Train MAE: 35.8861, Train RMSE: 54.6445, Time: 4.62 seconds\n"
     ]
    },
    {
     "name": "stderr",
     "output_type": "stream",
     "text": [
      "Validation: 100%|██████████████████████████████████████████████████████████████████| 72/72 [00:00<00:00, 209.24batch/s]\n"
     ]
    },
    {
     "name": "stdout",
     "output_type": "stream",
     "text": [
      "Validation Loss: 0.1187, Validation MAE: 51.3967, Validation RMSE: 276.4460, Time: 0.35 seconds\n",
      "----------------------------------------------------------------------------------------------------\n",
      "Epoch 47/50\n"
     ]
    },
    {
     "name": "stderr",
     "output_type": "stream",
     "text": [
      "Training: 100%|██████████████████████████████████████████████████████████████████| 561/561 [00:04<00:00, 121.10batch/s]\n"
     ]
    },
    {
     "name": "stdout",
     "output_type": "stream",
     "text": [
      "Training Loss: 0.0049, Train MAE: 35.9821, Train RMSE: 55.8693, Time: 4.67 seconds\n"
     ]
    },
    {
     "name": "stderr",
     "output_type": "stream",
     "text": [
      "Validation: 100%|██████████████████████████████████████████████████████████████████| 72/72 [00:00<00:00, 177.31batch/s]\n"
     ]
    },
    {
     "name": "stdout",
     "output_type": "stream",
     "text": [
      "Validation Loss: 0.1176, Validation MAE: 51.4041, Validation RMSE: 276.4115, Time: 0.41 seconds\n",
      "----------------------------------------------------------------------------------------------------\n",
      "Epoch 48/50\n"
     ]
    },
    {
     "name": "stderr",
     "output_type": "stream",
     "text": [
      "Training: 100%|██████████████████████████████████████████████████████████████████| 561/561 [00:04<00:00, 123.26batch/s]\n"
     ]
    },
    {
     "name": "stdout",
     "output_type": "stream",
     "text": [
      "Training Loss: 0.0047, Train MAE: 35.9500, Train RMSE: 55.0947, Time: 4.58 seconds\n"
     ]
    },
    {
     "name": "stderr",
     "output_type": "stream",
     "text": [
      "Validation: 100%|██████████████████████████████████████████████████████████████████| 72/72 [00:00<00:00, 206.26batch/s]\n"
     ]
    },
    {
     "name": "stdout",
     "output_type": "stream",
     "text": [
      "Validation Loss: 0.1177, Validation MAE: 51.0593, Validation RMSE: 276.5396, Time: 0.36 seconds\n",
      "----------------------------------------------------------------------------------------------------\n",
      "Epoch 49/50\n"
     ]
    },
    {
     "name": "stderr",
     "output_type": "stream",
     "text": [
      "Training: 100%|██████████████████████████████████████████████████████████████████| 561/561 [00:04<00:00, 122.13batch/s]\n"
     ]
    },
    {
     "name": "stdout",
     "output_type": "stream",
     "text": [
      "Training Loss: 0.0047, Train MAE: 35.7465, Train RMSE: 54.9140, Time: 4.62 seconds\n"
     ]
    },
    {
     "name": "stderr",
     "output_type": "stream",
     "text": [
      "Validation: 100%|██████████████████████████████████████████████████████████████████| 72/72 [00:00<00:00, 207.69batch/s]\n"
     ]
    },
    {
     "name": "stdout",
     "output_type": "stream",
     "text": [
      "Validation Loss: 0.1175, Validation MAE: 51.0551, Validation RMSE: 276.2885, Time: 0.35 seconds\n",
      "----------------------------------------------------------------------------------------------------\n",
      "Epoch 50/50\n"
     ]
    },
    {
     "name": "stderr",
     "output_type": "stream",
     "text": [
      "Training: 100%|██████████████████████████████████████████████████████████████████| 561/561 [00:04<00:00, 122.25batch/s]\n"
     ]
    },
    {
     "name": "stdout",
     "output_type": "stream",
     "text": [
      "Training Loss: 0.0047, Train MAE: 35.8014, Train RMSE: 55.1314, Time: 4.62 seconds\n"
     ]
    },
    {
     "name": "stderr",
     "output_type": "stream",
     "text": [
      "Validation: 100%|██████████████████████████████████████████████████████████████████| 72/72 [00:00<00:00, 204.80batch/s]"
     ]
    },
    {
     "name": "stdout",
     "output_type": "stream",
     "text": [
      "Validation Loss: 0.1180, Validation MAE: 51.4479, Validation RMSE: 276.7354, Time: 0.36 seconds\n",
      "----------------------------------------------------------------------------------------------------\n"
     ]
    },
    {
     "name": "stderr",
     "output_type": "stream",
     "text": [
      "\n"
     ]
    }
   ],
   "source": [
    "best_val_loss = float('inf')  \n",
    "best_val_mae = float('inf')              \n",
    "model_save_path = \"2a.pth\"\n",
    "\n",
    "num_epochs = 50\n",
    "\n",
    "train_losses = []\n",
    "val_losses = []\n",
    "train_mae_scores = []\n",
    "val_mae_scores = []\n",
    "\n",
    "for epoch in range(num_epochs):\n",
    "    print(f\"Epoch {epoch + 1}/{num_epochs}\")\n",
    "    \n",
    "    train_loss, train_mae = train(model, train_loader, optimizer, criterion, device)\n",
    "    val_loss, val_mae = evaluate(model, val_loader, criterion, device)\n",
    "    \n",
    "    train_losses.append(train_loss)  \n",
    "    train_mae_scores.append(train_mae)  \n",
    "    val_losses.append(val_loss)  \n",
    "    val_mae_scores.append(val_mae)  \n",
    "    \n",
    "    if val_mae < best_val_mae:\n",
    "        best_val_mae = val_mae\n",
    "        torch.save(model.state_dict(), model_save_path)   \n",
    "        print(f\"Best model saved with validation MAE: {best_val_mae:.4f}\")\n",
    "\n",
    "    print('-' * 100)"
   ]
  },
  {
   "cell_type": "code",
   "execution_count": 21,
   "id": "c38b807b-b181-4c83-8fd5-fbad313aa82b",
   "metadata": {},
   "outputs": [],
   "source": [
    "epochs = [i for i in range(1, 51)]"
   ]
  },
  {
   "cell_type": "code",
   "execution_count": 22,
   "id": "0945faea-7188-4844-bb63-ec13e5c039ac",
   "metadata": {},
   "outputs": [
    {
     "data": {
      "image/png": "[encoded data removed]",
      "text/plain": [
       "<Figure size 1200x500 with 2 Axes>"
      ]
     },
     "metadata": {},
     "output_type": "display_data"
    }
   ],
   "source": [
    "plt.figure(figsize=(12, 5))\n",
    "\n",
    "plt.subplot(1, 2, 1)\n",
    "plt.plot(epochs, train_losses, label=\"Training Loss\")\n",
    "plt.plot(epochs, val_losses, label=\"Validation Loss\")\n",
    "plt.xlabel(\"Epochs\")\n",
    "plt.ylabel(\"Loss\")\n",
    "plt.title(\"Training and Validation Loss over Epochs\")\n",
    "plt.legend()\n",
    "\n",
    "# Plot MAE\n",
    "plt.subplot(1, 2, 2)\n",
    "plt.plot(epochs, train_mae_scores, label=\"Training MAE\")\n",
    "plt.plot(epochs, val_mae_scores, label=\"Validation MAE\")\n",
    "plt.xlabel(\"Epochs\")\n",
    "plt.ylabel(\"MAE\")\n",
    "plt.title(\"Training and Validation MAE over Epochs\")\n",
    "plt.legend()\n",
    "\n",
    "plt.tight_layout()\n",
    "plt.show()"
   ]
  },
  {
   "cell_type": "code",
   "execution_count": 23,
   "id": "8b6aac96-8f27-4ce6-9b7e-fa46ace27db2",
   "metadata": {},
   "outputs": [
    {
     "name": "stderr",
     "output_type": "stream",
     "text": [
      "Testing: 100%|█████████████████████████████████████████████████████████████████████| 72/72 [00:00<00:00, 207.16batch/s]"
     ]
    },
    {
     "name": "stdout",
     "output_type": "stream",
     "text": [
      "Testing MAE: 46.5775, Testing RMSE: 136.6218, Time: 0.35 seconds\n"
     ]
    },
    {
     "name": "stderr",
     "output_type": "stream",
     "text": [
      "\n"
     ]
    }
   ],
   "source": [
    "model1 = MLPRegressionModel(input_dim=input_dim)\n",
    "model1.to(device)\n",
    "\n",
    "model1.load_state_dict(torch.load(model_save_path))\n",
    "model1.to(device)\n",
    "all_labels = []\n",
    "all_preds = []\n",
    "\n",
    "start_time = time.time()\n",
    "\n",
    "with torch.no_grad():\n",
    "    for batch in tqdm(test_loader, desc=\"Testing\", unit=\"batch\"):\n",
    "\n",
    "        inputs, norm_targets, targets = batch\n",
    "        inputs = inputs.view(inputs.size(0), -1).to(device)\n",
    "        norm_targets = norm_targets.to(device)\n",
    "        targets = targets.to(device)\n",
    "\n",
    "        outputs = model(inputs)\n",
    "\n",
    "        loss = criterion(outputs, norm_targets.unsqueeze(1))\n",
    "        outputs = denormalize(outputs)\n",
    "        all_preds.extend(outputs.cpu().tolist())\n",
    "        all_labels.extend(targets.cpu().tolist())\n",
    "        \n",
    "all_labels = np.array(all_labels).flatten()\n",
    "all_preds = np.array(all_preds).flatten()\n",
    "        \n",
    "test_mae = mean_absolute_error(all_labels, all_preds)\n",
    "test_rmse = rmse(all_labels, all_preds)\n",
    "\n",
    "end_time = time.time()  \n",
    "epoch_duration = end_time - start_time\n",
    "\n",
    "print(f'Testing MAE: {test_mae:.4f}, Testing RMSE: {test_rmse:.4f}, Time: {epoch_duration:.2f} seconds')"
   ]
  }
 ],
 "metadata": {
  "kernelspec": {
   "display_name": "gputest",
   "language": "python",
   "name": "gputest"
  },
  "language_info": {
   "codemirror_mode": {
    "name": "ipython",
    "version": 3
   },
   "file_extension": ".py",
   "mimetype": "text/x-python",
   "name": "python",
   "nbconvert_exporter": "python",
   "pygments_lexer": "ipython3",
   "version": "3.7.16"
  }
 },
 "nbformat": 4,
 "nbformat_minor": 5
}
