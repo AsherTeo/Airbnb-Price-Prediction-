{
 "cells": [
  {
   "cell_type": "code",
   "execution_count": 1,
   "id": "4c489e68-a0e6-4633-931d-da7d07ceeb21",
   "metadata": {},
   "outputs": [],
   "source": [
    "import numpy as np\n",
    "import seaborn as sns\n",
    "import pandas as pd\n",
    "import matplotlib.pyplot as plt\n",
    "import math\n",
    "from scipy import stats\n",
    "\n",
    "pd.set_option('display.max_columns', 300)\n",
    "pd.set_option('display.max_rows', 300)"
   ]
  },
  {
   "cell_type": "code",
   "execution_count": 2,
   "id": "709955a6-9d88-4c9f-a64a-475fd0ef8d6b",
   "metadata": {},
   "outputs": [],
   "source": [
    "train_df = pd.read_csv('clean_data.csv')\n",
    "val_df = pd.read_csv('clean_val.csv')\n",
    "test_df = pd.read_csv('clean_test.csv')"
   ]
  },
  {
   "cell_type": "code",
   "execution_count": 3,
   "id": "9b13cd49-daa5-4a15-a2c2-71519f3ff587",
   "metadata": {},
   "outputs": [],
   "source": [
    "train_df.dropna(inplace = True)"
   ]
  },
  {
   "cell_type": "code",
   "execution_count": 4,
   "id": "c68f1eb2-4242-47fc-9a2f-8ae1f39c9183",
   "metadata": {},
   "outputs": [
    {
     "data": {
      "text/plain": [
       "0"
      ]
     },
     "execution_count": 4,
     "metadata": {},
     "output_type": "execute_result"
    }
   ],
   "source": [
    "train_df.isnull().sum().sum()"
   ]
  },
  {
   "cell_type": "code",
   "execution_count": 5,
   "id": "0ee7f9e3-2478-4a11-b5ae-4604e17f0450",
   "metadata": {},
   "outputs": [],
   "source": [
    "with open(\"text.txt\", \"r\", encoding=\"utf-8\") as file:\n",
    "    text_features = [line.strip() for line in file.readlines()]"
   ]
  },
  {
   "cell_type": "code",
   "execution_count": 6,
   "id": "9956615e-b355-4ad1-95d8-ab3594a35a0d",
   "metadata": {},
   "outputs": [
    {
     "data": {
      "text/plain": [
       "['summary', 'host_about']"
      ]
     },
     "execution_count": 6,
     "metadata": {},
     "output_type": "execute_result"
    }
   ],
   "source": [
    "text_features"
   ]
  },
  {
   "cell_type": "code",
   "execution_count": 7,
   "id": "3f97e0e7-9e19-4700-9e39-236d80872163",
   "metadata": {},
   "outputs": [],
   "source": [
    "def combine_text(df):\n",
    "    df['combined_text'] = df['summary'] + \" [SEP] \" +  df['host_about'] + \" [SEP] \"\n",
    "    return "
   ]
  },
  {
   "cell_type": "code",
   "execution_count": 8,
   "id": "187de864-2721-49ee-ab66-ef026a56d99a",
   "metadata": {},
   "outputs": [],
   "source": [
    "combine_text(train_df)\n",
    "combine_text(val_df)\n",
    "combine_text(test_df)"
   ]
  },
  {
   "cell_type": "code",
   "execution_count": 11,
   "id": "6a01b900-86e1-4e54-9aca-4d59dc1f573a",
   "metadata": {},
   "outputs": [
    {
     "data": {
      "text/plain": [
       "\"We're in the US for 3 weeks [SEP] I’m an Aussie living in Uganda. [SEP] \""
      ]
     },
     "execution_count": 11,
     "metadata": {},
     "output_type": "execute_result"
    }
   ],
   "source": [
    "test_df['combined_text'].iloc[2]"
   ]
  },
  {
   "cell_type": "code",
   "execution_count": 10,
   "id": "dbd435e3-f99e-4561-8840-5700759c5fde",
   "metadata": {},
   "outputs": [],
   "source": [
    "import torch\n",
    "import torch.nn as nn\n",
    "from torch.utils.data import Dataset, DataLoader\n",
    "from transformers import BertTokenizer, BertModel, XLMRobertaTokenizer\n",
    "\n",
    "from sklearn.model_selection import train_test_split\n",
    "\n",
    "from sklearn.metrics import mean_squared_error, mean_absolute_error"
   ]
  },
  {
   "cell_type": "code",
   "execution_count": 11,
   "id": "b423c9b0-b543-4f86-80cb-fbb19a3e406f",
   "metadata": {},
   "outputs": [],
   "source": [
    "class MyDataset(Dataset):\n",
    "    def __init__(self, text, normalized_label, label, tokenizer, max_len):\n",
    "        self.text = text.reset_index(drop=True)\n",
    "        self.label = label.reset_index(drop=True)\n",
    "        self.normalized_label = normalized_label.reset_index(drop=True)\n",
    "        self.tokenizer = tokenizer\n",
    "        self.max_len = max_len\n",
    "        \n",
    "    def __len__(self):\n",
    "        return len(self.text)\n",
    "    \n",
    "    def __getitem__(self, index):\n",
    "        text = str(self.text[index])\n",
    "        normalized_label = self.normalized_label[index]\n",
    "        label = self.label[index]\n",
    "        encoding = self.tokenizer.encode_plus(\n",
    "                    text = text,\n",
    "                    padding = 'max_length',\n",
    "                    truncation = True,\n",
    "                    max_length=self.max_len,\n",
    "                    return_tensors = 'pt',\n",
    "                    return_token_type_ids = False,\n",
    "                    return_attention_mask = True )\n",
    "        \n",
    "        return {'input_ids': encoding['input_ids'].flatten(),\n",
    "                'attention_mask': encoding['attention_mask'].flatten(),\n",
    "                'normalized_label':torch.tensor(normalized_label),\n",
    "                'label':torch.tensor(label)\n",
    "        }\n",
    "\n",
    "        "
   ]
  },
  {
   "cell_type": "code",
   "execution_count": 12,
   "id": "32b7006b-3491-4b4b-a9ca-a84e8fdae641",
   "metadata": {},
   "outputs": [
    {
     "data": {
      "text/plain": [
       "9000"
      ]
     },
     "execution_count": 12,
     "metadata": {},
     "output_type": "execute_result"
    }
   ],
   "source": [
    "val_df['price'].max()"
   ]
  },
  {
   "cell_type": "code",
   "execution_count": 13,
   "id": "81766d6d-054f-467a-b07a-cf7eda91252e",
   "metadata": {},
   "outputs": [],
   "source": [
    "def normalize(x):\n",
    "    return (x - train_df['price'].min()) / (train_df['price'].max() - train_df['price'].min())\n",
    "\n",
    "def denormalize(x):\n",
    "    return x * (train_df['price'].max() - train_df['price'].min()) + train_df['price'].min()"
   ]
  },
  {
   "cell_type": "code",
   "execution_count": 14,
   "id": "7bade7a3-eeea-4c39-a72c-ce37490206f5",
   "metadata": {},
   "outputs": [],
   "source": [
    "train_df['normalized_price'] = train_df['price'].apply(normalize)\n",
    "val_df['normalized_price'] = val_df['price'].apply(normalize)\n",
    "test_df['normalized_price'] = test_df['price'].apply(normalize)"
   ]
  },
  {
   "cell_type": "code",
   "execution_count": 15,
   "id": "bb4a8816-65b0-4f0a-bcaa-61cbb486da86",
   "metadata": {},
   "outputs": [],
   "source": [
    "train_X = train_df['combined_text']\n",
    "train_norm_y = train_df['normalized_price']\n",
    "train_y = train_df['price']\n",
    "\n",
    "val_X = val_df['combined_text']\n",
    "val_norm_y = val_df['normalized_price']\n",
    "val_y = val_df['price']\n",
    "\n",
    "test_X = test_df['combined_text']\n",
    "test_norm_y = test_df['normalized_price']\n",
    "test_y = test_df['price']"
   ]
  },
  {
   "cell_type": "code",
   "execution_count": 16,
   "id": "0b5217a0-2afe-4478-b07e-75634ab3e9f8",
   "metadata": {},
   "outputs": [],
   "source": [
    "tokenizer = BertTokenizer.from_pretrained(\"bert-base-multilingual-cased\")\n",
    "max_len = 128"
   ]
  },
  {
   "cell_type": "code",
   "execution_count": 17,
   "id": "c437b8d1-46b7-48a0-92c5-f0a8c7637ea3",
   "metadata": {},
   "outputs": [],
   "source": [
    "batch_size = 32\n",
    "\n",
    "train_dataset = MyDataset(train_X, train_norm_y, train_y, tokenizer, max_len)\n",
    "val_dataset = MyDataset(val_X, val_norm_y, val_y, tokenizer, max_len)\n",
    "test_dataset = MyDataset(test_X, test_norm_y, test_y, tokenizer, max_len)\n",
    "\n",
    "train_loader = DataLoader(train_dataset, batch_size = batch_size, shuffle = True)\n",
    "val_loader = DataLoader(val_dataset, batch_size = batch_size, shuffle = True)\n",
    "test_loader = DataLoader(test_dataset, batch_size = batch_size, shuffle = False)"
   ]
  },
  {
   "cell_type": "code",
   "execution_count": 18,
   "id": "ba418cca-99c8-408e-959f-4daba08ca11d",
   "metadata": {},
   "outputs": [
    {
     "data": {
      "text/plain": [
       "device(type='cuda')"
      ]
     },
     "execution_count": 18,
     "metadata": {},
     "output_type": "execute_result"
    }
   ],
   "source": [
    "device = torch.device('cuda') if torch.cuda.is_available() else torch.device('cpu')\n",
    "device"
   ]
  },
  {
   "cell_type": "code",
   "execution_count": 19,
   "id": "67d255f1-2fca-471f-938c-7c360a23be2b",
   "metadata": {},
   "outputs": [],
   "source": [
    "class BertRegression(nn.Module):\n",
    "    def __init__(self):\n",
    "        super(BertRegression, self).__init__()\n",
    "        self.bert_model = BertModel.from_pretrained('bert-base-multilingual-cased')\n",
    "        \n",
    "        for layer in self.bert_model.encoder.layer[:6]:\n",
    "            for param in layer.parameters():\n",
    "                param.requires_grad = False\n",
    "        \n",
    "        for layer in self.bert_model.encoder.layer[6:]:\n",
    "            for param in layer.parameters():\n",
    "                param.requires_grad = True  \n",
    "            \n",
    "        self.drop_out = nn.Dropout(0.2)\n",
    "        self.linear = nn.Linear(768, 1)\n",
    "        \n",
    "    def forward(self, input_ids, attention_mask):\n",
    "        output = self.bert_model(input_ids, attention_mask)\n",
    "        output = self.drop_out(output.pooler_output)\n",
    "        logits = self.linear(output)\n",
    "        return logits\n",
    "        "
   ]
  },
  {
   "cell_type": "code",
   "execution_count": 20,
   "id": "b4588465-0f1b-4c23-bc2b-c9011c314487",
   "metadata": {},
   "outputs": [
    {
     "name": "stderr",
     "output_type": "stream",
     "text": [
      "Some weights of the model checkpoint at bert-base-multilingual-cased were not used when initializing BertModel: ['cls.predictions.transform.LayerNorm.weight', 'cls.predictions.bias', 'cls.predictions.transform.dense.weight', 'cls.seq_relationship.weight', 'cls.predictions.transform.dense.bias', 'cls.predictions.transform.LayerNorm.bias', 'cls.seq_relationship.bias']\n",
      "- This IS expected if you are initializing BertModel from the checkpoint of a model trained on another task or with another architecture (e.g. initializing a BertForSequenceClassification model from a BertForPreTraining model).\n",
      "- This IS NOT expected if you are initializing BertModel from the checkpoint of a model that you expect to be exactly identical (initializing a BertForSequenceClassification model from a BertForSequenceClassification model).\n"
     ]
    }
   ],
   "source": [
    "model = BertRegression()\n",
    "model.to(device)\n",
    "\n",
    "learning_rate = 1e-03 \n",
    "optimizer = torch.optim.Adam(params=model.parameters(), lr=learning_rate)\n",
    "\n",
    "criterion = nn.MSELoss()"
   ]
  },
  {
   "cell_type": "code",
   "execution_count": 21,
   "id": "522bf6ac-c83f-4fdb-9020-d2f403561969",
   "metadata": {},
   "outputs": [],
   "source": [
    "import time\n",
    "import math\n",
    "from tqdm import tqdm\n",
    "\n",
    "def rmse(y, y_predict):\n",
    "    mse = mean_squared_error(y, y_predict)\n",
    "    return math.sqrt(mse)\n",
    "\n",
    "def train(model, data_loader, optimizer, criterion, device):\n",
    "    \n",
    "    model.train()\n",
    "    total_loss = 0\n",
    "    all_preds = []\n",
    "    all_labels = []\n",
    "    \n",
    "    start_time = time.time()\n",
    "    \n",
    "    for batch in tqdm(data_loader, desc=\"Training\", unit=\"batch\"):\n",
    "        optimizer.zero_grad()\n",
    "        \n",
    "        input_ids = batch['input_ids'].to(device)\n",
    "        attention_mask = batch['attention_mask'].to(device)\n",
    "        normalized_label = batch['normalized_label'].float().unsqueeze(1).to(device)\n",
    "        labels = batch['label'].float().unsqueeze(1).to(device)\n",
    "        \n",
    "        outputs = model(input_ids, attention_mask)\n",
    "        \n",
    "        loss = criterion(outputs, normalized_label)\n",
    "        total_loss += loss.item()\n",
    "        \n",
    "        loss.backward()\n",
    "        \n",
    "        optimizer.step()\n",
    "        \n",
    "        outputs = denormalize(outputs)\n",
    "        \n",
    "        all_preds.extend(outputs.cpu().tolist())\n",
    "        all_labels.extend(labels.cpu().tolist())\n",
    "        \n",
    "    avg_loss = total_loss/len(data_loader)\n",
    "    train_mae = mean_absolute_error(all_labels, all_preds)\n",
    "    train_rmse = rmse(all_labels, all_preds)\n",
    "\n",
    "    end_time = time.time()  \n",
    "    epoch_duration = end_time - start_time  \n",
    "    \n",
    "    print(f'Training Loss: {avg_loss:.4f}, Train MAE: {train_mae:.4f}, Train RMSE: {train_rmse:.4f}, Time: {epoch_duration:.2f} seconds')\n",
    "    return avg_loss, train_mae\n",
    "\n",
    "def evaluate(model, data_loader, criterion, device):\n",
    "    \n",
    "    model.eval()\n",
    "    total_loss = 0\n",
    "    all_preds = []\n",
    "    all_labels = []\n",
    "    \n",
    "    start_time = time.time()\n",
    "    \n",
    "    with torch.no_grad():\n",
    "        for batch in tqdm(data_loader, desc=\"Validation\", unit=\"batch\"):\n",
    "            \n",
    "            input_ids = batch['input_ids'].to(device)\n",
    "            attention_mask = batch['attention_mask'].to(device)\n",
    "            normalized_label = batch['normalized_label'].float().unsqueeze(1).to(device)\n",
    "            labels = batch['label'].float().unsqueeze(1).to(device)\n",
    "            \n",
    "            outputs = model(input_ids, attention_mask)\n",
    "            \n",
    "            loss = criterion(outputs, normalized_label)\n",
    "            total_loss += loss.item()\n",
    "            \n",
    "            outputs = denormalize(outputs)\n",
    "            \n",
    "            all_preds.extend(outputs.cpu().tolist())\n",
    "            all_labels.extend(labels.cpu().tolist())\n",
    "    \n",
    "\n",
    "    avg_loss = total_loss/len(data_loader)\n",
    "    val_mae = mean_absolute_error(all_labels, all_preds)\n",
    "    val_rmse = rmse(all_labels, all_preds)\n",
    "\n",
    "    end_time = time.time()  \n",
    "    epoch_duration = end_time - start_time  \n",
    "    \n",
    "    print(f'Validation Loss: {avg_loss:.4f}, Validation MAE: {val_mae:.4f}, Validation RMSE: {val_rmse:.4f}, Time: {epoch_duration:.2f} seconds')\n",
    "    \n",
    "    return avg_loss, val_mae"
   ]
  },
  {
   "cell_type": "code",
   "execution_count": 22,
   "id": "1e0326dd-8518-42e4-8f87-855b64bcdde6",
   "metadata": {},
   "outputs": [
    {
     "name": "stdout",
     "output_type": "stream",
     "text": [
      "Epoch 1/5\n"
     ]
    },
    {
     "name": "stderr",
     "output_type": "stream",
     "text": [
      "Training: 100%|███████████████████████████████████████████████████████████████████| 561/561 [05:30<00:00,  1.70batch/s]\n"
     ]
    },
    {
     "name": "stdout",
     "output_type": "stream",
     "text": [
      "Training Loss: 0.0783, Train MAE: 164.7023, Train RMSE: 224.6885, Time: 330.58 seconds\n"
     ]
    },
    {
     "name": "stderr",
     "output_type": "stream",
     "text": [
      "Validation: 100%|███████████████████████████████████████████████████████████████████| 72/72 [00:19<00:00,  3.61batch/s]\n"
     ]
    },
    {
     "name": "stdout",
     "output_type": "stream",
     "text": [
      "Validation Loss: 0.1322, Validation MAE: 82.5310, Validation RMSE: 292.9271, Time: 19.97 seconds\n",
      "Best model saved with validation MAE: 82.5310\n",
      "----------------------------------------------------------------------------------------------------\n",
      "Epoch 2/5\n"
     ]
    },
    {
     "name": "stderr",
     "output_type": "stream",
     "text": [
      "Training: 100%|███████████████████████████████████████████████████████████████████| 561/561 [06:01<00:00,  1.55batch/s]\n"
     ]
    },
    {
     "name": "stdout",
     "output_type": "stream",
     "text": [
      "Training Loss: 0.0234, Train MAE: 88.8177, Train RMSE: 122.7873, Time: 361.35 seconds\n"
     ]
    },
    {
     "name": "stderr",
     "output_type": "stream",
     "text": [
      "Validation: 100%|███████████████████████████████████████████████████████████████████| 72/72 [00:20<00:00,  3.51batch/s]\n"
     ]
    },
    {
     "name": "stdout",
     "output_type": "stream",
     "text": [
      "Validation Loss: 0.1313, Validation MAE: 93.4966, Validation RMSE: 291.9732, Time: 20.49 seconds\n",
      "----------------------------------------------------------------------------------------------------\n",
      "Epoch 3/5\n"
     ]
    },
    {
     "name": "stderr",
     "output_type": "stream",
     "text": [
      "Training: 100%|███████████████████████████████████████████████████████████████████| 561/561 [05:58<00:00,  1.56batch/s]\n"
     ]
    },
    {
     "name": "stdout",
     "output_type": "stream",
     "text": [
      "Training Loss: 0.0168, Train MAE: 70.3629, Train RMSE: 103.9427, Time: 358.89 seconds\n"
     ]
    },
    {
     "name": "stderr",
     "output_type": "stream",
     "text": [
      "Validation: 100%|███████████████████████████████████████████████████████████████████| 72/72 [00:20<00:00,  3.54batch/s]\n"
     ]
    },
    {
     "name": "stdout",
     "output_type": "stream",
     "text": [
      "Validation Loss: 0.1321, Validation MAE: 82.7987, Validation RMSE: 292.7905, Time: 20.34 seconds\n",
      "----------------------------------------------------------------------------------------------------\n",
      "Epoch 4/5\n"
     ]
    },
    {
     "name": "stderr",
     "output_type": "stream",
     "text": [
      "Training: 100%|███████████████████████████████████████████████████████████████████| 561/561 [21:27<00:00,  2.30s/batch]\n"
     ]
    },
    {
     "name": "stdout",
     "output_type": "stream",
     "text": [
      "Training Loss: 0.0166, Train MAE: 69.6420, Train RMSE: 103.3790, Time: 1287.86 seconds\n"
     ]
    },
    {
     "name": "stderr",
     "output_type": "stream",
     "text": [
      "Validation: 100%|███████████████████████████████████████████████████████████████████| 72/72 [01:08<00:00,  1.05batch/s]\n"
     ]
    },
    {
     "name": "stdout",
     "output_type": "stream",
     "text": [
      "Validation Loss: 0.1319, Validation MAE: 85.7592, Validation RMSE: 292.0211, Time: 68.45 seconds\n",
      "----------------------------------------------------------------------------------------------------\n",
      "Epoch 5/5\n"
     ]
    },
    {
     "name": "stderr",
     "output_type": "stream",
     "text": [
      "Training: 100%|███████████████████████████████████████████████████████████████████| 561/561 [26:33<00:00,  2.84s/batch]\n"
     ]
    },
    {
     "name": "stdout",
     "output_type": "stream",
     "text": [
      "Training Loss: 0.0164, Train MAE: 69.4200, Train RMSE: 102.8703, Time: 1593.20 seconds\n"
     ]
    },
    {
     "name": "stderr",
     "output_type": "stream",
     "text": [
      "Validation: 100%|███████████████████████████████████████████████████████████████████| 72/72 [01:38<00:00,  1.37s/batch]\n"
     ]
    },
    {
     "name": "stdout",
     "output_type": "stream",
     "text": [
      "Validation Loss: 0.1332, Validation MAE: 81.4038, Validation RMSE: 294.0677, Time: 98.42 seconds\n",
      "Best model saved with validation MAE: 81.4038\n",
      "----------------------------------------------------------------------------------------------------\n"
     ]
    }
   ],
   "source": [
    "best_val_loss = float('inf')  \n",
    "best_val_mae = float('inf')              \n",
    "model_save_path = \"1_.pth\"\n",
    "\n",
    "num_epochs = 5\n",
    "\n",
    "train_losses = []\n",
    "val_losses = []\n",
    "train_mae_scores = []\n",
    "val_mae_scores = []\n",
    "\n",
    "for epoch in range(num_epochs):\n",
    "    print(f\"Epoch {epoch + 1}/{num_epochs}\")\n",
    "    \n",
    "    train_loss, train_mae = train(model, train_loader, optimizer, criterion, device)\n",
    "    val_loss, val_mae = evaluate(model, val_loader, criterion, device)\n",
    "    \n",
    "    train_losses.append(train_loss)  \n",
    "    train_mae_scores.append(train_mae)  \n",
    "    val_losses.append(val_loss)  \n",
    "    val_mae_scores.append(val_mae)  \n",
    "    \n",
    "    if val_mae < best_val_mae:\n",
    "        best_val_mae = val_mae\n",
    "        torch.save(model.state_dict(), model_save_path)   \n",
    "        print(f\"Best model saved with validation MAE: {best_val_mae:.4f}\")\n",
    "\n",
    "    print('-' * 100)"
   ]
  },
  {
   "cell_type": "code",
   "execution_count": 23,
   "id": "910fbf8a-d150-4ca3-b1e6-c3eff45ff18b",
   "metadata": {},
   "outputs": [
    {
     "name": "stderr",
     "output_type": "stream",
     "text": [
      "Some weights of the model checkpoint at bert-base-multilingual-cased were not used when initializing BertModel: ['cls.predictions.transform.LayerNorm.weight', 'cls.predictions.bias', 'cls.predictions.transform.dense.weight', 'cls.seq_relationship.weight', 'cls.predictions.transform.dense.bias', 'cls.predictions.transform.LayerNorm.bias', 'cls.seq_relationship.bias']\n",
      "- This IS expected if you are initializing BertModel from the checkpoint of a model trained on another task or with another architecture (e.g. initializing a BertForSequenceClassification model from a BertForPreTraining model).\n",
      "- This IS NOT expected if you are initializing BertModel from the checkpoint of a model that you expect to be exactly identical (initializing a BertForSequenceClassification model from a BertForSequenceClassification model).\n",
      "Testing: 100%|██████████████████████████████████████████████████████████████████████| 72/72 [01:40<00:00,  1.39s/batch]"
     ]
    },
    {
     "name": "stdout",
     "output_type": "stream",
     "text": [
      "Testing MAE: 77.3538, Testing RMSE: 178.6278, Time: 100.41 seconds\n"
     ]
    },
    {
     "name": "stderr",
     "output_type": "stream",
     "text": [
      "\n"
     ]
    }
   ],
   "source": [
    "model1 = BertRegression()\n",
    "model1.to(device)\n",
    "\n",
    "model1.load_state_dict(torch.load(model_save_path))\n",
    "model1.to(device)\n",
    "all_labels = []\n",
    "all_preds = []\n",
    "\n",
    "start_time = time.time()\n",
    "\n",
    "for batch in tqdm(test_loader, desc=\"Testing\", unit=\"batch\"):\n",
    "    input_ids = batch['input_ids'].to(device)\n",
    "    attention_mask = batch['attention_mask'].to(device)\n",
    "    normalized_label = batch['normalized_label'].float().unsqueeze(1).to(device)\n",
    "    labels = batch['label'].float().unsqueeze(1).to(device)\n",
    "    \n",
    "    with torch.no_grad():\n",
    "        outputs = model1(input_ids, attention_mask)\n",
    "        outputs = denormalize(outputs)\n",
    "        \n",
    "        all_preds.extend(outputs.cpu().tolist())\n",
    "        all_labels.extend(labels.cpu().tolist())  \n",
    "        \n",
    "all_labels = np.array(all_labels).flatten()\n",
    "all_preds = np.array(all_preds).flatten()\n",
    "        \n",
    "test_mae = mean_absolute_error(all_labels, all_preds)\n",
    "test_rmse = rmse(all_labels, all_preds)\n",
    "\n",
    "end_time = time.time()  \n",
    "epoch_duration = end_time - start_time\n",
    "\n",
    "print(f'Testing MAE: {test_mae:.4f}, Testing RMSE: {test_rmse:.4f}, Time: {epoch_duration:.2f} seconds')"
   ]
  },
  {
   "cell_type": "code",
   "execution_count": null,
   "id": "a0c80dab-4277-4398-9635-3b99756be256",
   "metadata": {},
   "outputs": [],
   "source": []
  }
 ],
 "metadata": {
  "kernelspec": {
   "display_name": "gputest",
   "language": "python",
   "name": "gputest"
  },
  "language_info": {
   "codemirror_mode": {
    "name": "ipython",
    "version": 3
   },
   "file_extension": ".py",
   "mimetype": "text/x-python",
   "name": "python",
   "nbconvert_exporter": "python",
   "pygments_lexer": "ipython3",
   "version": "3.7.16"
  }
 },
 "nbformat": 4,
 "nbformat_minor": 5
}
