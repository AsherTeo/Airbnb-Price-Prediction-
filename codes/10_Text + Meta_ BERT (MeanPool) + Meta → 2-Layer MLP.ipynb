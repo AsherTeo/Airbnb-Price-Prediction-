{
 "cells": [
  {
   "cell_type": "code",
   "execution_count": 1,
   "id": "2500d7c7-9f33-40b1-bda4-5beb9c592a47",
   "metadata": {},
   "outputs": [],
   "source": [
    "import numpy as np\n",
    "import seaborn as sns\n",
    "import pandas as pd\n",
    "import matplotlib.pyplot as plt\n",
    "import math\n",
    "import time\n",
    "from scipy import stats\n",
    "\n",
    "from sklearn.base import BaseEstimator, TransformerMixin\n",
    "from sklearn.compose import ColumnTransformer\n",
    "from sklearn.pipeline import Pipeline\n",
    "from sklearn.preprocessing import OneHotEncoder, StandardScaler\n",
    "\n",
    "from sklearn.metrics import mean_squared_error, mean_absolute_error\n",
    "\n",
    "from transformers import BertTokenizer, BertModel\n",
    "from tqdm import tqdm\n",
    "\n",
    "import torch\n",
    "import torch.nn as nn\n",
    "from torch.utils.data import Dataset, DataLoader\n",
    "\n",
    "pd.set_option('display.max_columns', 300)\n",
    "pd.set_option('display.max_rows', 300)"
   ]
  },
  {
   "cell_type": "code",
   "execution_count": 2,
   "id": "9171c5bb-696b-46f7-8e59-0aced0c815cf",
   "metadata": {},
   "outputs": [],
   "source": [
    "train_df = pd.read_csv('clean_data.csv')\n",
    "val_df = pd.read_csv('clean_val.csv')\n",
    "test_df = pd.read_csv('clean_test.csv')"
   ]
  },
  {
   "cell_type": "code",
   "execution_count": 3,
   "id": "a1ec9ffe-2146-42f4-a8be-2951ce3f5cbf",
   "metadata": {},
   "outputs": [],
   "source": [
    "train_df.dropna(inplace = True)"
   ]
  },
  {
   "cell_type": "code",
   "execution_count": 4,
   "id": "ae1ab5bb-1306-44c6-a70f-5d6f869470f5",
   "metadata": {},
   "outputs": [],
   "source": [
    "with open(\"numerical.txt\", \"r\", encoding=\"utf-8\") as file:\n",
    "    numeric_features = [line.strip() for line in file.readlines()]\n",
    "    \n",
    "with open(\"cat.txt\", \"r\", encoding=\"utf-8\") as file:\n",
    "    cat_features = [line.strip() for line in file.readlines()]\n",
    "    \n",
    "with open(\"text.txt\", \"r\", encoding=\"utf-8\") as file:\n",
    "    text_features = [line.strip() for line in file.readlines()]"
   ]
  },
  {
   "cell_type": "code",
   "execution_count": 5,
   "id": "849032ab-af3c-4e06-bdf6-ee36918862e2",
   "metadata": {},
   "outputs": [
    {
     "name": "stdout",
     "output_type": "stream",
     "text": [
      "Total number of Numerical Features and one target: 9\n",
      "Total number of Categorical Features: 70\n",
      "Total number of Text Features: 2\n"
     ]
    }
   ],
   "source": [
    "print('Total number of Numerical Features and one target:', len(numeric_features))\n",
    "print('Total number of Categorical Features:',len(cat_features))\n",
    "print('Total number of Text Features:',len(text_features))"
   ]
  },
  {
   "cell_type": "code",
   "execution_count": 6,
   "id": "2c89cc6c-9382-4ed7-98c4-205662857ca2",
   "metadata": {
    "scrolled": true,
    "tags": []
   },
   "outputs": [
    {
     "name": "stderr",
     "output_type": "stream",
     "text": [
      "Some weights of the model checkpoint at bert-base-multilingual-cased were not used when initializing BertModel: ['cls.predictions.transform.dense.bias', 'cls.predictions.transform.LayerNorm.bias', 'cls.predictions.transform.dense.weight', 'cls.predictions.bias', 'cls.seq_relationship.bias', 'cls.predictions.transform.LayerNorm.weight', 'cls.seq_relationship.weight']\n",
      "- This IS expected if you are initializing BertModel from the checkpoint of a model trained on another task or with another architecture (e.g. initializing a BertForSequenceClassification model from a BertForPreTraining model).\n",
      "- This IS NOT expected if you are initializing BertModel from the checkpoint of a model that you expect to be exactly identical (initializing a BertForSequenceClassification model from a BertForSequenceClassification model).\n"
     ]
    },
    {
     "data": {
      "text/plain": [
       "BertModel(\n",
       "  (embeddings): BertEmbeddings(\n",
       "    (word_embeddings): Embedding(119547, 768, padding_idx=0)\n",
       "    (position_embeddings): Embedding(512, 768)\n",
       "    (token_type_embeddings): Embedding(2, 768)\n",
       "    (LayerNorm): LayerNorm((768,), eps=1e-12, elementwise_affine=True)\n",
       "    (dropout): Dropout(p=0.1, inplace=False)\n",
       "  )\n",
       "  (encoder): BertEncoder(\n",
       "    (layer): ModuleList(\n",
       "      (0): BertLayer(\n",
       "        (attention): BertAttention(\n",
       "          (self): BertSelfAttention(\n",
       "            (query): Linear(in_features=768, out_features=768, bias=True)\n",
       "            (key): Linear(in_features=768, out_features=768, bias=True)\n",
       "            (value): Linear(in_features=768, out_features=768, bias=True)\n",
       "            (dropout): Dropout(p=0.1, inplace=False)\n",
       "          )\n",
       "          (output): BertSelfOutput(\n",
       "            (dense): Linear(in_features=768, out_features=768, bias=True)\n",
       "            (LayerNorm): LayerNorm((768,), eps=1e-12, elementwise_affine=True)\n",
       "            (dropout): Dropout(p=0.1, inplace=False)\n",
       "          )\n",
       "        )\n",
       "        (intermediate): BertIntermediate(\n",
       "          (dense): Linear(in_features=768, out_features=3072, bias=True)\n",
       "          (intermediate_act_fn): GELUActivation()\n",
       "        )\n",
       "        (output): BertOutput(\n",
       "          (dense): Linear(in_features=3072, out_features=768, bias=True)\n",
       "          (LayerNorm): LayerNorm((768,), eps=1e-12, elementwise_affine=True)\n",
       "          (dropout): Dropout(p=0.1, inplace=False)\n",
       "        )\n",
       "      )\n",
       "      (1): BertLayer(\n",
       "        (attention): BertAttention(\n",
       "          (self): BertSelfAttention(\n",
       "            (query): Linear(in_features=768, out_features=768, bias=True)\n",
       "            (key): Linear(in_features=768, out_features=768, bias=True)\n",
       "            (value): Linear(in_features=768, out_features=768, bias=True)\n",
       "            (dropout): Dropout(p=0.1, inplace=False)\n",
       "          )\n",
       "          (output): BertSelfOutput(\n",
       "            (dense): Linear(in_features=768, out_features=768, bias=True)\n",
       "            (LayerNorm): LayerNorm((768,), eps=1e-12, elementwise_affine=True)\n",
       "            (dropout): Dropout(p=0.1, inplace=False)\n",
       "          )\n",
       "        )\n",
       "        (intermediate): BertIntermediate(\n",
       "          (dense): Linear(in_features=768, out_features=3072, bias=True)\n",
       "          (intermediate_act_fn): GELUActivation()\n",
       "        )\n",
       "        (output): BertOutput(\n",
       "          (dense): Linear(in_features=3072, out_features=768, bias=True)\n",
       "          (LayerNorm): LayerNorm((768,), eps=1e-12, elementwise_affine=True)\n",
       "          (dropout): Dropout(p=0.1, inplace=False)\n",
       "        )\n",
       "      )\n",
       "      (2): BertLayer(\n",
       "        (attention): BertAttention(\n",
       "          (self): BertSelfAttention(\n",
       "            (query): Linear(in_features=768, out_features=768, bias=True)\n",
       "            (key): Linear(in_features=768, out_features=768, bias=True)\n",
       "            (value): Linear(in_features=768, out_features=768, bias=True)\n",
       "            (dropout): Dropout(p=0.1, inplace=False)\n",
       "          )\n",
       "          (output): BertSelfOutput(\n",
       "            (dense): Linear(in_features=768, out_features=768, bias=True)\n",
       "            (LayerNorm): LayerNorm((768,), eps=1e-12, elementwise_affine=True)\n",
       "            (dropout): Dropout(p=0.1, inplace=False)\n",
       "          )\n",
       "        )\n",
       "        (intermediate): BertIntermediate(\n",
       "          (dense): Linear(in_features=768, out_features=3072, bias=True)\n",
       "          (intermediate_act_fn): GELUActivation()\n",
       "        )\n",
       "        (output): BertOutput(\n",
       "          (dense): Linear(in_features=3072, out_features=768, bias=True)\n",
       "          (LayerNorm): LayerNorm((768,), eps=1e-12, elementwise_affine=True)\n",
       "          (dropout): Dropout(p=0.1, inplace=False)\n",
       "        )\n",
       "      )\n",
       "      (3): BertLayer(\n",
       "        (attention): BertAttention(\n",
       "          (self): BertSelfAttention(\n",
       "            (query): Linear(in_features=768, out_features=768, bias=True)\n",
       "            (key): Linear(in_features=768, out_features=768, bias=True)\n",
       "            (value): Linear(in_features=768, out_features=768, bias=True)\n",
       "            (dropout): Dropout(p=0.1, inplace=False)\n",
       "          )\n",
       "          (output): BertSelfOutput(\n",
       "            (dense): Linear(in_features=768, out_features=768, bias=True)\n",
       "            (LayerNorm): LayerNorm((768,), eps=1e-12, elementwise_affine=True)\n",
       "            (dropout): Dropout(p=0.1, inplace=False)\n",
       "          )\n",
       "        )\n",
       "        (intermediate): BertIntermediate(\n",
       "          (dense): Linear(in_features=768, out_features=3072, bias=True)\n",
       "          (intermediate_act_fn): GELUActivation()\n",
       "        )\n",
       "        (output): BertOutput(\n",
       "          (dense): Linear(in_features=3072, out_features=768, bias=True)\n",
       "          (LayerNorm): LayerNorm((768,), eps=1e-12, elementwise_affine=True)\n",
       "          (dropout): Dropout(p=0.1, inplace=False)\n",
       "        )\n",
       "      )\n",
       "      (4): BertLayer(\n",
       "        (attention): BertAttention(\n",
       "          (self): BertSelfAttention(\n",
       "            (query): Linear(in_features=768, out_features=768, bias=True)\n",
       "            (key): Linear(in_features=768, out_features=768, bias=True)\n",
       "            (value): Linear(in_features=768, out_features=768, bias=True)\n",
       "            (dropout): Dropout(p=0.1, inplace=False)\n",
       "          )\n",
       "          (output): BertSelfOutput(\n",
       "            (dense): Linear(in_features=768, out_features=768, bias=True)\n",
       "            (LayerNorm): LayerNorm((768,), eps=1e-12, elementwise_affine=True)\n",
       "            (dropout): Dropout(p=0.1, inplace=False)\n",
       "          )\n",
       "        )\n",
       "        (intermediate): BertIntermediate(\n",
       "          (dense): Linear(in_features=768, out_features=3072, bias=True)\n",
       "          (intermediate_act_fn): GELUActivation()\n",
       "        )\n",
       "        (output): BertOutput(\n",
       "          (dense): Linear(in_features=3072, out_features=768, bias=True)\n",
       "          (LayerNorm): LayerNorm((768,), eps=1e-12, elementwise_affine=True)\n",
       "          (dropout): Dropout(p=0.1, inplace=False)\n",
       "        )\n",
       "      )\n",
       "      (5): BertLayer(\n",
       "        (attention): BertAttention(\n",
       "          (self): BertSelfAttention(\n",
       "            (query): Linear(in_features=768, out_features=768, bias=True)\n",
       "            (key): Linear(in_features=768, out_features=768, bias=True)\n",
       "            (value): Linear(in_features=768, out_features=768, bias=True)\n",
       "            (dropout): Dropout(p=0.1, inplace=False)\n",
       "          )\n",
       "          (output): BertSelfOutput(\n",
       "            (dense): Linear(in_features=768, out_features=768, bias=True)\n",
       "            (LayerNorm): LayerNorm((768,), eps=1e-12, elementwise_affine=True)\n",
       "            (dropout): Dropout(p=0.1, inplace=False)\n",
       "          )\n",
       "        )\n",
       "        (intermediate): BertIntermediate(\n",
       "          (dense): Linear(in_features=768, out_features=3072, bias=True)\n",
       "          (intermediate_act_fn): GELUActivation()\n",
       "        )\n",
       "        (output): BertOutput(\n",
       "          (dense): Linear(in_features=3072, out_features=768, bias=True)\n",
       "          (LayerNorm): LayerNorm((768,), eps=1e-12, elementwise_affine=True)\n",
       "          (dropout): Dropout(p=0.1, inplace=False)\n",
       "        )\n",
       "      )\n",
       "      (6): BertLayer(\n",
       "        (attention): BertAttention(\n",
       "          (self): BertSelfAttention(\n",
       "            (query): Linear(in_features=768, out_features=768, bias=True)\n",
       "            (key): Linear(in_features=768, out_features=768, bias=True)\n",
       "            (value): Linear(in_features=768, out_features=768, bias=True)\n",
       "            (dropout): Dropout(p=0.1, inplace=False)\n",
       "          )\n",
       "          (output): BertSelfOutput(\n",
       "            (dense): Linear(in_features=768, out_features=768, bias=True)\n",
       "            (LayerNorm): LayerNorm((768,), eps=1e-12, elementwise_affine=True)\n",
       "            (dropout): Dropout(p=0.1, inplace=False)\n",
       "          )\n",
       "        )\n",
       "        (intermediate): BertIntermediate(\n",
       "          (dense): Linear(in_features=768, out_features=3072, bias=True)\n",
       "          (intermediate_act_fn): GELUActivation()\n",
       "        )\n",
       "        (output): BertOutput(\n",
       "          (dense): Linear(in_features=3072, out_features=768, bias=True)\n",
       "          (LayerNorm): LayerNorm((768,), eps=1e-12, elementwise_affine=True)\n",
       "          (dropout): Dropout(p=0.1, inplace=False)\n",
       "        )\n",
       "      )\n",
       "      (7): BertLayer(\n",
       "        (attention): BertAttention(\n",
       "          (self): BertSelfAttention(\n",
       "            (query): Linear(in_features=768, out_features=768, bias=True)\n",
       "            (key): Linear(in_features=768, out_features=768, bias=True)\n",
       "            (value): Linear(in_features=768, out_features=768, bias=True)\n",
       "            (dropout): Dropout(p=0.1, inplace=False)\n",
       "          )\n",
       "          (output): BertSelfOutput(\n",
       "            (dense): Linear(in_features=768, out_features=768, bias=True)\n",
       "            (LayerNorm): LayerNorm((768,), eps=1e-12, elementwise_affine=True)\n",
       "            (dropout): Dropout(p=0.1, inplace=False)\n",
       "          )\n",
       "        )\n",
       "        (intermediate): BertIntermediate(\n",
       "          (dense): Linear(in_features=768, out_features=3072, bias=True)\n",
       "          (intermediate_act_fn): GELUActivation()\n",
       "        )\n",
       "        (output): BertOutput(\n",
       "          (dense): Linear(in_features=3072, out_features=768, bias=True)\n",
       "          (LayerNorm): LayerNorm((768,), eps=1e-12, elementwise_affine=True)\n",
       "          (dropout): Dropout(p=0.1, inplace=False)\n",
       "        )\n",
       "      )\n",
       "      (8): BertLayer(\n",
       "        (attention): BertAttention(\n",
       "          (self): BertSelfAttention(\n",
       "            (query): Linear(in_features=768, out_features=768, bias=True)\n",
       "            (key): Linear(in_features=768, out_features=768, bias=True)\n",
       "            (value): Linear(in_features=768, out_features=768, bias=True)\n",
       "            (dropout): Dropout(p=0.1, inplace=False)\n",
       "          )\n",
       "          (output): BertSelfOutput(\n",
       "            (dense): Linear(in_features=768, out_features=768, bias=True)\n",
       "            (LayerNorm): LayerNorm((768,), eps=1e-12, elementwise_affine=True)\n",
       "            (dropout): Dropout(p=0.1, inplace=False)\n",
       "          )\n",
       "        )\n",
       "        (intermediate): BertIntermediate(\n",
       "          (dense): Linear(in_features=768, out_features=3072, bias=True)\n",
       "          (intermediate_act_fn): GELUActivation()\n",
       "        )\n",
       "        (output): BertOutput(\n",
       "          (dense): Linear(in_features=3072, out_features=768, bias=True)\n",
       "          (LayerNorm): LayerNorm((768,), eps=1e-12, elementwise_affine=True)\n",
       "          (dropout): Dropout(p=0.1, inplace=False)\n",
       "        )\n",
       "      )\n",
       "      (9): BertLayer(\n",
       "        (attention): BertAttention(\n",
       "          (self): BertSelfAttention(\n",
       "            (query): Linear(in_features=768, out_features=768, bias=True)\n",
       "            (key): Linear(in_features=768, out_features=768, bias=True)\n",
       "            (value): Linear(in_features=768, out_features=768, bias=True)\n",
       "            (dropout): Dropout(p=0.1, inplace=False)\n",
       "          )\n",
       "          (output): BertSelfOutput(\n",
       "            (dense): Linear(in_features=768, out_features=768, bias=True)\n",
       "            (LayerNorm): LayerNorm((768,), eps=1e-12, elementwise_affine=True)\n",
       "            (dropout): Dropout(p=0.1, inplace=False)\n",
       "          )\n",
       "        )\n",
       "        (intermediate): BertIntermediate(\n",
       "          (dense): Linear(in_features=768, out_features=3072, bias=True)\n",
       "          (intermediate_act_fn): GELUActivation()\n",
       "        )\n",
       "        (output): BertOutput(\n",
       "          (dense): Linear(in_features=3072, out_features=768, bias=True)\n",
       "          (LayerNorm): LayerNorm((768,), eps=1e-12, elementwise_affine=True)\n",
       "          (dropout): Dropout(p=0.1, inplace=False)\n",
       "        )\n",
       "      )\n",
       "      (10): BertLayer(\n",
       "        (attention): BertAttention(\n",
       "          (self): BertSelfAttention(\n",
       "            (query): Linear(in_features=768, out_features=768, bias=True)\n",
       "            (key): Linear(in_features=768, out_features=768, bias=True)\n",
       "            (value): Linear(in_features=768, out_features=768, bias=True)\n",
       "            (dropout): Dropout(p=0.1, inplace=False)\n",
       "          )\n",
       "          (output): BertSelfOutput(\n",
       "            (dense): Linear(in_features=768, out_features=768, bias=True)\n",
       "            (LayerNorm): LayerNorm((768,), eps=1e-12, elementwise_affine=True)\n",
       "            (dropout): Dropout(p=0.1, inplace=False)\n",
       "          )\n",
       "        )\n",
       "        (intermediate): BertIntermediate(\n",
       "          (dense): Linear(in_features=768, out_features=3072, bias=True)\n",
       "          (intermediate_act_fn): GELUActivation()\n",
       "        )\n",
       "        (output): BertOutput(\n",
       "          (dense): Linear(in_features=3072, out_features=768, bias=True)\n",
       "          (LayerNorm): LayerNorm((768,), eps=1e-12, elementwise_affine=True)\n",
       "          (dropout): Dropout(p=0.1, inplace=False)\n",
       "        )\n",
       "      )\n",
       "      (11): BertLayer(\n",
       "        (attention): BertAttention(\n",
       "          (self): BertSelfAttention(\n",
       "            (query): Linear(in_features=768, out_features=768, bias=True)\n",
       "            (key): Linear(in_features=768, out_features=768, bias=True)\n",
       "            (value): Linear(in_features=768, out_features=768, bias=True)\n",
       "            (dropout): Dropout(p=0.1, inplace=False)\n",
       "          )\n",
       "          (output): BertSelfOutput(\n",
       "            (dense): Linear(in_features=768, out_features=768, bias=True)\n",
       "            (LayerNorm): LayerNorm((768,), eps=1e-12, elementwise_affine=True)\n",
       "            (dropout): Dropout(p=0.1, inplace=False)\n",
       "          )\n",
       "        )\n",
       "        (intermediate): BertIntermediate(\n",
       "          (dense): Linear(in_features=768, out_features=3072, bias=True)\n",
       "          (intermediate_act_fn): GELUActivation()\n",
       "        )\n",
       "        (output): BertOutput(\n",
       "          (dense): Linear(in_features=3072, out_features=768, bias=True)\n",
       "          (LayerNorm): LayerNorm((768,), eps=1e-12, elementwise_affine=True)\n",
       "          (dropout): Dropout(p=0.1, inplace=False)\n",
       "        )\n",
       "      )\n",
       "    )\n",
       "  )\n",
       "  (pooler): BertPooler(\n",
       "    (dense): Linear(in_features=768, out_features=768, bias=True)\n",
       "    (activation): Tanh()\n",
       "  )\n",
       ")"
      ]
     },
     "execution_count": 6,
     "metadata": {},
     "output_type": "execute_result"
    }
   ],
   "source": [
    "device = torch.device(\"cuda\" if torch.cuda.is_available() else \"cpu\")\n",
    "\n",
    "tokenizer = BertTokenizer.from_pretrained('bert-base-multilingual-cased')\n",
    "embedding_model = BertModel.from_pretrained('bert-base-multilingual-cased')\n",
    "embedding_model.to(device)"
   ]
  },
  {
   "cell_type": "code",
   "execution_count": 7,
   "id": "7714ecce-a842-4e61-8341-77fdd5430cc1",
   "metadata": {},
   "outputs": [],
   "source": [
    "class BoxCoxTransformer(BaseEstimator, TransformerMixin):\n",
    "    def __init__(self):\n",
    "        self.lambdas_ = {}\n",
    "\n",
    "    def fit(self, X, y=None):\n",
    "        X = X.copy()\n",
    "        for column in X.columns:\n",
    "            if any(X[column] <= 0):\n",
    "                X[column] = X[column] + abs(X[column].min()) + 1\n",
    "            _, lambda_optimal = stats.boxcox(X[column])\n",
    "            self.lambdas_[column] = lambda_optimal\n",
    "        return self\n",
    "\n",
    "    def transform(self, X):\n",
    "        X = X.copy()\n",
    "        for column, lambda_optimal in self.lambdas_.items():\n",
    "            if any(X[column] <= 0):\n",
    "                X[column] = X[column] + abs(X[column].min()) + 1\n",
    "            X[column] = stats.boxcox(X[column], lmbda=lambda_optimal)\n",
    "        return X\n",
    "\n",
    "def get_bert_embeddings(text_series, batch_size):\n",
    "    embeddings = []\n",
    "    embedding_model.eval()  \n",
    "    \n",
    "    for i in range(0, len(text_series), batch_size):\n",
    "        batch_texts = text_series[i:i + batch_size]\n",
    "        \n",
    "        if not batch_texts: \n",
    "            continue\n",
    "        \n",
    "        inputs = tokenizer(batch_texts, return_tensors='pt', truncation=True, padding=True, max_length=128)\n",
    "        inputs = {key: value.to(device) for key, value in inputs.items()}\n",
    "\n",
    "        with torch.no_grad():\n",
    "            outputs = embedding_model(**inputs)\n",
    "            batch_embeddings = outputs.last_hidden_state[:, 0, :].cpu().numpy()\n",
    "            embeddings.append(batch_embeddings)\n",
    "    \n",
    "    if embeddings:\n",
    "        return np.vstack(embeddings)\n",
    "    else:\n",
    "        return np.array([])\n",
    "    \n",
    "def concat(df, text_features, batch_size, pooling, is_train = False):\n",
    "\n",
    "    embeddings_list = []\n",
    "\n",
    "    for feature in text_features:\n",
    "        print(feature)\n",
    "        text_embeddings = get_bert_embeddings(df[feature].tolist(), batch_size)\n",
    "\n",
    "        if pooling == 'max':\n",
    "            text_embeddings = np.max(text_embeddings, axis=1)  \n",
    "        elif pooling == 'mean':\n",
    "            text_embeddings = np.mean(text_embeddings, axis=1)  \n",
    "\n",
    "        if text_embeddings.ndim == 1:\n",
    "            text_embeddings = text_embeddings.reshape(-1, 1)\n",
    "\n",
    "        embeddings_list.append(text_embeddings)\n",
    "        \n",
    "    if is_train:\n",
    "        transformed_features = preprocessor.fit_transform(df).toarray()\n",
    "    else:\n",
    "        transformed_features = preprocessor.transform(df).toarray()\n",
    "\n",
    "    combined_features = np.concatenate(embeddings_list + [transformed_features], axis=1)\n",
    "\n",
    "    return combined_features"
   ]
  },
  {
   "cell_type": "code",
   "execution_count": 8,
   "id": "eef7ce76-35d2-49af-845b-5fb9fc092697",
   "metadata": {},
   "outputs": [],
   "source": [
    "class MyDataset(Dataset):\n",
    "    def __init__(self, combined_features, norm_target, target):\n",
    "        self.combined_features = np.array(combined_features)\n",
    "        self.norm_target = np.array(norm_target)\n",
    "        self.target = np.array(target)\n",
    "\n",
    "    def __len__(self):\n",
    "        return len(self.target)\n",
    "\n",
    "    def __getitem__(self, index):\n",
    "        combined_features = self.combined_features[index]\n",
    "        norm_target = self.norm_target[index] \n",
    "        target = self.target[index] \n",
    "        \n",
    "        return {'combined_features': torch.tensor(combined_features, dtype=torch.float32),\n",
    "                'norm_target':torch.tensor(norm_target, dtype=torch.float32),\n",
    "                'target':torch.tensor(target, dtype=torch.float32)\n",
    "        }"
   ]
  },
  {
   "cell_type": "code",
   "execution_count": 9,
   "id": "36dc24b5-f3e7-4a97-99ad-c2bb883dcb8b",
   "metadata": {},
   "outputs": [],
   "source": [
    "def normalize(x):\n",
    "    return (x - train_df['price'].min()) / (train_df['price'].max() - train_df['price'].min())\n",
    "\n",
    "def denormalize(x):\n",
    "    return x * (train_df['price'].max() - train_df['price'].min()) + train_df['price'].min()"
   ]
  },
  {
   "cell_type": "code",
   "execution_count": 10,
   "id": "a56a729f-29e4-492f-93ac-4d4dd432a94f",
   "metadata": {},
   "outputs": [],
   "source": [
    "train_df['normalized_price'] = train_df['price'].apply(normalize)\n",
    "val_df['normalized_price'] = val_df['price'].apply(normalize)\n",
    "test_df['normalized_price'] = test_df['price'].apply(normalize)"
   ]
  },
  {
   "cell_type": "code",
   "execution_count": 11,
   "id": "065aa0c2-6ba6-42d6-adf7-ebbb6d4bf8b8",
   "metadata": {},
   "outputs": [],
   "source": [
    "numeric_transformer = Pipeline([\n",
    "    ('boxcox', BoxCoxTransformer()),\n",
    "    ('scaler', StandardScaler())\n",
    "])\n",
    "\n",
    "\n",
    "preprocessor = ColumnTransformer(\n",
    "    transformers=[\n",
    "        ('num', numeric_transformer, numeric_features),\n",
    "        ('cat', OneHotEncoder(handle_unknown='ignore'), cat_features)\n",
    "    ]\n",
    ")"
   ]
  },
  {
   "cell_type": "code",
   "execution_count": 12,
   "id": "8288b727-2982-4b46-99a9-07c1af27f00c",
   "metadata": {},
   "outputs": [
    {
     "name": "stdout",
     "output_type": "stream",
     "text": [
      "summary\n",
      "host_about\n",
      "summary\n",
      "host_about\n",
      "summary\n",
      "host_about\n"
     ]
    }
   ],
   "source": [
    "train_combined_features = concat(train_df, text_features, batch_size = 32, pooling = 'mean', is_train = True)\n",
    "val_combined_features = concat(val_df, text_features, batch_size = 32, pooling = 'mean', is_train = False)\n",
    "test_combined_features = concat(test_df, text_features, batch_size = 32, pooling = 'mean', is_train = False)"
   ]
  },
  {
   "cell_type": "code",
   "execution_count": 13,
   "id": "32b50d29-66ca-4d76-8948-a46c9190d420",
   "metadata": {},
   "outputs": [],
   "source": [
    "batch_size = 32\n",
    "\n",
    "train_norm_y = train_df['normalized_price']\n",
    "train_y = train_df['price']\n",
    "\n",
    "val_norm_y = val_df['normalized_price']\n",
    "val_y = val_df['price']\n",
    "\n",
    "test_norm_y = test_df['normalized_price']\n",
    "test_y = test_df['price']\n",
    "\n",
    "train_dataset = MyDataset(train_combined_features, train_norm_y, train_y)\n",
    "val_dataset = MyDataset(val_combined_features, val_norm_y, val_y)\n",
    "test_dataset = MyDataset(test_combined_features, test_norm_y, test_y)\n",
    "\n",
    "train_loader = DataLoader(train_dataset, batch_size = batch_size, shuffle = True)\n",
    "val_loader = DataLoader(val_dataset, batch_size = batch_size, shuffle = True)\n",
    "test_loader = DataLoader(test_dataset, batch_size = batch_size, shuffle = True)"
   ]
  },
  {
   "cell_type": "code",
   "execution_count": 20,
   "id": "6109fcba-729f-46e8-825f-ab517d6e2941",
   "metadata": {},
   "outputs": [],
   "source": [
    "class MLPRegressionModel(nn.Module):\n",
    "    def __init__(self, input_dim, hidden_dim=64):\n",
    "        super(MLPRegressionModel, self).__init__()\n",
    "        \n",
    "        self.fc1 = nn.Linear(input_dim, 64)\n",
    "        self.bn1 = nn.BatchNorm1d(64)\n",
    "        \n",
    "        self.fc2 = nn.Linear(64, 32)\n",
    "        self.bn2 = nn.BatchNorm1d(32)\n",
    "        \n",
    "        self.fc3 = nn.Linear(32, 1)\n",
    "        \n",
    "        self.relu = nn.ReLU()\n",
    "        self.dropout = nn.Dropout(0.2)\n",
    "        \n",
    "    def forward(self, x):\n",
    "        \n",
    "        x = self.fc1(x)\n",
    "        x = self.bn1(x)        \n",
    "        x = self.relu(x)\n",
    "        x = self.dropout(x)\n",
    "        \n",
    "        x = self.fc2(x)\n",
    "        x = self.bn2(x)        \n",
    "        x = self.relu(x)\n",
    "        x = self.dropout(x)\n",
    "        \n",
    "        x = self.fc3(x)\n",
    "        return x"
   ]
  },
  {
   "cell_type": "code",
   "execution_count": 21,
   "id": "9426be3d-f479-4a2d-9064-5d76c2a1e5c1",
   "metadata": {},
   "outputs": [],
   "source": [
    "input_dim = train_combined_features.shape[1]\n",
    "model = MLPRegressionModel(input_dim=input_dim)\n",
    "model = model.to(device)"
   ]
  },
  {
   "cell_type": "code",
   "execution_count": 22,
   "id": "2a5b9684-3fec-4a9a-bb48-1cd0c8edfc6e",
   "metadata": {},
   "outputs": [],
   "source": [
    "optimizer = torch.optim.Adam(model.parameters(), lr=0.001)\n",
    "criterion = nn.MSELoss()"
   ]
  },
  {
   "cell_type": "code",
   "execution_count": 23,
   "id": "2f822a61-424b-4c10-a40f-0e184476b1ea",
   "metadata": {},
   "outputs": [],
   "source": [
    "from tqdm import tqdm\n",
    "\n",
    "def rmse(y, y_predict):\n",
    "    mse = mean_squared_error(y, y_predict)\n",
    "    return math.sqrt(mse)\n",
    "\n",
    "def train(model, data_loader, optimizer, criterion, device):\n",
    "    model.train()\n",
    "    total_loss = 0\n",
    "    all_preds = []\n",
    "    all_labels = []\n",
    "    \n",
    "    start_time = time.time()\n",
    "    \n",
    "    for batch in tqdm(data_loader, desc=\"Training\", unit=\"batch\"):\n",
    "        inputs = batch['combined_features'].to(device)\n",
    "        norm_target = batch['norm_target'].to(device)\n",
    "        targets = batch['target'].to(device)\n",
    "\n",
    "        optimizer.zero_grad()\n",
    "        outputs = model(inputs)\n",
    "        \n",
    "        loss = criterion(outputs, norm_target.unsqueeze(1))\n",
    "        total_loss += loss.item()\n",
    "        \n",
    "        loss.backward()\n",
    "        optimizer.step()\n",
    "        \n",
    "        outputs = denormalize(outputs)\n",
    "        \n",
    "        all_preds.extend(outputs.cpu().tolist())\n",
    "        all_labels.extend(targets.cpu().tolist())\n",
    "        \n",
    "    avg_loss = total_loss/len(data_loader)\n",
    "    train_mae = mean_absolute_error(all_labels, all_preds)\n",
    "    train_rmse = rmse(all_labels, all_preds)\n",
    "\n",
    "    end_time = time.time()  \n",
    "    epoch_duration = end_time - start_time  \n",
    "    \n",
    "    print(f'Training Loss: {avg_loss:.4f}, Train MAE: {train_mae:.4f}, Train RMSE: {train_rmse:.4f}, Time: {epoch_duration:.2f} seconds')\n",
    "    return avg_loss, train_mae\n",
    "\n",
    "def evaluate(model, data_loader, criterion, device):\n",
    "    \n",
    "    model.eval()\n",
    "    total_loss = 0\n",
    "    all_preds = []\n",
    "    all_labels = []\n",
    "    \n",
    "    start_time = time.time()\n",
    "    \n",
    "    with torch.no_grad():\n",
    "        for batch in tqdm(data_loader, desc=\"Validation\", unit=\"batch\"):\n",
    "            \n",
    "            inputs = batch['combined_features'].to(device)\n",
    "            norm_target = batch['norm_target'].to(device)\n",
    "            targets = batch['target'].to(device)\n",
    "            \n",
    "            outputs = model(inputs)\n",
    "            \n",
    "            loss = criterion(outputs, norm_target.unsqueeze(1))\n",
    "            total_loss += loss.item()\n",
    "            \n",
    "            outputs = denormalize(outputs)\n",
    "            all_preds.extend(outputs.cpu().tolist())\n",
    "            all_labels.extend(targets.cpu().tolist())\n",
    "    \n",
    "\n",
    "    avg_loss = total_loss/len(data_loader)\n",
    "    val_mae = mean_absolute_error(all_labels, all_preds)\n",
    "    val_rmse = rmse(all_labels, all_preds)\n",
    "\n",
    "    end_time = time.time()  \n",
    "    epoch_duration = end_time - start_time  \n",
    "    \n",
    "    print(f'Validation Loss: {avg_loss:.4f}, Validation MAE: {val_mae:.4f}, Validation RMSE: {val_rmse:.4f}, Time: {epoch_duration:.2f} seconds')\n",
    "    \n",
    "    return avg_loss, val_mae"
   ]
  },
  {
   "cell_type": "code",
   "execution_count": 24,
   "id": "e9a90ac0-2c5e-4ced-a822-694fc2241be0",
   "metadata": {
    "scrolled": true,
    "tags": []
   },
   "outputs": [
    {
     "name": "stdout",
     "output_type": "stream",
     "text": [
      "Epoch 1/50\n"
     ]
    },
    {
     "name": "stderr",
     "output_type": "stream",
     "text": [
      "Training: 100%|██████████████████████████████████████████████████████████████████| 561/561 [00:03<00:00, 170.15batch/s]\n"
     ]
    },
    {
     "name": "stdout",
     "output_type": "stream",
     "text": [
      "Training Loss: 0.0301, Train MAE: 93.7624, Train RMSE: 139.2252, Time: 3.33 seconds\n"
     ]
    },
    {
     "name": "stderr",
     "output_type": "stream",
     "text": [
      "Validation: 100%|██████████████████████████████████████████████████████████████████| 72/72 [00:00<00:00, 543.32batch/s]\n"
     ]
    },
    {
     "name": "stdout",
     "output_type": "stream",
     "text": [
      "Validation Loss: 0.1213, Validation MAE: 59.8697, Validation RMSE: 280.4562, Time: 0.14 seconds\n",
      "Best model saved with validation MAE: 59.8697\n",
      "----------------------------------------------------------------------------------------------------\n",
      "Epoch 2/50\n"
     ]
    },
    {
     "name": "stderr",
     "output_type": "stream",
     "text": [
      "Training: 100%|██████████████████████████████████████████████████████████████████| 561/561 [00:03<00:00, 173.27batch/s]\n"
     ]
    },
    {
     "name": "stdout",
     "output_type": "stream",
     "text": [
      "Training Loss: 0.0093, Train MAE: 48.7780, Train RMSE: 77.3471, Time: 3.27 seconds\n"
     ]
    },
    {
     "name": "stderr",
     "output_type": "stream",
     "text": [
      "Validation: 100%|██████████████████████████████████████████████████████████████████| 72/72 [00:00<00:00, 486.38batch/s]\n"
     ]
    },
    {
     "name": "stdout",
     "output_type": "stream",
     "text": [
      "Validation Loss: 0.1212, Validation MAE: 55.2516, Validation RMSE: 280.6017, Time: 0.16 seconds\n",
      "Best model saved with validation MAE: 55.2516\n",
      "----------------------------------------------------------------------------------------------------\n",
      "Epoch 3/50\n"
     ]
    },
    {
     "name": "stderr",
     "output_type": "stream",
     "text": [
      "Training: 100%|██████████████████████████████████████████████████████████████████| 561/561 [00:04<00:00, 122.27batch/s]\n"
     ]
    },
    {
     "name": "stdout",
     "output_type": "stream",
     "text": [
      "Training Loss: 0.0083, Train MAE: 45.2995, Train RMSE: 73.2129, Time: 4.62 seconds\n"
     ]
    },
    {
     "name": "stderr",
     "output_type": "stream",
     "text": [
      "Validation: 100%|██████████████████████████████████████████████████████████████████| 72/72 [00:00<00:00, 505.21batch/s]\n"
     ]
    },
    {
     "name": "stdout",
     "output_type": "stream",
     "text": [
      "Validation Loss: 0.1198, Validation MAE: 53.9530, Validation RMSE: 278.9222, Time: 0.15 seconds\n",
      "Best model saved with validation MAE: 53.9530\n",
      "----------------------------------------------------------------------------------------------------\n",
      "Epoch 4/50\n"
     ]
    },
    {
     "name": "stderr",
     "output_type": "stream",
     "text": [
      "Training: 100%|██████████████████████████████████████████████████████████████████| 561/561 [00:04<00:00, 124.47batch/s]\n"
     ]
    },
    {
     "name": "stdout",
     "output_type": "stream",
     "text": [
      "Training Loss: 0.0081, Train MAE: 44.4819, Train RMSE: 72.1780, Time: 4.54 seconds\n"
     ]
    },
    {
     "name": "stderr",
     "output_type": "stream",
     "text": [
      "Validation: 100%|██████████████████████████████████████████████████████████████████| 72/72 [00:00<00:00, 539.28batch/s]\n"
     ]
    },
    {
     "name": "stdout",
     "output_type": "stream",
     "text": [
      "Validation Loss: 0.1204, Validation MAE: 53.6960, Validation RMSE: 279.6000, Time: 0.14 seconds\n",
      "Best model saved with validation MAE: 53.6960\n",
      "----------------------------------------------------------------------------------------------------\n",
      "Epoch 5/50\n"
     ]
    },
    {
     "name": "stderr",
     "output_type": "stream",
     "text": [
      "Training: 100%|██████████████████████████████████████████████████████████████████| 561/561 [00:03<00:00, 174.80batch/s]\n"
     ]
    },
    {
     "name": "stdout",
     "output_type": "stream",
     "text": [
      "Training Loss: 0.0080, Train MAE: 44.3000, Train RMSE: 71.8017, Time: 3.24 seconds\n"
     ]
    },
    {
     "name": "stderr",
     "output_type": "stream",
     "text": [
      "Validation: 100%|██████████████████████████████████████████████████████████████████| 72/72 [00:00<00:00, 551.66batch/s]\n"
     ]
    },
    {
     "name": "stdout",
     "output_type": "stream",
     "text": [
      "Validation Loss: 0.1210, Validation MAE: 54.2075, Validation RMSE: 278.7658, Time: 0.14 seconds\n",
      "----------------------------------------------------------------------------------------------------\n",
      "Epoch 6/50\n"
     ]
    },
    {
     "name": "stderr",
     "output_type": "stream",
     "text": [
      "Training: 100%|██████████████████████████████████████████████████████████████████| 561/561 [00:03<00:00, 163.18batch/s]\n"
     ]
    },
    {
     "name": "stdout",
     "output_type": "stream",
     "text": [
      "Training Loss: 0.0074, Train MAE: 42.7206, Train RMSE: 69.2564, Time: 3.47 seconds\n"
     ]
    },
    {
     "name": "stderr",
     "output_type": "stream",
     "text": [
      "Validation: 100%|██████████████████████████████████████████████████████████████████| 72/72 [00:00<00:00, 491.39batch/s]\n"
     ]
    },
    {
     "name": "stdout",
     "output_type": "stream",
     "text": [
      "Validation Loss: 0.1200, Validation MAE: 52.2260, Validation RMSE: 278.5433, Time: 0.15 seconds\n",
      "Best model saved with validation MAE: 52.2260\n",
      "----------------------------------------------------------------------------------------------------\n",
      "Epoch 7/50\n"
     ]
    },
    {
     "name": "stderr",
     "output_type": "stream",
     "text": [
      "Training: 100%|██████████████████████████████████████████████████████████████████| 561/561 [00:03<00:00, 147.99batch/s]\n"
     ]
    },
    {
     "name": "stdout",
     "output_type": "stream",
     "text": [
      "Training Loss: 0.0074, Train MAE: 42.8565, Train RMSE: 69.1845, Time: 3.83 seconds\n"
     ]
    },
    {
     "name": "stderr",
     "output_type": "stream",
     "text": [
      "Validation: 100%|██████████████████████████████████████████████████████████████████| 72/72 [00:00<00:00, 543.31batch/s]\n"
     ]
    },
    {
     "name": "stdout",
     "output_type": "stream",
     "text": [
      "Validation Loss: 0.1200, Validation MAE: 51.7789, Validation RMSE: 279.0835, Time: 0.14 seconds\n",
      "Best model saved with validation MAE: 51.7789\n",
      "----------------------------------------------------------------------------------------------------\n",
      "Epoch 8/50\n"
     ]
    },
    {
     "name": "stderr",
     "output_type": "stream",
     "text": [
      "Training: 100%|██████████████████████████████████████████████████████████████████| 561/561 [00:03<00:00, 166.17batch/s]\n"
     ]
    },
    {
     "name": "stdout",
     "output_type": "stream",
     "text": [
      "Training Loss: 0.0072, Train MAE: 42.1274, Train RMSE: 68.3610, Time: 3.41 seconds\n"
     ]
    },
    {
     "name": "stderr",
     "output_type": "stream",
     "text": [
      "Validation: 100%|██████████████████████████████████████████████████████████████████| 72/72 [00:00<00:00, 547.42batch/s]\n"
     ]
    },
    {
     "name": "stdout",
     "output_type": "stream",
     "text": [
      "Validation Loss: 0.1187, Validation MAE: 52.1607, Validation RMSE: 277.6465, Time: 0.14 seconds\n",
      "----------------------------------------------------------------------------------------------------\n",
      "Epoch 9/50\n"
     ]
    },
    {
     "name": "stderr",
     "output_type": "stream",
     "text": [
      "Training: 100%|██████████████████████████████████████████████████████████████████| 561/561 [00:03<00:00, 179.28batch/s]\n"
     ]
    },
    {
     "name": "stdout",
     "output_type": "stream",
     "text": [
      "Training Loss: 0.0072, Train MAE: 42.3126, Train RMSE: 68.2864, Time: 3.16 seconds\n"
     ]
    },
    {
     "name": "stderr",
     "output_type": "stream",
     "text": [
      "Validation: 100%|██████████████████████████████████████████████████████████████████| 72/72 [00:00<00:00, 527.39batch/s]\n"
     ]
    },
    {
     "name": "stdout",
     "output_type": "stream",
     "text": [
      "Validation Loss: 0.1189, Validation MAE: 52.7686, Validation RMSE: 277.8707, Time: 0.14 seconds\n",
      "----------------------------------------------------------------------------------------------------\n",
      "Epoch 10/50\n"
     ]
    },
    {
     "name": "stderr",
     "output_type": "stream",
     "text": [
      "Training: 100%|██████████████████████████████████████████████████████████████████| 561/561 [00:04<00:00, 134.51batch/s]\n"
     ]
    },
    {
     "name": "stdout",
     "output_type": "stream",
     "text": [
      "Training Loss: 0.0070, Train MAE: 41.3743, Train RMSE: 67.1162, Time: 4.20 seconds\n"
     ]
    },
    {
     "name": "stderr",
     "output_type": "stream",
     "text": [
      "Validation: 100%|██████████████████████████████████████████████████████████████████| 72/72 [00:00<00:00, 491.40batch/s]\n"
     ]
    },
    {
     "name": "stdout",
     "output_type": "stream",
     "text": [
      "Validation Loss: 0.1183, Validation MAE: 51.3325, Validation RMSE: 277.2315, Time: 0.15 seconds\n",
      "Best model saved with validation MAE: 51.3325\n",
      "----------------------------------------------------------------------------------------------------\n",
      "Epoch 11/50\n"
     ]
    },
    {
     "name": "stderr",
     "output_type": "stream",
     "text": [
      "Training: 100%|██████████████████████████████████████████████████████████████████| 561/561 [00:04<00:00, 127.77batch/s]\n"
     ]
    },
    {
     "name": "stdout",
     "output_type": "stream",
     "text": [
      "Training Loss: 0.0069, Train MAE: 41.1639, Train RMSE: 66.8182, Time: 4.42 seconds\n"
     ]
    },
    {
     "name": "stderr",
     "output_type": "stream",
     "text": [
      "Validation: 100%|██████████████████████████████████████████████████████████████████| 72/72 [00:00<00:00, 523.43batch/s]\n"
     ]
    },
    {
     "name": "stdout",
     "output_type": "stream",
     "text": [
      "Validation Loss: 0.1188, Validation MAE: 51.1509, Validation RMSE: 277.6438, Time: 0.15 seconds\n",
      "Best model saved with validation MAE: 51.1509\n",
      "----------------------------------------------------------------------------------------------------\n",
      "Epoch 12/50\n"
     ]
    },
    {
     "name": "stderr",
     "output_type": "stream",
     "text": [
      "Training: 100%|██████████████████████████████████████████████████████████████████| 561/561 [00:03<00:00, 174.69batch/s]\n"
     ]
    },
    {
     "name": "stdout",
     "output_type": "stream",
     "text": [
      "Training Loss: 0.0067, Train MAE: 40.8414, Train RMSE: 65.8548, Time: 3.24 seconds\n"
     ]
    },
    {
     "name": "stderr",
     "output_type": "stream",
     "text": [
      "Validation: 100%|██████████████████████████████████████████████████████████████████| 72/72 [00:00<00:00, 557.99batch/s]\n"
     ]
    },
    {
     "name": "stdout",
     "output_type": "stream",
     "text": [
      "Validation Loss: 0.1182, Validation MAE: 53.0851, Validation RMSE: 277.0104, Time: 0.14 seconds\n",
      "----------------------------------------------------------------------------------------------------\n",
      "Epoch 13/50\n"
     ]
    },
    {
     "name": "stderr",
     "output_type": "stream",
     "text": [
      "Training: 100%|██████████████████████████████████████████████████████████████████| 561/561 [00:03<00:00, 149.52batch/s]\n"
     ]
    },
    {
     "name": "stdout",
     "output_type": "stream",
     "text": [
      "Training Loss: 0.0066, Train MAE: 40.5346, Train RMSE: 65.3054, Time: 3.78 seconds\n"
     ]
    },
    {
     "name": "stderr",
     "output_type": "stream",
     "text": [
      "Validation: 100%|██████████████████████████████████████████████████████████████████| 72/72 [00:00<00:00, 501.69batch/s]\n"
     ]
    },
    {
     "name": "stdout",
     "output_type": "stream",
     "text": [
      "Validation Loss: 0.1180, Validation MAE: 51.1446, Validation RMSE: 276.6667, Time: 0.15 seconds\n",
      "Best model saved with validation MAE: 51.1446\n",
      "----------------------------------------------------------------------------------------------------\n",
      "Epoch 14/50\n"
     ]
    },
    {
     "name": "stderr",
     "output_type": "stream",
     "text": [
      "Training: 100%|██████████████████████████████████████████████████████████████████| 561/561 [00:04<00:00, 139.20batch/s]\n"
     ]
    },
    {
     "name": "stdout",
     "output_type": "stream",
     "text": [
      "Training Loss: 0.0064, Train MAE: 40.1439, Train RMSE: 64.3792, Time: 4.06 seconds\n"
     ]
    },
    {
     "name": "stderr",
     "output_type": "stream",
     "text": [
      "Validation: 100%|██████████████████████████████████████████████████████████████████| 72/72 [00:00<00:00, 535.26batch/s]\n"
     ]
    },
    {
     "name": "stdout",
     "output_type": "stream",
     "text": [
      "Validation Loss: 0.1184, Validation MAE: 50.9377, Validation RMSE: 277.1622, Time: 0.14 seconds\n",
      "Best model saved with validation MAE: 50.9377\n",
      "----------------------------------------------------------------------------------------------------\n",
      "Epoch 15/50\n"
     ]
    },
    {
     "name": "stderr",
     "output_type": "stream",
     "text": [
      "Training: 100%|██████████████████████████████████████████████████████████████████| 561/561 [00:03<00:00, 171.04batch/s]\n"
     ]
    },
    {
     "name": "stdout",
     "output_type": "stream",
     "text": [
      "Training Loss: 0.0064, Train MAE: 39.9626, Train RMSE: 64.3559, Time: 3.31 seconds\n"
     ]
    },
    {
     "name": "stderr",
     "output_type": "stream",
     "text": [
      "Validation: 100%|██████████████████████████████████████████████████████████████████| 72/72 [00:00<00:00, 545.30batch/s]\n"
     ]
    },
    {
     "name": "stdout",
     "output_type": "stream",
     "text": [
      "Validation Loss: 0.1186, Validation MAE: 50.2738, Validation RMSE: 277.4606, Time: 0.14 seconds\n",
      "Best model saved with validation MAE: 50.2738\n",
      "----------------------------------------------------------------------------------------------------\n",
      "Epoch 16/50\n"
     ]
    },
    {
     "name": "stderr",
     "output_type": "stream",
     "text": [
      "Training: 100%|██████████████████████████████████████████████████████████████████| 561/561 [00:03<00:00, 181.24batch/s]\n"
     ]
    },
    {
     "name": "stdout",
     "output_type": "stream",
     "text": [
      "Training Loss: 0.0065, Train MAE: 40.2525, Train RMSE: 64.5906, Time: 3.13 seconds\n"
     ]
    },
    {
     "name": "stderr",
     "output_type": "stream",
     "text": [
      "Validation: 100%|██████████████████████████████████████████████████████████████████| 72/72 [00:00<00:00, 519.79batch/s]\n"
     ]
    },
    {
     "name": "stdout",
     "output_type": "stream",
     "text": [
      "Validation Loss: 0.1189, Validation MAE: 51.6383, Validation RMSE: 277.7991, Time: 0.15 seconds\n",
      "----------------------------------------------------------------------------------------------------\n",
      "Epoch 17/50\n"
     ]
    },
    {
     "name": "stderr",
     "output_type": "stream",
     "text": [
      "Training: 100%|██████████████████████████████████████████████████████████████████| 561/561 [00:04<00:00, 120.07batch/s]\n"
     ]
    },
    {
     "name": "stdout",
     "output_type": "stream",
     "text": [
      "Training Loss: 0.0062, Train MAE: 39.6263, Train RMSE: 63.4793, Time: 4.71 seconds\n"
     ]
    },
    {
     "name": "stderr",
     "output_type": "stream",
     "text": [
      "Validation: 100%|██████████████████████████████████████████████████████████████████| 72/72 [00:00<00:00, 519.10batch/s]\n"
     ]
    },
    {
     "name": "stdout",
     "output_type": "stream",
     "text": [
      "Validation Loss: 0.1184, Validation MAE: 50.8234, Validation RMSE: 277.2400, Time: 0.15 seconds\n",
      "----------------------------------------------------------------------------------------------------\n",
      "Epoch 18/50\n"
     ]
    },
    {
     "name": "stderr",
     "output_type": "stream",
     "text": [
      "Training: 100%|██████████████████████████████████████████████████████████████████| 561/561 [00:04<00:00, 137.60batch/s]\n"
     ]
    },
    {
     "name": "stdout",
     "output_type": "stream",
     "text": [
      "Training Loss: 0.0060, Train MAE: 38.9443, Train RMSE: 62.4231, Time: 4.11 seconds\n"
     ]
    },
    {
     "name": "stderr",
     "output_type": "stream",
     "text": [
      "Validation: 100%|██████████████████████████████████████████████████████████████████| 72/72 [00:00<00:00, 531.27batch/s]\n"
     ]
    },
    {
     "name": "stdout",
     "output_type": "stream",
     "text": [
      "Validation Loss: 0.1179, Validation MAE: 50.7314, Validation RMSE: 276.7747, Time: 0.14 seconds\n",
      "----------------------------------------------------------------------------------------------------\n",
      "Epoch 19/50\n"
     ]
    },
    {
     "name": "stderr",
     "output_type": "stream",
     "text": [
      "Training: 100%|██████████████████████████████████████████████████████████████████| 561/561 [00:03<00:00, 175.76batch/s]\n"
     ]
    },
    {
     "name": "stdout",
     "output_type": "stream",
     "text": [
      "Training Loss: 0.0061, Train MAE: 39.3935, Train RMSE: 62.6768, Time: 3.22 seconds\n"
     ]
    },
    {
     "name": "stderr",
     "output_type": "stream",
     "text": [
      "Validation: 100%|██████████████████████████████████████████████████████████████████| 72/72 [00:00<00:00, 527.43batch/s]\n"
     ]
    },
    {
     "name": "stdout",
     "output_type": "stream",
     "text": [
      "Validation Loss: 0.1188, Validation MAE: 52.0653, Validation RMSE: 277.7837, Time: 0.14 seconds\n",
      "----------------------------------------------------------------------------------------------------\n",
      "Epoch 20/50\n"
     ]
    },
    {
     "name": "stderr",
     "output_type": "stream",
     "text": [
      "Training: 100%|██████████████████████████████████████████████████████████████████| 561/561 [00:03<00:00, 153.34batch/s]\n"
     ]
    },
    {
     "name": "stdout",
     "output_type": "stream",
     "text": [
      "Training Loss: 0.0061, Train MAE: 39.3546, Train RMSE: 62.7950, Time: 3.69 seconds\n"
     ]
    },
    {
     "name": "stderr",
     "output_type": "stream",
     "text": [
      "Validation: 100%|██████████████████████████████████████████████████████████████████| 72/72 [00:00<00:00, 557.62batch/s]\n"
     ]
    },
    {
     "name": "stdout",
     "output_type": "stream",
     "text": [
      "Validation Loss: 0.1178, Validation MAE: 50.6947, Validation RMSE: 276.5936, Time: 0.14 seconds\n",
      "----------------------------------------------------------------------------------------------------\n",
      "Epoch 21/50\n"
     ]
    },
    {
     "name": "stderr",
     "output_type": "stream",
     "text": [
      "Training: 100%|██████████████████████████████████████████████████████████████████| 561/561 [00:04<00:00, 137.19batch/s]\n"
     ]
    },
    {
     "name": "stdout",
     "output_type": "stream",
     "text": [
      "Training Loss: 0.0059, Train MAE: 38.8256, Train RMSE: 61.5774, Time: 4.12 seconds\n"
     ]
    },
    {
     "name": "stderr",
     "output_type": "stream",
     "text": [
      "Validation: 100%|██████████████████████████████████████████████████████████████████| 72/72 [00:00<00:00, 551.69batch/s]\n"
     ]
    },
    {
     "name": "stdout",
     "output_type": "stream",
     "text": [
      "Validation Loss: 0.1175, Validation MAE: 51.3237, Validation RMSE: 276.2944, Time: 0.14 seconds\n",
      "----------------------------------------------------------------------------------------------------\n",
      "Epoch 22/50\n"
     ]
    },
    {
     "name": "stderr",
     "output_type": "stream",
     "text": [
      "Training: 100%|██████████████████████████████████████████████████████████████████| 561/561 [00:03<00:00, 165.98batch/s]\n"
     ]
    },
    {
     "name": "stdout",
     "output_type": "stream",
     "text": [
      "Training Loss: 0.0059, Train MAE: 38.8025, Train RMSE: 61.8768, Time: 3.41 seconds\n"
     ]
    },
    {
     "name": "stderr",
     "output_type": "stream",
     "text": [
      "Validation: 100%|██████████████████████████████████████████████████████████████████| 72/72 [00:00<00:00, 539.24batch/s]\n"
     ]
    },
    {
     "name": "stdout",
     "output_type": "stream",
     "text": [
      "Validation Loss: 0.1179, Validation MAE: 53.6375, Validation RMSE: 276.6250, Time: 0.14 seconds\n",
      "----------------------------------------------------------------------------------------------------\n",
      "Epoch 23/50\n"
     ]
    },
    {
     "name": "stderr",
     "output_type": "stream",
     "text": [
      "Training: 100%|██████████████████████████████████████████████████████████████████| 561/561 [00:03<00:00, 185.70batch/s]\n"
     ]
    },
    {
     "name": "stdout",
     "output_type": "stream",
     "text": [
      "Training Loss: 0.0059, Train MAE: 39.0472, Train RMSE: 61.9343, Time: 3.05 seconds\n"
     ]
    },
    {
     "name": "stderr",
     "output_type": "stream",
     "text": [
      "Validation: 100%|██████████████████████████████████████████████████████████████████| 72/72 [00:00<00:00, 508.75batch/s]\n"
     ]
    },
    {
     "name": "stdout",
     "output_type": "stream",
     "text": [
      "Validation Loss: 0.1183, Validation MAE: 52.8624, Validation RMSE: 277.1772, Time: 0.15 seconds\n",
      "----------------------------------------------------------------------------------------------------\n",
      "Epoch 24/50\n"
     ]
    },
    {
     "name": "stderr",
     "output_type": "stream",
     "text": [
      "Training: 100%|██████████████████████████████████████████████████████████████████| 561/561 [00:03<00:00, 147.75batch/s]\n"
     ]
    },
    {
     "name": "stdout",
     "output_type": "stream",
     "text": [
      "Training Loss: 0.0057, Train MAE: 38.5273, Train RMSE: 60.6630, Time: 3.83 seconds\n"
     ]
    },
    {
     "name": "stderr",
     "output_type": "stream",
     "text": [
      "Validation: 100%|██████████████████████████████████████████████████████████████████| 72/72 [00:00<00:00, 531.30batch/s]\n"
     ]
    },
    {
     "name": "stdout",
     "output_type": "stream",
     "text": [
      "Validation Loss: 0.1176, Validation MAE: 51.7838, Validation RMSE: 276.4161, Time: 0.14 seconds\n",
      "----------------------------------------------------------------------------------------------------\n",
      "Epoch 25/50\n"
     ]
    },
    {
     "name": "stderr",
     "output_type": "stream",
     "text": [
      "Training: 100%|██████████████████████████████████████████████████████████████████| 561/561 [00:03<00:00, 147.79batch/s]\n"
     ]
    },
    {
     "name": "stdout",
     "output_type": "stream",
     "text": [
      "Training Loss: 0.0056, Train MAE: 38.0998, Train RMSE: 60.0866, Time: 3.83 seconds\n"
     ]
    },
    {
     "name": "stderr",
     "output_type": "stream",
     "text": [
      "Validation: 100%|██████████████████████████████████████████████████████████████████| 72/72 [00:00<00:00, 547.44batch/s]\n"
     ]
    },
    {
     "name": "stdout",
     "output_type": "stream",
     "text": [
      "Validation Loss: 0.1171, Validation MAE: 52.3527, Validation RMSE: 275.7460, Time: 0.14 seconds\n",
      "----------------------------------------------------------------------------------------------------\n",
      "Epoch 26/50\n"
     ]
    },
    {
     "name": "stderr",
     "output_type": "stream",
     "text": [
      "Training: 100%|██████████████████████████████████████████████████████████████████| 561/561 [00:03<00:00, 176.65batch/s]\n"
     ]
    },
    {
     "name": "stdout",
     "output_type": "stream",
     "text": [
      "Training Loss: 0.0057, Train MAE: 38.5418, Train RMSE: 60.4929, Time: 3.21 seconds\n"
     ]
    },
    {
     "name": "stderr",
     "output_type": "stream",
     "text": [
      "Validation: 100%|██████████████████████████████████████████████████████████████████| 72/72 [00:00<00:00, 555.90batch/s]\n"
     ]
    },
    {
     "name": "stdout",
     "output_type": "stream",
     "text": [
      "Validation Loss: 0.1176, Validation MAE: 51.3783, Validation RMSE: 276.3436, Time: 0.14 seconds\n",
      "----------------------------------------------------------------------------------------------------\n",
      "Epoch 27/50\n"
     ]
    },
    {
     "name": "stderr",
     "output_type": "stream",
     "text": [
      "Training: 100%|██████████████████████████████████████████████████████████████████| 561/561 [00:03<00:00, 172.19batch/s]\n"
     ]
    },
    {
     "name": "stdout",
     "output_type": "stream",
     "text": [
      "Training Loss: 0.0056, Train MAE: 38.0819, Train RMSE: 60.0211, Time: 3.29 seconds\n"
     ]
    },
    {
     "name": "stderr",
     "output_type": "stream",
     "text": [
      "Validation: 100%|██████████████████████████████████████████████████████████████████| 72/72 [00:00<00:00, 504.20batch/s]\n"
     ]
    },
    {
     "name": "stdout",
     "output_type": "stream",
     "text": [
      "Validation Loss: 0.1192, Validation MAE: 51.3862, Validation RMSE: 278.2957, Time: 0.15 seconds\n",
      "----------------------------------------------------------------------------------------------------\n",
      "Epoch 28/50\n"
     ]
    },
    {
     "name": "stderr",
     "output_type": "stream",
     "text": [
      "Training: 100%|██████████████████████████████████████████████████████████████████| 561/561 [00:03<00:00, 163.60batch/s]\n"
     ]
    },
    {
     "name": "stdout",
     "output_type": "stream",
     "text": [
      "Training Loss: 0.0054, Train MAE: 37.2941, Train RMSE: 58.8140, Time: 3.46 seconds\n"
     ]
    },
    {
     "name": "stderr",
     "output_type": "stream",
     "text": [
      "Validation: 100%|██████████████████████████████████████████████████████████████████| 72/72 [00:00<00:00, 529.29batch/s]\n"
     ]
    },
    {
     "name": "stdout",
     "output_type": "stream",
     "text": [
      "Validation Loss: 0.1182, Validation MAE: 51.4588, Validation RMSE: 277.0825, Time: 0.14 seconds\n",
      "----------------------------------------------------------------------------------------------------\n",
      "Epoch 29/50\n"
     ]
    },
    {
     "name": "stderr",
     "output_type": "stream",
     "text": [
      "Training: 100%|██████████████████████████████████████████████████████████████████| 561/561 [00:03<00:00, 169.81batch/s]\n"
     ]
    },
    {
     "name": "stdout",
     "output_type": "stream",
     "text": [
      "Training Loss: 0.0056, Train MAE: 38.0063, Train RMSE: 60.3610, Time: 3.34 seconds\n"
     ]
    },
    {
     "name": "stderr",
     "output_type": "stream",
     "text": [
      "Validation: 100%|██████████████████████████████████████████████████████████████████| 72/72 [00:00<00:00, 533.19batch/s]\n"
     ]
    },
    {
     "name": "stdout",
     "output_type": "stream",
     "text": [
      "Validation Loss: 0.1180, Validation MAE: 52.0319, Validation RMSE: 276.8269, Time: 0.14 seconds\n",
      "----------------------------------------------------------------------------------------------------\n",
      "Epoch 30/50\n"
     ]
    },
    {
     "name": "stderr",
     "output_type": "stream",
     "text": [
      "Training: 100%|██████████████████████████████████████████████████████████████████| 561/561 [00:03<00:00, 179.91batch/s]\n"
     ]
    },
    {
     "name": "stdout",
     "output_type": "stream",
     "text": [
      "Training Loss: 0.0055, Train MAE: 37.8996, Train RMSE: 59.6829, Time: 3.15 seconds\n"
     ]
    },
    {
     "name": "stderr",
     "output_type": "stream",
     "text": [
      "Validation: 100%|██████████████████████████████████████████████████████████████████| 72/72 [00:00<00:00, 555.91batch/s]\n"
     ]
    },
    {
     "name": "stdout",
     "output_type": "stream",
     "text": [
      "Validation Loss: 0.1173, Validation MAE: 51.1603, Validation RMSE: 276.0247, Time: 0.14 seconds\n",
      "----------------------------------------------------------------------------------------------------\n",
      "Epoch 31/50\n"
     ]
    },
    {
     "name": "stderr",
     "output_type": "stream",
     "text": [
      "Training: 100%|██████████████████████████████████████████████████████████████████| 561/561 [00:03<00:00, 168.48batch/s]\n"
     ]
    },
    {
     "name": "stdout",
     "output_type": "stream",
     "text": [
      "Training Loss: 0.0053, Train MAE: 37.3026, Train RMSE: 58.5227, Time: 3.36 seconds\n"
     ]
    },
    {
     "name": "stderr",
     "output_type": "stream",
     "text": [
      "Validation: 100%|██████████████████████████████████████████████████████████████████| 72/72 [00:00<00:00, 521.82batch/s]\n"
     ]
    },
    {
     "name": "stdout",
     "output_type": "stream",
     "text": [
      "Validation Loss: 0.1174, Validation MAE: 51.5893, Validation RMSE: 276.1093, Time: 0.14 seconds\n",
      "----------------------------------------------------------------------------------------------------\n",
      "Epoch 32/50\n"
     ]
    },
    {
     "name": "stderr",
     "output_type": "stream",
     "text": [
      "Training: 100%|██████████████████████████████████████████████████████████████████| 561/561 [00:04<00:00, 136.27batch/s]\n"
     ]
    },
    {
     "name": "stdout",
     "output_type": "stream",
     "text": [
      "Training Loss: 0.0054, Train MAE: 37.5227, Train RMSE: 58.7955, Time: 4.15 seconds\n"
     ]
    },
    {
     "name": "stderr",
     "output_type": "stream",
     "text": [
      "Validation: 100%|██████████████████████████████████████████████████████████████████| 72/72 [00:00<00:00, 535.25batch/s]\n"
     ]
    },
    {
     "name": "stdout",
     "output_type": "stream",
     "text": [
      "Validation Loss: 0.1185, Validation MAE: 52.2091, Validation RMSE: 277.2760, Time: 0.14 seconds\n",
      "----------------------------------------------------------------------------------------------------\n",
      "Epoch 33/50\n"
     ]
    },
    {
     "name": "stderr",
     "output_type": "stream",
     "text": [
      "Training: 100%|██████████████████████████████████████████████████████████████████| 561/561 [00:03<00:00, 159.64batch/s]\n"
     ]
    },
    {
     "name": "stdout",
     "output_type": "stream",
     "text": [
      "Training Loss: 0.0053, Train MAE: 37.2903, Train RMSE: 58.4489, Time: 3.55 seconds\n"
     ]
    },
    {
     "name": "stderr",
     "output_type": "stream",
     "text": [
      "Validation: 100%|██████████████████████████████████████████████████████████████████| 72/72 [00:00<00:00, 535.26batch/s]\n"
     ]
    },
    {
     "name": "stdout",
     "output_type": "stream",
     "text": [
      "Validation Loss: 0.1179, Validation MAE: 53.3705, Validation RMSE: 276.5889, Time: 0.14 seconds\n",
      "----------------------------------------------------------------------------------------------------\n",
      "Epoch 34/50\n"
     ]
    },
    {
     "name": "stderr",
     "output_type": "stream",
     "text": [
      "Training: 100%|██████████████████████████████████████████████████████████████████| 561/561 [00:03<00:00, 176.80batch/s]\n"
     ]
    },
    {
     "name": "stdout",
     "output_type": "stream",
     "text": [
      "Training Loss: 0.0053, Train MAE: 37.0449, Train RMSE: 58.2713, Time: 3.21 seconds\n"
     ]
    },
    {
     "name": "stderr",
     "output_type": "stream",
     "text": [
      "Validation: 100%|██████████████████████████████████████████████████████████████████| 72/72 [00:00<00:00, 580.51batch/s]\n"
     ]
    },
    {
     "name": "stdout",
     "output_type": "stream",
     "text": [
      "Validation Loss: 0.1185, Validation MAE: 55.4305, Validation RMSE: 277.4016, Time: 0.13 seconds\n",
      "----------------------------------------------------------------------------------------------------\n",
      "Epoch 35/50\n"
     ]
    },
    {
     "name": "stderr",
     "output_type": "stream",
     "text": [
      "Training: 100%|██████████████████████████████████████████████████████████████████| 561/561 [00:02<00:00, 191.45batch/s]\n"
     ]
    },
    {
     "name": "stdout",
     "output_type": "stream",
     "text": [
      "Training Loss: 0.0052, Train MAE: 36.9528, Train RMSE: 57.8889, Time: 2.96 seconds\n"
     ]
    },
    {
     "name": "stderr",
     "output_type": "stream",
     "text": [
      "Validation: 100%|██████████████████████████████████████████████████████████████████| 72/72 [00:00<00:00, 533.20batch/s]\n"
     ]
    },
    {
     "name": "stdout",
     "output_type": "stream",
     "text": [
      "Validation Loss: 0.1176, Validation MAE: 52.7476, Validation RMSE: 276.4343, Time: 0.14 seconds\n",
      "----------------------------------------------------------------------------------------------------\n",
      "Epoch 36/50\n"
     ]
    },
    {
     "name": "stderr",
     "output_type": "stream",
     "text": [
      "Training: 100%|██████████████████████████████████████████████████████████████████| 561/561 [00:03<00:00, 185.06batch/s]\n"
     ]
    },
    {
     "name": "stdout",
     "output_type": "stream",
     "text": [
      "Training Loss: 0.0051, Train MAE: 36.8316, Train RMSE: 57.6105, Time: 3.06 seconds\n"
     ]
    },
    {
     "name": "stderr",
     "output_type": "stream",
     "text": [
      "Validation: 100%|██████████████████████████████████████████████████████████████████| 72/72 [00:00<00:00, 529.25batch/s]\n"
     ]
    },
    {
     "name": "stdout",
     "output_type": "stream",
     "text": [
      "Validation Loss: 0.1182, Validation MAE: 50.4375, Validation RMSE: 277.0663, Time: 0.14 seconds\n",
      "----------------------------------------------------------------------------------------------------\n",
      "Epoch 37/50\n"
     ]
    },
    {
     "name": "stderr",
     "output_type": "stream",
     "text": [
      "Training: 100%|██████████████████████████████████████████████████████████████████| 561/561 [00:02<00:00, 189.71batch/s]\n"
     ]
    },
    {
     "name": "stdout",
     "output_type": "stream",
     "text": [
      "Training Loss: 0.0051, Train MAE: 36.7943, Train RMSE: 57.4993, Time: 2.99 seconds\n"
     ]
    },
    {
     "name": "stderr",
     "output_type": "stream",
     "text": [
      "Validation: 100%|██████████████████████████████████████████████████████████████████| 72/72 [00:00<00:00, 501.68batch/s]\n"
     ]
    },
    {
     "name": "stdout",
     "output_type": "stream",
     "text": [
      "Validation Loss: 0.1181, Validation MAE: 53.0529, Validation RMSE: 276.9668, Time: 0.15 seconds\n",
      "----------------------------------------------------------------------------------------------------\n",
      "Epoch 38/50\n"
     ]
    },
    {
     "name": "stderr",
     "output_type": "stream",
     "text": [
      "Training: 100%|██████████████████████████████████████████████████████████████████| 561/561 [00:02<00:00, 198.62batch/s]\n"
     ]
    },
    {
     "name": "stdout",
     "output_type": "stream",
     "text": [
      "Training Loss: 0.0050, Train MAE: 36.5258, Train RMSE: 56.8315, Time: 2.86 seconds\n"
     ]
    },
    {
     "name": "stderr",
     "output_type": "stream",
     "text": [
      "Validation: 100%|██████████████████████████████████████████████████████████████████| 72/72 [00:00<00:00, 531.31batch/s]\n"
     ]
    },
    {
     "name": "stdout",
     "output_type": "stream",
     "text": [
      "Validation Loss: 0.1179, Validation MAE: 50.2266, Validation RMSE: 276.7844, Time: 0.14 seconds\n",
      "Best model saved with validation MAE: 50.2266\n",
      "----------------------------------------------------------------------------------------------------\n",
      "Epoch 39/50\n"
     ]
    },
    {
     "name": "stderr",
     "output_type": "stream",
     "text": [
      "Training: 100%|██████████████████████████████████████████████████████████████████| 561/561 [00:03<00:00, 164.96batch/s]\n"
     ]
    },
    {
     "name": "stdout",
     "output_type": "stream",
     "text": [
      "Training Loss: 0.0051, Train MAE: 36.8780, Train RMSE: 57.5428, Time: 3.44 seconds\n"
     ]
    },
    {
     "name": "stderr",
     "output_type": "stream",
     "text": [
      "Validation: 100%|██████████████████████████████████████████████████████████████████| 72/72 [00:00<00:00, 512.42batch/s]\n"
     ]
    },
    {
     "name": "stdout",
     "output_type": "stream",
     "text": [
      "Validation Loss: 0.1185, Validation MAE: 50.8972, Validation RMSE: 277.4789, Time: 0.15 seconds\n",
      "----------------------------------------------------------------------------------------------------\n",
      "Epoch 40/50\n"
     ]
    },
    {
     "name": "stderr",
     "output_type": "stream",
     "text": [
      "Training: 100%|██████████████████████████████████████████████████████████████████| 561/561 [00:03<00:00, 160.71batch/s]\n"
     ]
    },
    {
     "name": "stdout",
     "output_type": "stream",
     "text": [
      "Training Loss: 0.0049, Train MAE: 36.1142, Train RMSE: 56.0536, Time: 3.52 seconds\n"
     ]
    },
    {
     "name": "stderr",
     "output_type": "stream",
     "text": [
      "Validation: 100%|██████████████████████████████████████████████████████████████████| 72/72 [00:00<00:00, 494.64batch/s]\n"
     ]
    },
    {
     "name": "stdout",
     "output_type": "stream",
     "text": [
      "Validation Loss: 0.1181, Validation MAE: 51.4134, Validation RMSE: 276.7336, Time: 0.15 seconds\n",
      "----------------------------------------------------------------------------------------------------\n",
      "Epoch 41/50\n"
     ]
    },
    {
     "name": "stderr",
     "output_type": "stream",
     "text": [
      "Training: 100%|██████████████████████████████████████████████████████████████████| 561/561 [00:03<00:00, 184.08batch/s]\n"
     ]
    },
    {
     "name": "stdout",
     "output_type": "stream",
     "text": [
      "Training Loss: 0.0051, Train MAE: 36.8139, Train RMSE: 57.4192, Time: 3.08 seconds\n"
     ]
    },
    {
     "name": "stderr",
     "output_type": "stream",
     "text": [
      "Validation: 100%|██████████████████████████████████████████████████████████████████| 72/72 [00:00<00:00, 543.34batch/s]\n"
     ]
    },
    {
     "name": "stdout",
     "output_type": "stream",
     "text": [
      "Validation Loss: 0.1181, Validation MAE: 51.3090, Validation RMSE: 276.9925, Time: 0.14 seconds\n",
      "----------------------------------------------------------------------------------------------------\n",
      "Epoch 42/50\n"
     ]
    },
    {
     "name": "stderr",
     "output_type": "stream",
     "text": [
      "Training: 100%|██████████████████████████████████████████████████████████████████| 561/561 [00:03<00:00, 177.32batch/s]\n"
     ]
    },
    {
     "name": "stdout",
     "output_type": "stream",
     "text": [
      "Training Loss: 0.0051, Train MAE: 36.9016, Train RMSE: 57.3595, Time: 3.20 seconds\n"
     ]
    },
    {
     "name": "stderr",
     "output_type": "stream",
     "text": [
      "Validation: 100%|██████████████████████████████████████████████████████████████████| 72/72 [00:00<00:00, 483.29batch/s]\n"
     ]
    },
    {
     "name": "stdout",
     "output_type": "stream",
     "text": [
      "Validation Loss: 0.1181, Validation MAE: 51.1930, Validation RMSE: 276.9369, Time: 0.15 seconds\n",
      "----------------------------------------------------------------------------------------------------\n",
      "Epoch 43/50\n"
     ]
    },
    {
     "name": "stderr",
     "output_type": "stream",
     "text": [
      "Training: 100%|██████████████████████████████████████████████████████████████████| 561/561 [00:03<00:00, 140.70batch/s]\n"
     ]
    },
    {
     "name": "stdout",
     "output_type": "stream",
     "text": [
      "Training Loss: 0.0051, Train MAE: 36.9107, Train RMSE: 57.5276, Time: 4.02 seconds\n"
     ]
    },
    {
     "name": "stderr",
     "output_type": "stream",
     "text": [
      "Validation: 100%|██████████████████████████████████████████████████████████████████| 72/72 [00:00<00:00, 527.43batch/s]\n"
     ]
    },
    {
     "name": "stdout",
     "output_type": "stream",
     "text": [
      "Validation Loss: 0.1180, Validation MAE: 50.5864, Validation RMSE: 276.7210, Time: 0.14 seconds\n",
      "----------------------------------------------------------------------------------------------------\n",
      "Epoch 44/50\n"
     ]
    },
    {
     "name": "stderr",
     "output_type": "stream",
     "text": [
      "Training: 100%|██████████████████████████████████████████████████████████████████| 561/561 [00:03<00:00, 151.40batch/s]\n"
     ]
    },
    {
     "name": "stdout",
     "output_type": "stream",
     "text": [
      "Training Loss: 0.0050, Train MAE: 36.3493, Train RMSE: 56.5331, Time: 3.74 seconds\n"
     ]
    },
    {
     "name": "stderr",
     "output_type": "stream",
     "text": [
      "Validation: 100%|██████████████████████████████████████████████████████████████████| 72/72 [00:00<00:00, 543.35batch/s]\n"
     ]
    },
    {
     "name": "stdout",
     "output_type": "stream",
     "text": [
      "Validation Loss: 0.1182, Validation MAE: 51.6552, Validation RMSE: 277.0395, Time: 0.14 seconds\n",
      "----------------------------------------------------------------------------------------------------\n",
      "Epoch 45/50\n"
     ]
    },
    {
     "name": "stderr",
     "output_type": "stream",
     "text": [
      "Training: 100%|██████████████████████████████████████████████████████████████████| 561/561 [00:03<00:00, 179.40batch/s]\n"
     ]
    },
    {
     "name": "stdout",
     "output_type": "stream",
     "text": [
      "Training Loss: 0.0048, Train MAE: 35.6793, Train RMSE: 55.5809, Time: 3.16 seconds\n"
     ]
    },
    {
     "name": "stderr",
     "output_type": "stream",
     "text": [
      "Validation: 100%|██████████████████████████████████████████████████████████████████| 72/72 [00:00<00:00, 528.80batch/s]\n"
     ]
    },
    {
     "name": "stdout",
     "output_type": "stream",
     "text": [
      "Validation Loss: 0.1174, Validation MAE: 50.6805, Validation RMSE: 276.1785, Time: 0.14 seconds\n",
      "----------------------------------------------------------------------------------------------------\n",
      "Epoch 46/50\n"
     ]
    },
    {
     "name": "stderr",
     "output_type": "stream",
     "text": [
      "Training: 100%|██████████████████████████████████████████████████████████████████| 561/561 [00:03<00:00, 156.85batch/s]\n"
     ]
    },
    {
     "name": "stdout",
     "output_type": "stream",
     "text": [
      "Training Loss: 0.0050, Train MAE: 36.1223, Train RMSE: 56.6628, Time: 3.61 seconds\n"
     ]
    },
    {
     "name": "stderr",
     "output_type": "stream",
     "text": [
      "Validation: 100%|██████████████████████████████████████████████████████████████████| 72/72 [00:00<00:00, 489.70batch/s]\n"
     ]
    },
    {
     "name": "stdout",
     "output_type": "stream",
     "text": [
      "Validation Loss: 0.1182, Validation MAE: 51.3571, Validation RMSE: 277.0837, Time: 0.15 seconds\n",
      "----------------------------------------------------------------------------------------------------\n",
      "Epoch 47/50\n"
     ]
    },
    {
     "name": "stderr",
     "output_type": "stream",
     "text": [
      "Training: 100%|██████████████████████████████████████████████████████████████████| 561/561 [00:04<00:00, 125.08batch/s]\n"
     ]
    },
    {
     "name": "stdout",
     "output_type": "stream",
     "text": [
      "Training Loss: 0.0049, Train MAE: 36.0795, Train RMSE: 55.9723, Time: 4.52 seconds\n"
     ]
    },
    {
     "name": "stderr",
     "output_type": "stream",
     "text": [
      "Validation: 100%|██████████████████████████████████████████████████████████████████| 72/72 [00:00<00:00, 506.71batch/s]\n"
     ]
    },
    {
     "name": "stdout",
     "output_type": "stream",
     "text": [
      "Validation Loss: 0.1191, Validation MAE: 50.6475, Validation RMSE: 276.8963, Time: 0.15 seconds\n",
      "----------------------------------------------------------------------------------------------------\n",
      "Epoch 48/50\n"
     ]
    },
    {
     "name": "stderr",
     "output_type": "stream",
     "text": [
      "Training: 100%|██████████████████████████████████████████████████████████████████| 561/561 [00:03<00:00, 163.29batch/s]\n"
     ]
    },
    {
     "name": "stdout",
     "output_type": "stream",
     "text": [
      "Training Loss: 0.0049, Train MAE: 36.1648, Train RMSE: 56.1244, Time: 3.47 seconds\n"
     ]
    },
    {
     "name": "stderr",
     "output_type": "stream",
     "text": [
      "Validation: 100%|██████████████████████████████████████████████████████████████████| 72/72 [00:00<00:00, 467.41batch/s]\n"
     ]
    },
    {
     "name": "stdout",
     "output_type": "stream",
     "text": [
      "Validation Loss: 0.1178, Validation MAE: 51.7616, Validation RMSE: 276.6138, Time: 0.16 seconds\n",
      "----------------------------------------------------------------------------------------------------\n",
      "Epoch 49/50\n"
     ]
    },
    {
     "name": "stderr",
     "output_type": "stream",
     "text": [
      "Training: 100%|██████████████████████████████████████████████████████████████████| 561/561 [00:03<00:00, 167.54batch/s]\n"
     ]
    },
    {
     "name": "stdout",
     "output_type": "stream",
     "text": [
      "Training Loss: 0.0048, Train MAE: 35.7612, Train RMSE: 55.7362, Time: 3.38 seconds\n"
     ]
    },
    {
     "name": "stderr",
     "output_type": "stream",
     "text": [
      "Validation: 100%|██████████████████████████████████████████████████████████████████| 72/72 [00:00<00:00, 506.90batch/s]\n"
     ]
    },
    {
     "name": "stdout",
     "output_type": "stream",
     "text": [
      "Validation Loss: 0.1184, Validation MAE: 51.6026, Validation RMSE: 277.2987, Time: 0.15 seconds\n",
      "----------------------------------------------------------------------------------------------------\n",
      "Epoch 50/50\n"
     ]
    },
    {
     "name": "stderr",
     "output_type": "stream",
     "text": [
      "Training: 100%|██████████████████████████████████████████████████████████████████| 561/561 [00:03<00:00, 149.69batch/s]\n"
     ]
    },
    {
     "name": "stdout",
     "output_type": "stream",
     "text": [
      "Training Loss: 0.0050, Train MAE: 36.4263, Train RMSE: 56.5243, Time: 3.78 seconds\n"
     ]
    },
    {
     "name": "stderr",
     "output_type": "stream",
     "text": [
      "Validation: 100%|██████████████████████████████████████████████████████████████████| 72/72 [00:00<00:00, 516.08batch/s]"
     ]
    },
    {
     "name": "stdout",
     "output_type": "stream",
     "text": [
      "Validation Loss: 0.1180, Validation MAE: 51.8092, Validation RMSE: 276.8065, Time: 0.15 seconds\n",
      "----------------------------------------------------------------------------------------------------\n"
     ]
    },
    {
     "name": "stderr",
     "output_type": "stream",
     "text": [
      "\n"
     ]
    }
   ],
   "source": [
    "best_val_loss = float('inf')  \n",
    "best_val_mae = float('inf')              \n",
    "model_save_path = \"9_.pth\"\n",
    "\n",
    "num_epochs = 50\n",
    "\n",
    "train_losses = []\n",
    "val_losses = []\n",
    "train_mae_scores = []\n",
    "val_mae_scores = []\n",
    "\n",
    "for epoch in range(num_epochs):\n",
    "    print(f\"Epoch {epoch + 1}/{num_epochs}\")\n",
    "    \n",
    "    train_loss, train_mae = train(model, train_loader, optimizer, criterion, device)\n",
    "    val_loss, val_mae = evaluate(model, val_loader, criterion, device)\n",
    "    \n",
    "    train_losses.append(train_loss)  \n",
    "    train_mae_scores.append(train_mae)  \n",
    "    val_losses.append(val_loss)  \n",
    "    val_mae_scores.append(val_mae)  \n",
    "    \n",
    "    if val_mae < best_val_mae:\n",
    "        best_val_mae = val_mae\n",
    "        torch.save(model.state_dict(), model_save_path)   \n",
    "        print(f\"Best model saved with validation MAE: {best_val_mae:.4f}\")\n",
    "\n",
    "    print('-' * 100)"
   ]
  },
  {
   "cell_type": "code",
   "execution_count": 25,
   "id": "761458c4-35f6-4bf4-ad8c-aabc72db2a1f",
   "metadata": {},
   "outputs": [
    {
     "name": "stderr",
     "output_type": "stream",
     "text": [
      "Testing: 100%|█████████████████████████████████████████████████████████████████████| 72/72 [00:00<00:00, 523.33batch/s]"
     ]
    },
    {
     "name": "stdout",
     "output_type": "stream",
     "text": [
      "Testing MAE: 46.3191, Testing RMSE: 137.0980, Time: 0.14 seconds\n"
     ]
    },
    {
     "name": "stderr",
     "output_type": "stream",
     "text": [
      "\n"
     ]
    }
   ],
   "source": [
    "model1 = MLPRegressionModel(input_dim=input_dim)\n",
    "model1.to(device)\n",
    "\n",
    "model1.load_state_dict(torch.load(model_save_path))\n",
    "model1.to(device)\n",
    "all_labels = []\n",
    "all_preds = []\n",
    "\n",
    "start_time = time.time()\n",
    "\n",
    "with torch.no_grad():\n",
    "    for batch in tqdm(test_loader, desc=\"Testing\", unit=\"batch\"):\n",
    "\n",
    "        inputs = batch['combined_features'].to(device)\n",
    "        norm_target = batch['norm_target'].to(device)\n",
    "        targets = batch['target'].to(device)\n",
    "\n",
    "        outputs = model(inputs)\n",
    "\n",
    "        loss = criterion(outputs, norm_target.unsqueeze(1))\n",
    "        \n",
    "        outputs = denormalize(outputs)\n",
    "        all_preds.extend(outputs.cpu().tolist())\n",
    "        all_labels.extend(targets.cpu().tolist())\n",
    "        \n",
    "all_labels = np.array(all_labels).flatten()\n",
    "all_preds = np.array(all_preds).flatten()\n",
    "        \n",
    "test_mae = mean_absolute_error(all_labels, all_preds)\n",
    "test_rmse = rmse(all_labels, all_preds)\n",
    "\n",
    "end_time = time.time()  \n",
    "epoch_duration = end_time - start_time\n",
    "\n",
    "print(f'Testing MAE: {test_mae:.4f}, Testing RMSE: {test_rmse:.4f}, Time: {epoch_duration:.2f} seconds')"
   ]
  },
  {
   "cell_type": "code",
   "execution_count": null,
   "id": "9ad0bf18-eb74-4b3d-8981-feb6fae847ca",
   "metadata": {},
   "outputs": [],
   "source": []
  }
 ],
 "metadata": {
  "kernelspec": {
   "display_name": "gputest",
   "language": "python",
   "name": "gputest"
  },
  "language_info": {
   "codemirror_mode": {
    "name": "ipython",
    "version": 3
   },
   "file_extension": ".py",
   "mimetype": "text/x-python",
   "name": "python",
   "nbconvert_exporter": "python",
   "pygments_lexer": "ipython3",
   "version": "3.7.16"
  }
 },
 "nbformat": 4,
 "nbformat_minor": 5
}
